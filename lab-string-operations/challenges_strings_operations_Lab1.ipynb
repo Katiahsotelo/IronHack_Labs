{
 "cells": [
  {
   "cell_type": "code",
   "execution_count": 1,
   "id": "d0fb47b4",
   "metadata": {},
   "outputs": [],
   "source": [
    "#\n",
    "\n",
    "import re"
   ]
  },
  {
   "cell_type": "code",
   "execution_count": 4,
   "id": "4306a921",
   "metadata": {},
   "outputs": [
    {
     "name": "stdout",
     "output_type": "stream",
     "text": [
      "Durante un tiempo no estuvo segura de si su marido era su marido\n"
     ]
    }
   ],
   "source": [
    "# Challenge 1 - Combining Strings\n",
    "str_list = ['Durante', 'un', 'tiempo', 'no', 'estuvo', 'segura', 'de', 'si', 'su', 'marido', 'era', 'su', 'marido']\n",
    "lista_junta  =  ' '.join(str_list)\n",
    "print(lista_junta)"
   ]
  },
  {
   "cell_type": "code",
   "execution_count": 9,
   "id": "bac07a0e",
   "metadata": {},
   "outputs": [
    {
     "name": "stdout",
     "output_type": "stream",
     "text": [
      "Groceries list: bread, broccoli\n"
     ]
    }
   ],
   "source": [
    "food_list = ['Bananas', 'Chocolate', 'bread', 'diapers', 'Ice Cream', 'Brownie Mix', 'broccoli']\n",
    "\n",
    "groceries = []\n",
    "\n",
    "for item in food_list:\n",
    "    if 'b' in item: \n",
    "        groceries.append(item)\n",
    "print('Groceries list:', ', '.join(groceries))\n",
    "    "
   ]
  },
  {
   "cell_type": "code",
   "execution_count": 280,
   "id": "fb25dbd5",
   "metadata": {},
   "outputs": [],
   "source": [
    "#Area del circulo \n",
    "\n",
    "import math\n",
    "\n",
    "string1 = \"The area of the circle with radius:\"\n",
    "string2  = \"is:\"\n",
    "radius = 4.5\n",
    "\n",
    "def area(radius, pi = math.pi):\n",
    "    resultado = pi * (radius**2)\n",
    "    return resultado \n",
    "\n",
    "\n",
    "string1 = \"The area of the circle with radius:\"\n",
    "string2  = \"is:\"\n",
    "radius = 4.5\n",
    "\n",
    "\n"
   ]
  },
  {
   "cell_type": "code",
   "execution_count": 281,
   "id": "e655ab09",
   "metadata": {},
   "outputs": [
    {
     "name": "stdout",
     "output_type": "stream",
     "text": [
      "The area of the circle with radius: 4.5 is: 63.61725123519331\n"
     ]
    }
   ],
   "source": [
    "print(string1, radius ,string2, area (radius) )"
   ]
  },
  {
   "cell_type": "code",
   "execution_count": 137,
   "id": "5195f29b",
   "metadata": {},
   "outputs": [],
   "source": [
    "#challenge 2 \n",
    "#In the cell below, split the string into a list of strings using the space delimiter.\n",
    "#Count the frequency of each word in the string in a dictionary. \n",
    "#Strip the periods, line breaks and commas from the text.\n",
    "#Make sure to remove empty strings from your dictionary.\n",
    "poem = \"\"\"Some say the world will end in fire,\n",
    "Some say in ice.\n",
    "From what I’ve tasted of desire\n",
    "I hold with those who favor fire.\n",
    "But if it had to perish twice,\n",
    "I think I know enough of hate\n",
    "To say that for destruction ice\n",
    "Is also great\n",
    "And would suffice.\"\"\"\n",
    "\n",
    "\n",
    "\n",
    "    "
   ]
  },
  {
   "cell_type": "code",
   "execution_count": 149,
   "id": "0ed6d8c8",
   "metadata": {},
   "outputs": [
    {
     "name": "stdout",
     "output_type": "stream",
     "text": [
      "{'desire': 1, 'great': 1, 'hold': 1, 'fire': 1, 'twice': 1, 'who': 1, 'it': 1, 'ice': 1, 'what': 1, 'if': 1, 'also': 1, 'that': 1, 'from': 1, 'but': 1, 'suffice': 1, 'the': 1, 'know': 1, 'perish': 1, 'had': 1, 'of': 1, 'enough': 1, 'would': 1, 'is': 1, 'world': 1, 'for': 1, 'tasted': 1, 'those': 1, 'favor': 1, 'think': 1, 'destruction': 1, 'some': 1, 'will': 1, 'end': 1, 'in': 1, 'to': 1, 'and': 1, 'i': 1, 'with': 1, 'say': 1, 'hate': 1, 'i’ve': 1}\n"
     ]
    }
   ],
   "source": [
    "\n",
    "poema = poem.replace('\\n',' ')\n",
    "poema1 = poema.replace('.','')\n",
    "poema2 = poema1.lower()\n",
    "poema3 = poema2.replace(',','')\n",
    "key = (poema3.split(' '))\n",
    "word_freq = {key: key.count(key) for key in set(key) }\n",
    "print(word_freq)\n",
    "\n"
   ]
  },
  {
   "cell_type": "code",
   "execution_count": 224,
   "id": "018d85aa",
   "metadata": {},
   "outputs": [],
   "source": [
    "#In the cell below, find all the words that appear in the text and do not appear in the blacklist. \n",
    "#You must parse the string but can choose any data structure you wish for the words \n",
    "#that do not appear in the blacklist. \n",
    "#Remove all non letter characters and convert all words to lower case.\n",
    "\n",
    "blacklist = ['and', 'as', 'an', 'a', 'the', 'in', 'it']\n",
    "\n",
    "poem = \"\"\"I was angry with my friend; \n",
    "I told my wrath, my wrath did end.\n",
    "I was angry with my foe: \n",
    "I told it not, my wrath did grow. \n",
    "\n",
    "And I waterd it in fears,\n",
    "Night & morning with my tears: \n",
    "And I sunned it with smiles,\n",
    "And with soft deceitful wiles. \n",
    "\n",
    "And it grew both day and night. \n",
    "Till it bore an apple bright. \n",
    "And my foe beheld it shine,\n",
    "And he knew that it was mine. \n",
    "\n",
    "And into my garden stole, \n",
    "When the night had veild the pole; \n",
    "In the morning glad I see; \n",
    "My foe outstretched beneath the tree.\"\"\"\n",
    "\n",
    "\n",
    "\n"
   ]
  },
  {
   "cell_type": "code",
   "execution_count": 235,
   "id": "8be1e89f",
   "metadata": {},
   "outputs": [],
   "source": [
    "import re \n",
    "blacklist = ['and', 'as', 'an', 'a', 'the', 'in', 'it']\n",
    "poema = poem.replace('\\n',' ')\n",
    "poema1 = poema.replace('.','')\n",
    "poema2 = poema1.lower()\n",
    "poema3 = poema2.replace(',','')\n",
    "poema4= poema3.replace(';','')\n",
    "poema_lista= (poema3.split(' '))\n",
    "\n",
    "lista_prueba =[i for i in key  if i not in blacklist ]\n",
    "        \n",
    "\n"
   ]
  },
  {
   "cell_type": "code",
   "execution_count": 234,
   "id": "9b3eaede",
   "metadata": {},
   "outputs": [
    {
     "data": {
      "text/plain": [
       "['i',\n",
       " 'was',\n",
       " 'angry',\n",
       " 'with',\n",
       " 'my',\n",
       " 'friend;',\n",
       " '',\n",
       " 'i',\n",
       " 'told',\n",
       " 'my',\n",
       " 'wrath',\n",
       " 'my',\n",
       " 'wrath',\n",
       " 'did',\n",
       " 'end',\n",
       " 'i',\n",
       " 'was',\n",
       " 'angry',\n",
       " 'with',\n",
       " 'my',\n",
       " 'foe:',\n",
       " '',\n",
       " 'i',\n",
       " 'told',\n",
       " 'not',\n",
       " 'my',\n",
       " 'wrath',\n",
       " 'did',\n",
       " 'grow',\n",
       " '',\n",
       " '',\n",
       " 'i',\n",
       " 'waterd',\n",
       " 'fears',\n",
       " 'night',\n",
       " '&',\n",
       " 'morning',\n",
       " 'with',\n",
       " 'my',\n",
       " 'tears:',\n",
       " '',\n",
       " 'i',\n",
       " 'sunned',\n",
       " 'with',\n",
       " 'smiles',\n",
       " 'with',\n",
       " 'soft',\n",
       " 'deceitful',\n",
       " 'wiles',\n",
       " '',\n",
       " '',\n",
       " 'grew',\n",
       " 'both',\n",
       " 'day',\n",
       " 'night',\n",
       " '',\n",
       " 'till',\n",
       " 'bore',\n",
       " 'apple',\n",
       " 'bright',\n",
       " '',\n",
       " 'my',\n",
       " 'foe',\n",
       " 'beheld',\n",
       " 'shine',\n",
       " 'he',\n",
       " 'knew',\n",
       " 'that',\n",
       " 'was',\n",
       " 'mine',\n",
       " '',\n",
       " '',\n",
       " 'into',\n",
       " 'my',\n",
       " 'garden',\n",
       " 'stole',\n",
       " '',\n",
       " 'when',\n",
       " 'night',\n",
       " 'had',\n",
       " 'veild',\n",
       " 'pole;',\n",
       " '',\n",
       " 'morning',\n",
       " 'glad',\n",
       " 'i',\n",
       " 'see;',\n",
       " '',\n",
       " 'my',\n",
       " 'foe',\n",
       " 'outstretched',\n",
       " 'beneath',\n",
       " 'tree']"
      ]
     },
     "execution_count": 234,
     "metadata": {},
     "output_type": "execute_result"
    }
   ],
   "source": [
    "\n",
    "lista_prueba"
   ]
  },
  {
   "cell_type": "code",
   "execution_count": 237,
   "id": "52112415",
   "metadata": {},
   "outputs": [
    {
     "name": "stdout",
     "output_type": "stream",
     "text": [
      "['T', 'P']\n"
     ]
    }
   ],
   "source": [
    "#Challenge 3 - Regular Expressions\n",
    "\n",
    "#Sometimes, we would like to perform more complex manipulations\n",
    "#of our string. This is where regular expressions come in handy.\n",
    "#In the cell below, return all characters that are \n",
    "#upper case from the string specified below.\n",
    "\n",
    "poem = \"\"\"The apparition of these faces in the crowd;\n",
    "Petals on a wet, black bough.\"\"\"\n",
    "\n",
    "\n",
    "print(re.findall('[A-Z]', poem))"
   ]
  },
  {
   "cell_type": "code",
   "execution_count": 5,
   "id": "76c7d48c",
   "metadata": {},
   "outputs": [
    {
     "name": "stdout",
     "output_type": "stream",
     "text": [
      "['123abc', 'abc123', 'JohnSmith1', 'ABBY4', 'JANE']\n"
     ]
    }
   ],
   "source": [
    "#In the cell below, filter the list provided and return all elements \n",
    "#of the list containing a number. To filter the list, use the re.\n",
    "#search function. Check if the function does not return None. \n",
    "#You can read more about the re.search function here.\n",
    "\n",
    "import re \n",
    "data = ['123abc', 'abc123', 'JohnSmith1', 'ABBY4', 'JANE']   \n",
    "salida = [i for i in data if(re.search(\"\\d\", i) is not None)]\n",
    "print(salida)\n",
    "\n",
    "\n"
   ]
  },
  {
   "cell_type": "code",
   "execution_count": 2,
   "id": "49b085c9",
   "metadata": {},
   "outputs": [
    {
     "name": "stdout",
     "output_type": "stream",
     "text": [
      "['123abc', 'abc123', 'JohnSmith1', 'ABBY4']\n"
     ]
    }
   ],
   "source": [
    "#Bonus Challenge - Regular Expressions II\n",
    "#In the cell below, filter the list provided to keep only strings containing at least one digit and at \n",
    "#least one lower case letter.\n",
    "#As in the previous question, use the re.search function and check that the result is not None.\n",
    "\n",
    "import re \n",
    "\n",
    "data = ['123abc', 'abc123', 'JohnSmith1', 'ABBY4', 'JANE']   \n",
    "salida = [i for i in data if re.search(\"\\d\", i) if(re.search(\"\\w\", i) is not None)]\n",
    "print(salida)\n",
    "\n"
   ]
  }
 ],
 "metadata": {
  "kernelspec": {
   "display_name": "Python 3 (ipykernel)",
   "language": "python",
   "name": "python3"
  },
  "language_info": {
   "codemirror_mode": {
    "name": "ipython",
    "version": 3
   },
   "file_extension": ".py",
   "mimetype": "text/x-python",
   "name": "python",
   "nbconvert_exporter": "python",
   "pygments_lexer": "ipython3",
   "version": "3.9.12"
  }
 },
 "nbformat": 4,
 "nbformat_minor": 5
}
