{
 "cells": [
  {
   "cell_type": "code",
   "execution_count": 4,
   "id": "8a589543",
   "metadata": {},
   "outputs": [
    {
     "data": {
      "text/plain": [
       "tuple"
      ]
     },
     "execution_count": 4,
     "metadata": {},
     "output_type": "execute_result"
    }
   ],
   "source": [
    "#challenges 1\n",
    "#1\n",
    "\n",
    "tup = ('i',)\n",
    "type(tup)"
   ]
  },
  {
   "cell_type": "code",
   "execution_count": null,
   "id": "73233a38",
   "metadata": {},
   "outputs": [],
   "source": [
    "#2\n",
    "# No se puede la tupla es inmutable"
   ]
  },
  {
   "cell_type": "code",
   "execution_count": null,
   "id": "a93f6726",
   "metadata": {},
   "outputs": [],
   "source": [
    "#3\n",
    "#No se puede agregar el elemnto, la tupla es inmutable"
   ]
  },
  {
   "cell_type": "code",
   "execution_count": 86,
   "id": "126f1e99",
   "metadata": {},
   "outputs": [],
   "source": [
    "#4\n",
    "tup = ('I','R','O','N','H','A','C','K')\n",
    "tup1 = tup[0:4]\n",
    "tup2 = tup[-4:]\n",
    "\n",
    "\n",
    "\n",
    "\n",
    "\n",
    "\n",
    "    \n",
    "\n",
    "    \n",
    "\n",
    "\n",
    "\n"
   ]
  },
  {
   "cell_type": "code",
   "execution_count": 110,
   "id": "91b1906c",
   "metadata": {},
   "outputs": [
    {
     "name": "stdout",
     "output_type": "stream",
     "text": [
      "('I', 'R', 'O', 'N', 'H', 'A', 'C', 'K')\n"
     ]
    }
   ],
   "source": [
    "#5\n",
    "tup3 = tup1+tup2\n",
    "print(tup3)"
   ]
  },
  {
   "cell_type": "code",
   "execution_count": 94,
   "id": "f305d59c",
   "metadata": {},
   "outputs": [
    {
     "name": "stdout",
     "output_type": "stream",
     "text": [
      "La suma de las longuitudes de tup1 y tup2 es  8  y la longitud de tup3 es 8\n"
     ]
    }
   ],
   "source": [
    "#6\n",
    "print('La suma de las longuitudes de tup1 y tup2 es ', len(tup1)+len(tup2), ' y la longitud de tup3 es', len(tup3) )\n"
   ]
  },
  {
   "cell_type": "code",
   "execution_count": 95,
   "id": "d27c948c",
   "metadata": {},
   "outputs": [
    {
     "data": {
      "text/plain": [
       "4"
      ]
     },
     "execution_count": 95,
     "metadata": {},
     "output_type": "execute_result"
    }
   ],
   "source": [
    "#7\n",
    "tup.index('H')"
   ]
  },
  {
   "cell_type": "code",
   "execution_count": 114,
   "id": "9ae4bdab",
   "metadata": {},
   "outputs": [
    {
     "name": "stdout",
     "output_type": "stream",
     "text": [
      "True\n",
      "False\n",
      "True\n",
      "False\n",
      "False\n"
     ]
    }
   ],
   "source": [
    "#7.2\n",
    "\n",
    "letters = [\"A\", \"B\", \"C\", \"D\", \"E\"]\n",
    "\n",
    "for i in letters: \n",
    "    if i in str(tup3):\n",
    "        print('True')\n",
    "    else:\n",
    "        print('False')\n",
    "        "
   ]
  },
  {
   "cell_type": "code",
   "execution_count": 118,
   "id": "6a45eda6",
   "metadata": {},
   "outputs": [
    {
     "name": "stdout",
     "output_type": "stream",
     "text": [
      "la letra A aparece 1\n",
      "la letra B aparece 0\n",
      "la letra C aparece 1\n",
      "la letra D aparece 0\n",
      "la letra E aparece 0\n"
     ]
    }
   ],
   "source": [
    "#8\n",
    "for i in letters:\n",
    "    print('la letra',i,'aparece',str(tup3.count(i)))"
   ]
  },
  {
   "cell_type": "code",
   "execution_count": null,
   "id": "e4b37c7d",
   "metadata": {},
   "outputs": [],
   "source": []
  }
 ],
 "metadata": {
  "kernelspec": {
   "display_name": "Python 3 (ipykernel)",
   "language": "python",
   "name": "python3"
  },
  "language_info": {
   "codemirror_mode": {
    "name": "ipython",
    "version": 3
   },
   "file_extension": ".py",
   "mimetype": "text/x-python",
   "name": "python",
   "nbconvert_exporter": "python",
   "pygments_lexer": "ipython3",
   "version": "3.9.12"
  }
 },
 "nbformat": 4,
 "nbformat_minor": 5
}
