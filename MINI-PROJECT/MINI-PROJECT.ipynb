{
 "cells": [
  {
   "cell_type": "code",
   "execution_count": null,
   "id": "2df541bd",
   "metadata": {},
   "outputs": [],
   "source": [
    "#HANGMAN\n"
   ]
  },
  {
   "cell_type": "code",
   "execution_count": 1,
   "id": "8799c99d",
   "metadata": {},
   "outputs": [],
   "source": [
    "import random "
   ]
  },
  {
   "cell_type": "code",
   "execution_count": 2,
   "id": "d91bcf26",
   "metadata": {},
   "outputs": [],
   "source": [
    "AHORCADO = ['''\n",
    "\n",
    "            O\n",
    "            //|\n",
    "              |\n",
    "             //\n",
    "                 \n",
    "            \n",
    "            ''']"
   ]
  },
  {
   "cell_type": "code",
   "execution_count": 3,
   "id": "610d6ea3",
   "metadata": {},
   "outputs": [],
   "source": [
    "#Jugador 1 introduce las palabras "
   ]
  },
  {
   "cell_type": "code",
   "execution_count": 4,
   "id": "9e2a64ab",
   "metadata": {},
   "outputs": [
    {
     "name": "stdout",
     "output_type": "stream",
     "text": [
      "Introduce una palabra: hola\n",
      "Introduce una palabra: lola\n",
      "Introduce una palabra: ola\n",
      "Introduce una palabra: playa\n",
      "Introduce una palabra: luna\n"
     ]
    }
   ],
   "source": [
    "\n",
    "list_ad = []\n",
    "for i in range(0,5):\n",
    "    x = input('Introduce una palabra: ')\n",
    "    x_l = x.lower()\n",
    "    list_ad.append(x_l)"
   ]
  },
  {
   "cell_type": "code",
   "execution_count": 8,
   "id": "a292c601",
   "metadata": {},
   "outputs": [
    {
     "name": "stdout",
     "output_type": "stream",
     "text": [
      "ola\n"
     ]
    }
   ],
   "source": [
    "#Se escoge la palabra secreta\n",
    "palabra_secreta = random.choice(list_ad)\n",
    "def line_break(palabra_secreta):\n",
    "        pal_sec = list(palabra_secreta)\n",
    "        return pal_sec \n",
    "\n",
    "print(palabra_secreta)"
   ]
  },
  {
   "cell_type": "code",
   "execution_count": 11,
   "id": "0cfeb4f4",
   "metadata": {},
   "outputs": [
    {
     "name": "stdout",
     "output_type": "stream",
     "text": [
      "['*', '*', '*']\n"
     ]
    }
   ],
   "source": [
    "#Algunas variables utiles para el juego\n",
    "\n",
    "word = line_break(palabra_secreta) #palabra escogida en lista\n",
    "max_intentos = 10\n",
    "adivina = [ '*' for i in range (len(word))]\n",
    "print(adivina)\n",
    "ganador=False\n",
    "contador =0 \n"
   ]
  },
  {
   "cell_type": "code",
   "execution_count": 12,
   "id": "87d70e78",
   "metadata": {},
   "outputs": [
    {
     "name": "stdout",
     "output_type": "stream",
     "text": [
      "Hint: la palabra a adivinar es:  ['*', '*', '*']\n",
      "Tienes 10 intentos, introduce una letra\n",
      "p\n",
      "La letra no esta en la palabra secreta\n",
      "Tienes 9 intentos, introduce una letra\n",
      "pp\n",
      "La letra no esta en la palabra secreta\n",
      "Intorduce solamente una letra\n",
      "Tienes 8 intentos, introduce una letra\n",
      "p\n",
      "La letra no esta en la palabra secreta\n",
      "Tienes 7 intentos, introduce una letra\n",
      "p\n",
      "La letra no esta en la palabra secreta\n",
      "Tienes 6 intentos, introduce una letra\n",
      "p\n",
      "La letra no esta en la palabra secreta\n",
      "Tienes 5 intentos, introduce una letra\n",
      "p\n",
      "La letra no esta en la palabra secreta\n",
      "Tienes 4 intentos, introduce una letra\n",
      "p\n",
      "La letra no esta en la palabra secreta\n",
      "Tienes 3 intentos, introduce una letra\n",
      "p\n",
      "La letra no esta en la palabra secreta\n",
      "Tienes 2 intentos, introduce una letra\n",
      "p\n",
      "La letra no esta en la palabra secreta\n",
      "Tienes 1 intentos, introduce una letra\n",
      "p\n",
      "La letra no esta en la palabra secreta\n",
      "Se acabaron los intentos, la palabra secreta es: ola\n",
      "\n",
      "\n",
      "            O\n",
      "            //|\n",
      "              |\n",
      "             //\n",
      "                 \n",
      "            \n",
      "            \n"
     ]
    }
   ],
   "source": [
    "print('Hint: la palabra a adivinar es: ',adivina)\n",
    "while max_intentos > 0:\n",
    "    print('Tienes', max_intentos,'intentos, introduce una letra')\n",
    "    letra = input()\n",
    "    letra = letra.lower()\n",
    "    acierto = False\n",
    "    if letra in word:\n",
    "            contador +=1\n",
    "            acierto = True\n",
    "            print('Muy bien! la letra si esta en la palabra secreta')    \n",
    "    elif letra not in word: \n",
    "            print('La letra no esta en la palabra secreta')\n",
    "            if len(letra) > 1:\n",
    "                print('Intorduce solamente una letra')\n",
    "            elif letra not in 'abcdefghijklmnopqrstuvwxyz':\n",
    "                print ('He dicho ingresa una letra!')         \n",
    "    #print('hola')\n",
    "    if acierto == False: \n",
    "        max_intentos -= 1\n",
    "    if contador == (len(word)):\n",
    "        ganador = True \n",
    "        break\n",
    "\n",
    "if ganador == True: \n",
    "    print('¡Ganaste el juego!')\n",
    "    print('La palabra secreta es :',palabra_secreta )\n",
    "else: \n",
    "    print('Se acabaron los intentos, la palabra secreta es:',palabra_secreta)\n",
    "    print(AHORCADO[0])"
   ]
  },
  {
   "cell_type": "markdown",
   "id": "f6b45eb7",
   "metadata": {},
   "source": []
  },
  {
   "cell_type": "code",
   "execution_count": null,
   "id": "4a1c8ee5",
   "metadata": {},
   "outputs": [],
   "source": [
    "print(word)"
   ]
  },
  {
   "cell_type": "code",
   "execution_count": null,
   "id": "f218f56f",
   "metadata": {},
   "outputs": [],
   "source": []
  }
 ],
 "metadata": {
  "kernelspec": {
   "display_name": "Python 3 (ipykernel)",
   "language": "python",
   "name": "python3"
  },
  "language_info": {
   "codemirror_mode": {
    "name": "ipython",
    "version": 3
   },
   "file_extension": ".py",
   "mimetype": "text/x-python",
   "name": "python",
   "nbconvert_exporter": "python",
   "pygments_lexer": "ipython3",
   "version": "3.9.12"
  }
 },
 "nbformat": 4,
 "nbformat_minor": 5
}
