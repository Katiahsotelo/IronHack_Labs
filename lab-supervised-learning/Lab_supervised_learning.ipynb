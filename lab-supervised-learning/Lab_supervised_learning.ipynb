{
 "cells": [
  {
   "cell_type": "markdown",
   "metadata": {},
   "source": [
    "# Before your start:\n",
    "- Read the README.md file\n",
    "- Comment as much as you can and use the resources in the README.md file\n",
    "- Happy learning!"
   ]
  },
  {
   "cell_type": "code",
   "execution_count": 1,
   "metadata": {},
   "outputs": [],
   "source": [
    "import numpy as np\n",
    "import pandas as pd\n",
    "import seaborn as sns\n",
    "import matplotlib.pyplot as plt\n",
    "\n",
    "%matplotlib inline\n",
    "\n"
   ]
  },
  {
   "cell_type": "markdown",
   "metadata": {},
   "source": [
    "In this lab, we will explore a dataset that describes websites with different features and labels them either benign or malicious . We will use supervised learning algorithms to figure out what feature patterns malicious websites are likely to have and use our model to predict malicious websites.\n",
    "\n",
    "# Challenge 1 - Explore The Dataset\n",
    "\n",
    "Let's start by exploring the dataset. First load the data file:"
   ]
  },
  {
   "cell_type": "code",
   "execution_count": 2,
   "metadata": {},
   "outputs": [],
   "source": [
    "websites = pd.read_csv('website.csv')"
   ]
  },
  {
   "cell_type": "markdown",
   "metadata": {},
   "source": [
    "#### Explore the data from an bird's-eye view.\n",
    "\n",
    "You should already been very familiar with the procedures now so we won't provide the instructions step by step. Reflect on what you did in the previous labs and explore the dataset.\n",
    "\n",
    "Things you'll be looking for:\n",
    "\n",
    "* What the dataset looks like?\n",
    "* What are the data types?\n",
    "* Which columns contain the features of the websites?\n",
    "* Which column contains the feature we will predict? What is the code standing for benign vs malicious websites?\n",
    "* Do we need to transform any of the columns from categorical to ordinal values? If so what are these columns?\n",
    "\n",
    "Feel free to add additional cells for your explorations. Make sure to comment what you find out."
   ]
  },
  {
   "cell_type": "code",
   "execution_count": 3,
   "metadata": {},
   "outputs": [
    {
     "data": {
      "text/html": [
       "<div>\n",
       "<style scoped>\n",
       "    .dataframe tbody tr th:only-of-type {\n",
       "        vertical-align: middle;\n",
       "    }\n",
       "\n",
       "    .dataframe tbody tr th {\n",
       "        vertical-align: top;\n",
       "    }\n",
       "\n",
       "    .dataframe thead th {\n",
       "        text-align: right;\n",
       "    }\n",
       "</style>\n",
       "<table border=\"1\" class=\"dataframe\">\n",
       "  <thead>\n",
       "    <tr style=\"text-align: right;\">\n",
       "      <th></th>\n",
       "      <th>URL</th>\n",
       "      <th>URL_LENGTH</th>\n",
       "      <th>NUMBER_SPECIAL_CHARACTERS</th>\n",
       "      <th>CHARSET</th>\n",
       "      <th>SERVER</th>\n",
       "      <th>CONTENT_LENGTH</th>\n",
       "      <th>WHOIS_COUNTRY</th>\n",
       "      <th>WHOIS_STATEPRO</th>\n",
       "      <th>WHOIS_REGDATE</th>\n",
       "      <th>WHOIS_UPDATED_DATE</th>\n",
       "      <th>...</th>\n",
       "      <th>DIST_REMOTE_TCP_PORT</th>\n",
       "      <th>REMOTE_IPS</th>\n",
       "      <th>APP_BYTES</th>\n",
       "      <th>SOURCE_APP_PACKETS</th>\n",
       "      <th>REMOTE_APP_PACKETS</th>\n",
       "      <th>SOURCE_APP_BYTES</th>\n",
       "      <th>REMOTE_APP_BYTES</th>\n",
       "      <th>APP_PACKETS</th>\n",
       "      <th>DNS_QUERY_TIMES</th>\n",
       "      <th>Type</th>\n",
       "    </tr>\n",
       "  </thead>\n",
       "  <tbody>\n",
       "    <tr>\n",
       "      <th>0</th>\n",
       "      <td>M0_109</td>\n",
       "      <td>16</td>\n",
       "      <td>7</td>\n",
       "      <td>iso-8859-1</td>\n",
       "      <td>nginx</td>\n",
       "      <td>263.0</td>\n",
       "      <td>None</td>\n",
       "      <td>None</td>\n",
       "      <td>10/10/2015 18:21</td>\n",
       "      <td>None</td>\n",
       "      <td>...</td>\n",
       "      <td>0</td>\n",
       "      <td>2</td>\n",
       "      <td>700</td>\n",
       "      <td>9</td>\n",
       "      <td>10</td>\n",
       "      <td>1153</td>\n",
       "      <td>832</td>\n",
       "      <td>9</td>\n",
       "      <td>2.0</td>\n",
       "      <td>1</td>\n",
       "    </tr>\n",
       "    <tr>\n",
       "      <th>1</th>\n",
       "      <td>B0_2314</td>\n",
       "      <td>16</td>\n",
       "      <td>6</td>\n",
       "      <td>UTF-8</td>\n",
       "      <td>Apache/2.4.10</td>\n",
       "      <td>15087.0</td>\n",
       "      <td>None</td>\n",
       "      <td>None</td>\n",
       "      <td>None</td>\n",
       "      <td>None</td>\n",
       "      <td>...</td>\n",
       "      <td>7</td>\n",
       "      <td>4</td>\n",
       "      <td>1230</td>\n",
       "      <td>17</td>\n",
       "      <td>19</td>\n",
       "      <td>1265</td>\n",
       "      <td>1230</td>\n",
       "      <td>17</td>\n",
       "      <td>0.0</td>\n",
       "      <td>0</td>\n",
       "    </tr>\n",
       "    <tr>\n",
       "      <th>2</th>\n",
       "      <td>B0_911</td>\n",
       "      <td>16</td>\n",
       "      <td>6</td>\n",
       "      <td>us-ascii</td>\n",
       "      <td>Microsoft-HTTPAPI/2.0</td>\n",
       "      <td>324.0</td>\n",
       "      <td>None</td>\n",
       "      <td>None</td>\n",
       "      <td>None</td>\n",
       "      <td>None</td>\n",
       "      <td>...</td>\n",
       "      <td>0</td>\n",
       "      <td>0</td>\n",
       "      <td>0</td>\n",
       "      <td>0</td>\n",
       "      <td>0</td>\n",
       "      <td>0</td>\n",
       "      <td>0</td>\n",
       "      <td>0</td>\n",
       "      <td>0.0</td>\n",
       "      <td>0</td>\n",
       "    </tr>\n",
       "    <tr>\n",
       "      <th>3</th>\n",
       "      <td>B0_113</td>\n",
       "      <td>17</td>\n",
       "      <td>6</td>\n",
       "      <td>ISO-8859-1</td>\n",
       "      <td>nginx</td>\n",
       "      <td>162.0</td>\n",
       "      <td>US</td>\n",
       "      <td>AK</td>\n",
       "      <td>7/10/1997 4:00</td>\n",
       "      <td>12/09/2013 0:45</td>\n",
       "      <td>...</td>\n",
       "      <td>22</td>\n",
       "      <td>3</td>\n",
       "      <td>3812</td>\n",
       "      <td>39</td>\n",
       "      <td>37</td>\n",
       "      <td>18784</td>\n",
       "      <td>4380</td>\n",
       "      <td>39</td>\n",
       "      <td>8.0</td>\n",
       "      <td>0</td>\n",
       "    </tr>\n",
       "    <tr>\n",
       "      <th>4</th>\n",
       "      <td>B0_403</td>\n",
       "      <td>17</td>\n",
       "      <td>6</td>\n",
       "      <td>UTF-8</td>\n",
       "      <td>None</td>\n",
       "      <td>124140.0</td>\n",
       "      <td>US</td>\n",
       "      <td>TX</td>\n",
       "      <td>12/05/1996 0:00</td>\n",
       "      <td>11/04/2017 0:00</td>\n",
       "      <td>...</td>\n",
       "      <td>2</td>\n",
       "      <td>5</td>\n",
       "      <td>4278</td>\n",
       "      <td>61</td>\n",
       "      <td>62</td>\n",
       "      <td>129889</td>\n",
       "      <td>4586</td>\n",
       "      <td>61</td>\n",
       "      <td>4.0</td>\n",
       "      <td>0</td>\n",
       "    </tr>\n",
       "    <tr>\n",
       "      <th>...</th>\n",
       "      <td>...</td>\n",
       "      <td>...</td>\n",
       "      <td>...</td>\n",
       "      <td>...</td>\n",
       "      <td>...</td>\n",
       "      <td>...</td>\n",
       "      <td>...</td>\n",
       "      <td>...</td>\n",
       "      <td>...</td>\n",
       "      <td>...</td>\n",
       "      <td>...</td>\n",
       "      <td>...</td>\n",
       "      <td>...</td>\n",
       "      <td>...</td>\n",
       "      <td>...</td>\n",
       "      <td>...</td>\n",
       "      <td>...</td>\n",
       "      <td>...</td>\n",
       "      <td>...</td>\n",
       "      <td>...</td>\n",
       "      <td>...</td>\n",
       "    </tr>\n",
       "    <tr>\n",
       "      <th>1776</th>\n",
       "      <td>M4_48</td>\n",
       "      <td>194</td>\n",
       "      <td>16</td>\n",
       "      <td>UTF-8</td>\n",
       "      <td>Apache</td>\n",
       "      <td>NaN</td>\n",
       "      <td>ES</td>\n",
       "      <td>Barcelona</td>\n",
       "      <td>17/09/2008 0:00</td>\n",
       "      <td>2/09/2016 0:00</td>\n",
       "      <td>...</td>\n",
       "      <td>0</td>\n",
       "      <td>0</td>\n",
       "      <td>0</td>\n",
       "      <td>0</td>\n",
       "      <td>3</td>\n",
       "      <td>186</td>\n",
       "      <td>0</td>\n",
       "      <td>0</td>\n",
       "      <td>0.0</td>\n",
       "      <td>1</td>\n",
       "    </tr>\n",
       "    <tr>\n",
       "      <th>1777</th>\n",
       "      <td>M4_41</td>\n",
       "      <td>198</td>\n",
       "      <td>17</td>\n",
       "      <td>UTF-8</td>\n",
       "      <td>Apache</td>\n",
       "      <td>NaN</td>\n",
       "      <td>ES</td>\n",
       "      <td>Barcelona</td>\n",
       "      <td>17/09/2008 0:00</td>\n",
       "      <td>2/09/2016 0:00</td>\n",
       "      <td>...</td>\n",
       "      <td>0</td>\n",
       "      <td>0</td>\n",
       "      <td>0</td>\n",
       "      <td>0</td>\n",
       "      <td>2</td>\n",
       "      <td>124</td>\n",
       "      <td>0</td>\n",
       "      <td>0</td>\n",
       "      <td>0.0</td>\n",
       "      <td>1</td>\n",
       "    </tr>\n",
       "    <tr>\n",
       "      <th>1778</th>\n",
       "      <td>B0_162</td>\n",
       "      <td>201</td>\n",
       "      <td>34</td>\n",
       "      <td>utf-8</td>\n",
       "      <td>Apache/2.2.16 (Debian)</td>\n",
       "      <td>8904.0</td>\n",
       "      <td>US</td>\n",
       "      <td>FL</td>\n",
       "      <td>15/02/1999 0:00</td>\n",
       "      <td>15/07/2015 0:00</td>\n",
       "      <td>...</td>\n",
       "      <td>2</td>\n",
       "      <td>6</td>\n",
       "      <td>6631</td>\n",
       "      <td>87</td>\n",
       "      <td>89</td>\n",
       "      <td>132181</td>\n",
       "      <td>6945</td>\n",
       "      <td>87</td>\n",
       "      <td>4.0</td>\n",
       "      <td>0</td>\n",
       "    </tr>\n",
       "    <tr>\n",
       "      <th>1779</th>\n",
       "      <td>B0_1152</td>\n",
       "      <td>234</td>\n",
       "      <td>34</td>\n",
       "      <td>ISO-8859-1</td>\n",
       "      <td>cloudflare-nginx</td>\n",
       "      <td>NaN</td>\n",
       "      <td>US</td>\n",
       "      <td>CA</td>\n",
       "      <td>1/04/1998 0:00</td>\n",
       "      <td>9/12/2016 0:00</td>\n",
       "      <td>...</td>\n",
       "      <td>0</td>\n",
       "      <td>0</td>\n",
       "      <td>0</td>\n",
       "      <td>0</td>\n",
       "      <td>0</td>\n",
       "      <td>0</td>\n",
       "      <td>0</td>\n",
       "      <td>0</td>\n",
       "      <td>0.0</td>\n",
       "      <td>0</td>\n",
       "    </tr>\n",
       "    <tr>\n",
       "      <th>1780</th>\n",
       "      <td>B0_676</td>\n",
       "      <td>249</td>\n",
       "      <td>40</td>\n",
       "      <td>utf-8</td>\n",
       "      <td>Microsoft-IIS/8.5</td>\n",
       "      <td>24435.0</td>\n",
       "      <td>US</td>\n",
       "      <td>Wisconsin</td>\n",
       "      <td>14/11/2008 0:00</td>\n",
       "      <td>20/11/2013 0:00</td>\n",
       "      <td>...</td>\n",
       "      <td>6</td>\n",
       "      <td>11</td>\n",
       "      <td>2314</td>\n",
       "      <td>25</td>\n",
       "      <td>28</td>\n",
       "      <td>3039</td>\n",
       "      <td>2776</td>\n",
       "      <td>25</td>\n",
       "      <td>6.0</td>\n",
       "      <td>0</td>\n",
       "    </tr>\n",
       "  </tbody>\n",
       "</table>\n",
       "<p>1781 rows × 21 columns</p>\n",
       "</div>"
      ],
      "text/plain": [
       "          URL  URL_LENGTH  NUMBER_SPECIAL_CHARACTERS     CHARSET  \\\n",
       "0      M0_109          16                          7  iso-8859-1   \n",
       "1     B0_2314          16                          6       UTF-8   \n",
       "2      B0_911          16                          6    us-ascii   \n",
       "3      B0_113          17                          6  ISO-8859-1   \n",
       "4      B0_403          17                          6       UTF-8   \n",
       "...       ...         ...                        ...         ...   \n",
       "1776    M4_48         194                         16       UTF-8   \n",
       "1777    M4_41         198                         17       UTF-8   \n",
       "1778   B0_162         201                         34       utf-8   \n",
       "1779  B0_1152         234                         34  ISO-8859-1   \n",
       "1780   B0_676         249                         40       utf-8   \n",
       "\n",
       "                      SERVER  CONTENT_LENGTH WHOIS_COUNTRY WHOIS_STATEPRO  \\\n",
       "0                      nginx           263.0          None           None   \n",
       "1              Apache/2.4.10         15087.0          None           None   \n",
       "2      Microsoft-HTTPAPI/2.0           324.0          None           None   \n",
       "3                      nginx           162.0            US             AK   \n",
       "4                       None        124140.0            US             TX   \n",
       "...                      ...             ...           ...            ...   \n",
       "1776                  Apache             NaN            ES      Barcelona   \n",
       "1777                  Apache             NaN            ES      Barcelona   \n",
       "1778  Apache/2.2.16 (Debian)          8904.0            US             FL   \n",
       "1779        cloudflare-nginx             NaN            US             CA   \n",
       "1780       Microsoft-IIS/8.5         24435.0            US      Wisconsin   \n",
       "\n",
       "         WHOIS_REGDATE WHOIS_UPDATED_DATE  ...  DIST_REMOTE_TCP_PORT  \\\n",
       "0     10/10/2015 18:21               None  ...                     0   \n",
       "1                 None               None  ...                     7   \n",
       "2                 None               None  ...                     0   \n",
       "3       7/10/1997 4:00    12/09/2013 0:45  ...                    22   \n",
       "4      12/05/1996 0:00    11/04/2017 0:00  ...                     2   \n",
       "...                ...                ...  ...                   ...   \n",
       "1776   17/09/2008 0:00     2/09/2016 0:00  ...                     0   \n",
       "1777   17/09/2008 0:00     2/09/2016 0:00  ...                     0   \n",
       "1778   15/02/1999 0:00    15/07/2015 0:00  ...                     2   \n",
       "1779    1/04/1998 0:00     9/12/2016 0:00  ...                     0   \n",
       "1780   14/11/2008 0:00    20/11/2013 0:00  ...                     6   \n",
       "\n",
       "      REMOTE_IPS  APP_BYTES  SOURCE_APP_PACKETS  REMOTE_APP_PACKETS  \\\n",
       "0              2        700                   9                  10   \n",
       "1              4       1230                  17                  19   \n",
       "2              0          0                   0                   0   \n",
       "3              3       3812                  39                  37   \n",
       "4              5       4278                  61                  62   \n",
       "...          ...        ...                 ...                 ...   \n",
       "1776           0          0                   0                   3   \n",
       "1777           0          0                   0                   2   \n",
       "1778           6       6631                  87                  89   \n",
       "1779           0          0                   0                   0   \n",
       "1780          11       2314                  25                  28   \n",
       "\n",
       "      SOURCE_APP_BYTES  REMOTE_APP_BYTES  APP_PACKETS  DNS_QUERY_TIMES  Type  \n",
       "0                 1153               832            9              2.0     1  \n",
       "1                 1265              1230           17              0.0     0  \n",
       "2                    0                 0            0              0.0     0  \n",
       "3                18784              4380           39              8.0     0  \n",
       "4               129889              4586           61              4.0     0  \n",
       "...                ...               ...          ...              ...   ...  \n",
       "1776               186                 0            0              0.0     1  \n",
       "1777               124                 0            0              0.0     1  \n",
       "1778            132181              6945           87              4.0     0  \n",
       "1779                 0                 0            0              0.0     0  \n",
       "1780              3039              2776           25              6.0     0  \n",
       "\n",
       "[1781 rows x 21 columns]"
      ]
     },
     "execution_count": 3,
     "metadata": {},
     "output_type": "execute_result"
    }
   ],
   "source": [
    "websites"
   ]
  },
  {
   "cell_type": "code",
   "execution_count": 4,
   "metadata": {},
   "outputs": [
    {
     "data": {
      "text/plain": [
       "URL                           object\n",
       "URL_LENGTH                     int64\n",
       "NUMBER_SPECIAL_CHARACTERS      int64\n",
       "CHARSET                       object\n",
       "SERVER                        object\n",
       "CONTENT_LENGTH               float64\n",
       "WHOIS_COUNTRY                 object\n",
       "WHOIS_STATEPRO                object\n",
       "WHOIS_REGDATE                 object\n",
       "WHOIS_UPDATED_DATE            object\n",
       "TCP_CONVERSATION_EXCHANGE      int64\n",
       "DIST_REMOTE_TCP_PORT           int64\n",
       "REMOTE_IPS                     int64\n",
       "APP_BYTES                      int64\n",
       "SOURCE_APP_PACKETS             int64\n",
       "REMOTE_APP_PACKETS             int64\n",
       "SOURCE_APP_BYTES               int64\n",
       "REMOTE_APP_BYTES               int64\n",
       "APP_PACKETS                    int64\n",
       "DNS_QUERY_TIMES              float64\n",
       "Type                           int64\n",
       "dtype: object"
      ]
     },
     "execution_count": 4,
     "metadata": {},
     "output_type": "execute_result"
    }
   ],
   "source": [
    "websites.dtypes"
   ]
  },
  {
   "cell_type": "code",
   "execution_count": 5,
   "metadata": {},
   "outputs": [
    {
     "data": {
      "text/plain": [
       "URL                            0\n",
       "URL_LENGTH                     0\n",
       "NUMBER_SPECIAL_CHARACTERS      0\n",
       "CHARSET                        0\n",
       "SERVER                         1\n",
       "CONTENT_LENGTH               812\n",
       "WHOIS_COUNTRY                  0\n",
       "WHOIS_STATEPRO                 0\n",
       "WHOIS_REGDATE                  0\n",
       "WHOIS_UPDATED_DATE             0\n",
       "TCP_CONVERSATION_EXCHANGE      0\n",
       "DIST_REMOTE_TCP_PORT           0\n",
       "REMOTE_IPS                     0\n",
       "APP_BYTES                      0\n",
       "SOURCE_APP_PACKETS             0\n",
       "REMOTE_APP_PACKETS             0\n",
       "SOURCE_APP_BYTES               0\n",
       "REMOTE_APP_BYTES               0\n",
       "APP_PACKETS                    0\n",
       "DNS_QUERY_TIMES                1\n",
       "Type                           0\n",
       "dtype: int64"
      ]
     },
     "execution_count": 5,
     "metadata": {},
     "output_type": "execute_result"
    }
   ],
   "source": [
    "websites.isnull().sum()"
   ]
  },
  {
   "cell_type": "code",
   "execution_count": 6,
   "metadata": {},
   "outputs": [
    {
     "data": {
      "text/plain": [
       "(1781, 21)"
      ]
     },
     "execution_count": 6,
     "metadata": {},
     "output_type": "execute_result"
    }
   ],
   "source": [
    "websites.shape"
   ]
  },
  {
   "cell_type": "markdown",
   "metadata": {},
   "source": [
    "#### Next, evaluate if the columns in this dataset are strongly correlated.\n",
    "\n",
    "In the Mushroom supervised learning lab we did recently, we mentioned we are concerned if our dataset has strongly correlated columns because if it is the case we need to choose certain ML algorithms instead of others. We need to evaluate this for our dataset now.\n",
    "\n",
    "Luckily, most of the columns in this dataset are ordinal which makes things a lot easier for us. In the next cells below, evaluate the level of collinearity of the data.\n",
    "\n",
    "We provide some general directions for you to consult in order to complete this step:\n",
    "\n",
    "1. You will create a correlation matrix using the numeric columns in the dataset.\n",
    "\n",
    "1. Create a heatmap using `seaborn` to visualize which columns have high collinearity.\n",
    "\n",
    "1. Comment on which columns you might need to remove due to high collinearity."
   ]
  },
  {
   "cell_type": "code",
   "execution_count": 7,
   "metadata": {},
   "outputs": [
    {
     "data": {
      "text/plain": [
       "Index(['URL_LENGTH', 'NUMBER_SPECIAL_CHARACTERS', 'CONTENT_LENGTH',\n",
       "       'TCP_CONVERSATION_EXCHANGE', 'DIST_REMOTE_TCP_PORT', 'REMOTE_IPS',\n",
       "       'APP_BYTES', 'SOURCE_APP_PACKETS', 'REMOTE_APP_PACKETS',\n",
       "       'SOURCE_APP_BYTES', 'REMOTE_APP_BYTES', 'APP_PACKETS',\n",
       "       'DNS_QUERY_TIMES', 'Type'],\n",
       "      dtype='object')"
      ]
     },
     "execution_count": 7,
     "metadata": {},
     "output_type": "execute_result"
    }
   ],
   "source": [
    "is_numeric = websites._get_numeric_data()\n",
    "is_numeric.keys()"
   ]
  },
  {
   "cell_type": "code",
   "execution_count": 10,
   "metadata": {},
   "outputs": [],
   "source": [
    "corr=is_numeric.corr()\n"
   ]
  },
  {
   "cell_type": "code",
   "execution_count": 11,
   "metadata": {},
   "outputs": [
    {
     "data": {
      "image/png": "[encoded data removed]",
      "text/plain": [
       "<Figure size 936x576 with 2 Axes>"
      ]
     },
     "metadata": {
      "needs_background": "light"
     },
     "output_type": "display_data"
    }
   ],
   "source": [
    "plt.subplots(figsize=(13,8))\n",
    "sns.heatmap(corr,cmap= 'RdYlGn',vmin=None, vmax=None,annot=True)\n",
    "plt.show()"
   ]
  },
  {
   "cell_type": "markdown",
   "metadata": {},
   "source": [
    "# Challenge 2 - Remove Column Collinearity.\n",
    "\n",
    "From the heatmap you created, you should have seen at least 3 columns that can be removed due to high collinearity. Remove these columns from the dataset.\n",
    "\n",
    "Note that you should remove as few columns as you can. You don't have to remove all the columns at once. But instead, try removing one column, then produce the heatmap again to determine if additional columns should be removed. As long as the dataset no longer contains columns that are correlated for over 90%, you can stop. Also, keep in mind when two columns have high collinearity, you only need to remove one of them but not both.\n",
    "\n",
    "In the cells below, remove as few columns as you can to eliminate the high collinearity in the dataset. Make sure to comment on your way so that the instructional team can learn about your thinking process which allows them to give feedback. At the end, print the heatmap again."
   ]
  },
  {
   "cell_type": "code",
   "execution_count": 12,
   "metadata": {},
   "outputs": [
    {
     "data": {
      "image/png": "[encoded data removed]",
      "text/plain": [
       "<Figure size 936x576 with 2 Axes>"
      ]
     },
     "metadata": {
      "needs_background": "light"
     },
     "output_type": "display_data"
    }
   ],
   "source": [
    "plt.subplots(figsize=(13,8))\n",
    "sns.heatmap(corr,cmap= 'RdYlGn',vmin=.90, vmax=1,annot=True)\n",
    "plt.show()\n",
    "        \n"
   ]
  },
  {
   "cell_type": "code",
   "execution_count": 13,
   "metadata": {},
   "outputs": [
    {
     "data": {
      "text/plain": [
       "URL_LENGTH                   2\n",
       "NUMBER_SPECIAL_CHARACTERS    2\n",
       "CONTENT_LENGTH               1\n",
       "TCP_CONVERSATION_EXCHANGE    4\n",
       "DIST_REMOTE_TCP_PORT         1\n",
       "REMOTE_IPS                   1\n",
       "APP_BYTES                    2\n",
       "SOURCE_APP_PACKETS           4\n",
       "REMOTE_APP_PACKETS           4\n",
       "SOURCE_APP_BYTES             1\n",
       "REMOTE_APP_BYTES             2\n",
       "APP_PACKETS                  4\n",
       "DNS_QUERY_TIMES              1\n",
       "Type                         1\n",
       "dtype: int64"
      ]
     },
     "execution_count": 13,
     "metadata": {},
     "output_type": "execute_result"
    }
   ],
   "source": [
    "corr[corr >=.90 ].count()"
   ]
  },
  {
   "cell_type": "code",
   "execution_count": 14,
   "metadata": {},
   "outputs": [],
   "source": [
    "websites_drops = websites.drop(columns=[\"NUMBER_SPECIAL_CHARACTERS\",\"TCP_CONVERSATION_EXCHANGE\",\"REMOTE_APP_PACKETS\",\"APP_PACKETS\",\"APP_BYTES\"])"
   ]
  },
  {
   "cell_type": "code",
   "execution_count": 15,
   "metadata": {},
   "outputs": [],
   "source": [
    "is_numeric2 = websites_drops._get_numeric_data()\n",
    "corr2=is_numeric2.corr()"
   ]
  },
  {
   "cell_type": "code",
   "execution_count": 16,
   "metadata": {},
   "outputs": [
    {
     "data": {
      "image/png": "[encoded data removed]",
      "text/plain": [
       "<Figure size 936x576 with 2 Axes>"
      ]
     },
     "metadata": {
      "needs_background": "light"
     },
     "output_type": "display_data"
    }
   ],
   "source": [
    "plt.subplots(figsize=(13,8))\n",
    "sns.heatmap(corr2,cmap= 'RdYlGn',vmin=.90, vmax=1,annot=True)\n",
    "plt.show()"
   ]
  },
  {
   "cell_type": "markdown",
   "metadata": {},
   "source": [
    "# Challenge 3 - Handle Missing Values\n",
    "\n",
    "The next step would be handling missing values. **We start by examining the number of missing values in each column, which you will do in the next cell.**"
   ]
  },
  {
   "cell_type": "code",
   "execution_count": 17,
   "metadata": {},
   "outputs": [
    {
     "data": {
      "text/plain": [
       "URL                       0\n",
       "URL_LENGTH                0\n",
       "CHARSET                   0\n",
       "SERVER                    1\n",
       "CONTENT_LENGTH          812\n",
       "WHOIS_COUNTRY             0\n",
       "WHOIS_STATEPRO            0\n",
       "WHOIS_REGDATE             0\n",
       "WHOIS_UPDATED_DATE        0\n",
       "DIST_REMOTE_TCP_PORT      0\n",
       "REMOTE_IPS                0\n",
       "SOURCE_APP_PACKETS        0\n",
       "SOURCE_APP_BYTES          0\n",
       "REMOTE_APP_BYTES          0\n",
       "DNS_QUERY_TIMES           1\n",
       "Type                      0\n",
       "dtype: int64"
      ]
     },
     "execution_count": 17,
     "metadata": {},
     "output_type": "execute_result"
    }
   ],
   "source": [
    "websites_drops.isnull().sum()"
   ]
  },
  {
   "cell_type": "markdown",
   "metadata": {},
   "source": [
    "If you remember in the previous labs, we drop a column if the column contains a high proportion of missing values. After dropping those problematic columns, we drop the rows with missing values.\n",
    "\n",
    "#### In the cells below, handle the missing values from the dataset. Remember to comment the rationale of your decisions."
   ]
  },
  {
   "cell_type": "code",
   "execution_count": 18,
   "metadata": {},
   "outputs": [],
   "source": [
    "websites_drops1 = websites_drops.drop(columns=[\"CONTENT_LENGTH\"])"
   ]
  },
  {
   "cell_type": "code",
   "execution_count": 19,
   "metadata": {},
   "outputs": [
    {
     "data": {
      "text/html": [
       "<div>\n",
       "<style scoped>\n",
       "    .dataframe tbody tr th:only-of-type {\n",
       "        vertical-align: middle;\n",
       "    }\n",
       "\n",
       "    .dataframe tbody tr th {\n",
       "        vertical-align: top;\n",
       "    }\n",
       "\n",
       "    .dataframe thead th {\n",
       "        text-align: right;\n",
       "    }\n",
       "</style>\n",
       "<table border=\"1\" class=\"dataframe\">\n",
       "  <thead>\n",
       "    <tr style=\"text-align: right;\">\n",
       "      <th></th>\n",
       "      <th>URL</th>\n",
       "      <th>URL_LENGTH</th>\n",
       "      <th>CHARSET</th>\n",
       "      <th>SERVER</th>\n",
       "      <th>CONTENT_LENGTH</th>\n",
       "      <th>WHOIS_COUNTRY</th>\n",
       "      <th>WHOIS_STATEPRO</th>\n",
       "      <th>WHOIS_REGDATE</th>\n",
       "      <th>WHOIS_UPDATED_DATE</th>\n",
       "      <th>DIST_REMOTE_TCP_PORT</th>\n",
       "      <th>REMOTE_IPS</th>\n",
       "      <th>SOURCE_APP_PACKETS</th>\n",
       "      <th>SOURCE_APP_BYTES</th>\n",
       "      <th>REMOTE_APP_BYTES</th>\n",
       "      <th>DNS_QUERY_TIMES</th>\n",
       "      <th>Type</th>\n",
       "    </tr>\n",
       "  </thead>\n",
       "  <tbody>\n",
       "    <tr>\n",
       "      <th>0</th>\n",
       "      <td>M0_109</td>\n",
       "      <td>16</td>\n",
       "      <td>iso-8859-1</td>\n",
       "      <td>nginx</td>\n",
       "      <td>263.0</td>\n",
       "      <td>None</td>\n",
       "      <td>None</td>\n",
       "      <td>10/10/2015 18:21</td>\n",
       "      <td>None</td>\n",
       "      <td>0</td>\n",
       "      <td>2</td>\n",
       "      <td>9</td>\n",
       "      <td>1153</td>\n",
       "      <td>832</td>\n",
       "      <td>2.0</td>\n",
       "      <td>1</td>\n",
       "    </tr>\n",
       "    <tr>\n",
       "      <th>1</th>\n",
       "      <td>B0_2314</td>\n",
       "      <td>16</td>\n",
       "      <td>UTF-8</td>\n",
       "      <td>Apache/2.4.10</td>\n",
       "      <td>15087.0</td>\n",
       "      <td>None</td>\n",
       "      <td>None</td>\n",
       "      <td>None</td>\n",
       "      <td>None</td>\n",
       "      <td>7</td>\n",
       "      <td>4</td>\n",
       "      <td>17</td>\n",
       "      <td>1265</td>\n",
       "      <td>1230</td>\n",
       "      <td>0.0</td>\n",
       "      <td>0</td>\n",
       "    </tr>\n",
       "    <tr>\n",
       "      <th>2</th>\n",
       "      <td>B0_911</td>\n",
       "      <td>16</td>\n",
       "      <td>us-ascii</td>\n",
       "      <td>Microsoft-HTTPAPI/2.0</td>\n",
       "      <td>324.0</td>\n",
       "      <td>None</td>\n",
       "      <td>None</td>\n",
       "      <td>None</td>\n",
       "      <td>None</td>\n",
       "      <td>0</td>\n",
       "      <td>0</td>\n",
       "      <td>0</td>\n",
       "      <td>0</td>\n",
       "      <td>0</td>\n",
       "      <td>0.0</td>\n",
       "      <td>0</td>\n",
       "    </tr>\n",
       "    <tr>\n",
       "      <th>3</th>\n",
       "      <td>B0_113</td>\n",
       "      <td>17</td>\n",
       "      <td>ISO-8859-1</td>\n",
       "      <td>nginx</td>\n",
       "      <td>162.0</td>\n",
       "      <td>US</td>\n",
       "      <td>AK</td>\n",
       "      <td>7/10/1997 4:00</td>\n",
       "      <td>12/09/2013 0:45</td>\n",
       "      <td>22</td>\n",
       "      <td>3</td>\n",
       "      <td>39</td>\n",
       "      <td>18784</td>\n",
       "      <td>4380</td>\n",
       "      <td>8.0</td>\n",
       "      <td>0</td>\n",
       "    </tr>\n",
       "    <tr>\n",
       "      <th>4</th>\n",
       "      <td>B0_403</td>\n",
       "      <td>17</td>\n",
       "      <td>UTF-8</td>\n",
       "      <td>None</td>\n",
       "      <td>124140.0</td>\n",
       "      <td>US</td>\n",
       "      <td>TX</td>\n",
       "      <td>12/05/1996 0:00</td>\n",
       "      <td>11/04/2017 0:00</td>\n",
       "      <td>2</td>\n",
       "      <td>5</td>\n",
       "      <td>61</td>\n",
       "      <td>129889</td>\n",
       "      <td>4586</td>\n",
       "      <td>4.0</td>\n",
       "      <td>0</td>\n",
       "    </tr>\n",
       "    <tr>\n",
       "      <th>...</th>\n",
       "      <td>...</td>\n",
       "      <td>...</td>\n",
       "      <td>...</td>\n",
       "      <td>...</td>\n",
       "      <td>...</td>\n",
       "      <td>...</td>\n",
       "      <td>...</td>\n",
       "      <td>...</td>\n",
       "      <td>...</td>\n",
       "      <td>...</td>\n",
       "      <td>...</td>\n",
       "      <td>...</td>\n",
       "      <td>...</td>\n",
       "      <td>...</td>\n",
       "      <td>...</td>\n",
       "      <td>...</td>\n",
       "    </tr>\n",
       "    <tr>\n",
       "      <th>1768</th>\n",
       "      <td>B0_62</td>\n",
       "      <td>160</td>\n",
       "      <td>UTF-8</td>\n",
       "      <td>None</td>\n",
       "      <td>36829.0</td>\n",
       "      <td>US</td>\n",
       "      <td>CA</td>\n",
       "      <td>14/08/1997 0:00</td>\n",
       "      <td>14/06/2016 0:00</td>\n",
       "      <td>3</td>\n",
       "      <td>7</td>\n",
       "      <td>25</td>\n",
       "      <td>4491</td>\n",
       "      <td>2900</td>\n",
       "      <td>6.0</td>\n",
       "      <td>0</td>\n",
       "    </tr>\n",
       "    <tr>\n",
       "      <th>1769</th>\n",
       "      <td>B0_2237</td>\n",
       "      <td>161</td>\n",
       "      <td>iso-8859-1</td>\n",
       "      <td>Apache/2.4.18 (Ubuntu)</td>\n",
       "      <td>417.0</td>\n",
       "      <td>None</td>\n",
       "      <td>None</td>\n",
       "      <td>23/11/2010 0:00</td>\n",
       "      <td>20/11/2015 0:00</td>\n",
       "      <td>7</td>\n",
       "      <td>2</td>\n",
       "      <td>7</td>\n",
       "      <td>752</td>\n",
       "      <td>582</td>\n",
       "      <td>0.0</td>\n",
       "      <td>0</td>\n",
       "    </tr>\n",
       "    <tr>\n",
       "      <th>1774</th>\n",
       "      <td>B0_156</td>\n",
       "      <td>183</td>\n",
       "      <td>ISO-8859-1</td>\n",
       "      <td>Microsoft-IIS/7.5; litigation_essentials.lexis...</td>\n",
       "      <td>4890.0</td>\n",
       "      <td>US</td>\n",
       "      <td>NY</td>\n",
       "      <td>26/06/1997 0:00</td>\n",
       "      <td>18/11/2014 0:00</td>\n",
       "      <td>2</td>\n",
       "      <td>7</td>\n",
       "      <td>30</td>\n",
       "      <td>8161</td>\n",
       "      <td>2742</td>\n",
       "      <td>8.0</td>\n",
       "      <td>0</td>\n",
       "    </tr>\n",
       "    <tr>\n",
       "      <th>1778</th>\n",
       "      <td>B0_162</td>\n",
       "      <td>201</td>\n",
       "      <td>utf-8</td>\n",
       "      <td>Apache/2.2.16 (Debian)</td>\n",
       "      <td>8904.0</td>\n",
       "      <td>US</td>\n",
       "      <td>FL</td>\n",
       "      <td>15/02/1999 0:00</td>\n",
       "      <td>15/07/2015 0:00</td>\n",
       "      <td>2</td>\n",
       "      <td>6</td>\n",
       "      <td>87</td>\n",
       "      <td>132181</td>\n",
       "      <td>6945</td>\n",
       "      <td>4.0</td>\n",
       "      <td>0</td>\n",
       "    </tr>\n",
       "    <tr>\n",
       "      <th>1780</th>\n",
       "      <td>B0_676</td>\n",
       "      <td>249</td>\n",
       "      <td>utf-8</td>\n",
       "      <td>Microsoft-IIS/8.5</td>\n",
       "      <td>24435.0</td>\n",
       "      <td>US</td>\n",
       "      <td>Wisconsin</td>\n",
       "      <td>14/11/2008 0:00</td>\n",
       "      <td>20/11/2013 0:00</td>\n",
       "      <td>6</td>\n",
       "      <td>11</td>\n",
       "      <td>25</td>\n",
       "      <td>3039</td>\n",
       "      <td>2776</td>\n",
       "      <td>6.0</td>\n",
       "      <td>0</td>\n",
       "    </tr>\n",
       "  </tbody>\n",
       "</table>\n",
       "<p>967 rows × 16 columns</p>\n",
       "</div>"
      ],
      "text/plain": [
       "          URL  URL_LENGTH     CHARSET  \\\n",
       "0      M0_109          16  iso-8859-1   \n",
       "1     B0_2314          16       UTF-8   \n",
       "2      B0_911          16    us-ascii   \n",
       "3      B0_113          17  ISO-8859-1   \n",
       "4      B0_403          17       UTF-8   \n",
       "...       ...         ...         ...   \n",
       "1768    B0_62         160       UTF-8   \n",
       "1769  B0_2237         161  iso-8859-1   \n",
       "1774   B0_156         183  ISO-8859-1   \n",
       "1778   B0_162         201       utf-8   \n",
       "1780   B0_676         249       utf-8   \n",
       "\n",
       "                                                 SERVER  CONTENT_LENGTH  \\\n",
       "0                                                 nginx           263.0   \n",
       "1                                         Apache/2.4.10         15087.0   \n",
       "2                                 Microsoft-HTTPAPI/2.0           324.0   \n",
       "3                                                 nginx           162.0   \n",
       "4                                                  None        124140.0   \n",
       "...                                                 ...             ...   \n",
       "1768                                               None         36829.0   \n",
       "1769                             Apache/2.4.18 (Ubuntu)           417.0   \n",
       "1774  Microsoft-IIS/7.5; litigation_essentials.lexis...          4890.0   \n",
       "1778                             Apache/2.2.16 (Debian)          8904.0   \n",
       "1780                                  Microsoft-IIS/8.5         24435.0   \n",
       "\n",
       "     WHOIS_COUNTRY WHOIS_STATEPRO     WHOIS_REGDATE WHOIS_UPDATED_DATE  \\\n",
       "0             None           None  10/10/2015 18:21               None   \n",
       "1             None           None              None               None   \n",
       "2             None           None              None               None   \n",
       "3               US             AK    7/10/1997 4:00    12/09/2013 0:45   \n",
       "4               US             TX   12/05/1996 0:00    11/04/2017 0:00   \n",
       "...            ...            ...               ...                ...   \n",
       "1768            US             CA   14/08/1997 0:00    14/06/2016 0:00   \n",
       "1769          None           None   23/11/2010 0:00    20/11/2015 0:00   \n",
       "1774            US             NY   26/06/1997 0:00    18/11/2014 0:00   \n",
       "1778            US             FL   15/02/1999 0:00    15/07/2015 0:00   \n",
       "1780            US      Wisconsin   14/11/2008 0:00    20/11/2013 0:00   \n",
       "\n",
       "      DIST_REMOTE_TCP_PORT  REMOTE_IPS  SOURCE_APP_PACKETS  SOURCE_APP_BYTES  \\\n",
       "0                        0           2                   9              1153   \n",
       "1                        7           4                  17              1265   \n",
       "2                        0           0                   0                 0   \n",
       "3                       22           3                  39             18784   \n",
       "4                        2           5                  61            129889   \n",
       "...                    ...         ...                 ...               ...   \n",
       "1768                     3           7                  25              4491   \n",
       "1769                     7           2                   7               752   \n",
       "1774                     2           7                  30              8161   \n",
       "1778                     2           6                  87            132181   \n",
       "1780                     6          11                  25              3039   \n",
       "\n",
       "      REMOTE_APP_BYTES  DNS_QUERY_TIMES  Type  \n",
       "0                  832              2.0     1  \n",
       "1                 1230              0.0     0  \n",
       "2                    0              0.0     0  \n",
       "3                 4380              8.0     0  \n",
       "4                 4586              4.0     0  \n",
       "...                ...              ...   ...  \n",
       "1768              2900              6.0     0  \n",
       "1769               582              0.0     0  \n",
       "1774              2742              8.0     0  \n",
       "1778              6945              4.0     0  \n",
       "1780              2776              6.0     0  \n",
       "\n",
       "[967 rows x 16 columns]"
      ]
     },
     "execution_count": 19,
     "metadata": {},
     "output_type": "execute_result"
    }
   ],
   "source": [
    "websites_drops1=websites_drops.dropna()\n",
    "websites_drops1"
   ]
  },
  {
   "cell_type": "markdown",
   "metadata": {},
   "source": [
    "#### Again, examine the number of missing values in each column. \n",
    "\n",
    "If all cleaned, proceed. Otherwise, go back and do more cleaning."
   ]
  },
  {
   "cell_type": "code",
   "execution_count": 20,
   "metadata": {},
   "outputs": [
    {
     "data": {
      "text/plain": [
       "URL                     0\n",
       "URL_LENGTH              0\n",
       "CHARSET                 0\n",
       "SERVER                  0\n",
       "CONTENT_LENGTH          0\n",
       "WHOIS_COUNTRY           0\n",
       "WHOIS_STATEPRO          0\n",
       "WHOIS_REGDATE           0\n",
       "WHOIS_UPDATED_DATE      0\n",
       "DIST_REMOTE_TCP_PORT    0\n",
       "REMOTE_IPS              0\n",
       "SOURCE_APP_PACKETS      0\n",
       "SOURCE_APP_BYTES        0\n",
       "REMOTE_APP_BYTES        0\n",
       "DNS_QUERY_TIMES         0\n",
       "Type                    0\n",
       "dtype: int64"
      ]
     },
     "execution_count": 20,
     "metadata": {},
     "output_type": "execute_result"
    }
   ],
   "source": [
    "websites_drops1.isnull().sum()"
   ]
  },
  {
   "cell_type": "markdown",
   "metadata": {},
   "source": [
    "# Challenge 4 - Handle `WHOIS_*` Categorical Data"
   ]
  },
  {
   "cell_type": "markdown",
   "metadata": {},
   "source": [
    "There are several categorical columns we need to handle. These columns are:\n",
    "\n",
    "* `URL`\n",
    "* `CHARSET`\n",
    "* `SERVER`\n",
    "* `WHOIS_COUNTRY`\n",
    "* `WHOIS_STATEPRO`\n",
    "* `WHOIS_REGDATE`\n",
    "* `WHOIS_UPDATED_DATE`\n",
    "\n",
    "How to handle string columns is always case by case. Let's start by working on `WHOIS_COUNTRY`. Your steps are:\n",
    "\n",
    "1. List out the unique values of `WHOIS_COUNTRY`.\n",
    "1. Consolidate the country values with consistent country codes. For example, the following values refer to the same country and should use consistent country code:\n",
    "    * `CY` and `Cyprus`\n",
    "    * `US` and `us`\n",
    "    * `SE` and `se`\n",
    "    * `GB`, `United Kingdom`, and `[u'GB'; u'UK']`\n",
    "\n",
    "#### In the cells below, fix the country values as intructed above."
   ]
  },
  {
   "cell_type": "code",
   "execution_count": 21,
   "metadata": {},
   "outputs": [
    {
     "data": {
      "text/plain": [
       "array(['None', 'US', 'GB', 'UK', 'RU', 'AU', 'CA', 'PA', 'se', 'IN',\n",
       "       \"[u'GB'; u'UK']\", 'UG', 'JP', 'SI', 'IL', 'AT', 'CN', 'BE', 'NO',\n",
       "       'TR', 'KY', 'BR', 'SC', 'NL', 'FR', 'CZ', 'KR', 'UA', 'CH', 'HK',\n",
       "       'United Kingdom', 'DE', 'IT', 'BS', 'SE', 'Cyprus', 'us', 'BY',\n",
       "       'AE', 'IE', 'PH', 'UY'], dtype=object)"
      ]
     },
     "execution_count": 21,
     "metadata": {},
     "output_type": "execute_result"
    }
   ],
   "source": [
    "websites_drops1.WHOIS_COUNTRY.unique()"
   ]
  },
  {
   "cell_type": "code",
   "execution_count": 22,
   "metadata": {},
   "outputs": [],
   "source": [
    "dict = {'se' : 'SE','ru':'RU','us':'US','United Kingdom':'UK','Cyprus':'CY',\"[u'GB'; u'UK']\":'UK'}"
   ]
  },
  {
   "cell_type": "code",
   "execution_count": 23,
   "metadata": {},
   "outputs": [],
   "source": [
    "websites_drops2=websites_drops1.replace({\"WHOIS_COUNTRY\": dict})"
   ]
  },
  {
   "cell_type": "code",
   "execution_count": 24,
   "metadata": {},
   "outputs": [
    {
     "data": {
      "text/plain": [
       "array(['None', 'US', 'GB', 'UK', 'RU', 'AU', 'CA', 'PA', 'SE', 'IN', 'UG',\n",
       "       'JP', 'SI', 'IL', 'AT', 'CN', 'BE', 'NO', 'TR', 'KY', 'BR', 'SC',\n",
       "       'NL', 'FR', 'CZ', 'KR', 'UA', 'CH', 'HK', 'DE', 'IT', 'BS', 'CY',\n",
       "       'BY', 'AE', 'IE', 'PH', 'UY'], dtype=object)"
      ]
     },
     "execution_count": 24,
     "metadata": {},
     "output_type": "execute_result"
    }
   ],
   "source": [
    "websites_drops2.WHOIS_COUNTRY.unique()"
   ]
  },
  {
   "cell_type": "code",
   "execution_count": null,
   "metadata": {},
   "outputs": [],
   "source": [
    "##WHOIS_STATEPRO"
   ]
  },
  {
   "cell_type": "code",
   "execution_count": 25,
   "metadata": {},
   "outputs": [
    {
     "data": {
      "text/plain": [
       "array(['None', 'AK', 'TX', 'CO', 'FL', 'Novosibirskaya obl.', 'Tennessee',\n",
       "       'Vi', 'OR', 'ALBERTA', 'PANAMA', 'Arizona', 'CA', 'AB',\n",
       "       'Tamil Nadu', 'VA', 'quebec', 'MA', 'New Mexico', 'NY',\n",
       "       'Massachusetts', 'WEST MIDLANDS', 'TEXAS', 'WC1N', 'Kentucky',\n",
       "       'NEW YORK', 'PA', 'UK', 'Pennsylvania', 'ON', 'UTTAR PRADESH',\n",
       "       'NC', 'California', 'MD', 'kireka', 'IL', 'Missouri', 'Osaka',\n",
       "       'QC', 'Michigan', 'Maryland', 'Ontario', 'South Carolina', 'Texas',\n",
       "       'New York', 'QLD', 'NJ', 'MO', 'HR', 'Greater London', 'Kansas',\n",
       "       '--', 'BC', 'AL', 'MAINE', 'Virginia', 'Austria', 'DE', 'AZ', 'LA',\n",
       "       'beijingshi', 'North Carolina', 'OH', 'Utah', 'NSW', 'UT',\n",
       "       'New South Wales', 'WV', 'Ohio', 'GRAND CAYMAN', 'TR', 'GA',\n",
       "       'Panama', 'New Jersey', 'Vic', 'worcs', 'London', 'Quebec',\n",
       "       '6110021', 'Not Applicable', 'WA', 'ca', 'MI', 'CT',\n",
       "       'NOT APPLICABLE', 'VIC', 'CALIFORNIA', 'Washington', 'Nebraska',\n",
       "       'Florida', 'Colorado', 'Maharashtra', 'widestep@mail.ru',\n",
       "       'VERMONT', 'ZH', 'NONE', 'Wisconsin', 'UTAH', 'Utr', '-',\n",
       "       'ALABAMA', 'NH', 'WI', 'qc', 'Nevada', 'il', 'Berlin', 'RM', 'NV',\n",
       "       'va', 'New Providence', 'Oregon', 'ny', 'MAHARASHTR', 'MIDDLESEX',\n",
       "       'Rogaland', 'DC', 'ONTARIO', 'Queensland', 'Zug', 'VT', 'TN',\n",
       "       'ANTWERP', 'CH', 'Illinois', 'Saskatchewan', 'Alabama', 'Tottori',\n",
       "       'Arkansas', 'OK', 'Dubai', 'Minnesota', 'KS', 'CO. DUBLIN',\n",
       "       'Metro Manila', 'Montevideo', 'FLORIDA', 'Other', 'QUEBEC',\n",
       "       'Noord-Holland'], dtype=object)"
      ]
     },
     "execution_count": 25,
     "metadata": {},
     "output_type": "execute_result"
    }
   ],
   "source": [
    "websites_drops2.WHOIS_STATEPRO.unique()"
   ]
  },
  {
   "cell_type": "code",
   "execution_count": 26,
   "metadata": {},
   "outputs": [
    {
     "name": "stdout",
     "output_type": "stream",
     "text": [
      "140\n",
      "(967,)\n"
     ]
    }
   ],
   "source": [
    "print(len(websites_drops2.WHOIS_STATEPRO.unique()))\n",
    "print(websites_drops2.WHOIS_STATEPRO.shape)"
   ]
  },
  {
   "cell_type": "code",
   "execution_count": 29,
   "metadata": {},
   "outputs": [
    {
     "data": {
      "text/plain": [
       "array(['None', '12/09/2013 0:45', '11/04/2017 0:00', '1/07/2016 0:00',\n",
       "       '19/03/2017 0:00', '23/11/2016 0:00', '6/10/2016 0:00',\n",
       "       '19/04/2015 0:00', '4/07/2015 0:00', '23/05/2016 0:00',\n",
       "       '10/02/2015 0:00', '25/02/2017 0:00', '29/06/2015 0:00',\n",
       "       '13/07/2016 17:36', '15/05/2016 0:00', '2/03/2017 0:00',\n",
       "       '3/03/2017 0:00', '14/12/2015 0:00', '18/05/2016 0:00',\n",
       "       '27/04/2017 0:00', '9/04/2017 0:00', '31/05/2016 0:00',\n",
       "       '30/09/2016 0:00', '27/05/2016 14:46', '11/11/2012 0:00',\n",
       "       '8/04/2017 0:00', '6/01/2017 0:00', '5/07/2016 0:00',\n",
       "       '6/02/2017 0:00', '13/11/2016 0:00', '26/02/2017 0:00',\n",
       "       '22/12/2016 0:00', '1/02/2017 0:01', '30/05/2016 0:00',\n",
       "       '18/07/2016 0:00', '10/04/2017 0:00', '30/04/2015 0:00',\n",
       "       '21/11/2016 0:00', '6/11/2016 0:00', '8/11/2016 0:00',\n",
       "       '27/02/2017 0:00', '2/04/2014 0:00', '13/02/2014 0:00',\n",
       "       '16/02/2016 0:00', '23/03/2017 0:00', '24/04/2017 0:00',\n",
       "       '7/01/2015 0:00', '14/10/2014 0:00', '2017-03-07T22:02:38.0Z',\n",
       "       '27/04/2015 0:00', '30/09/2016 9:12', '26/03/2017 0:00',\n",
       "       '11/10/2016 0:20', '29/06/2016 0:00', '12/05/2015 0:00',\n",
       "       '9/08/2016 0:00', '18/04/2017 0:00', '22/11/2016 0:00',\n",
       "       '24/02/2017 0:00', '28/03/2017 18:24', '4/02/2017 0:00',\n",
       "       '9/03/2017 0:00', '5/04/2017 0:00', '26/08/2016 0:00',\n",
       "       '7/03/2017 0:00', '14/04/2016 0:00', '9/05/2016 0:00',\n",
       "       '20/10/2015 23:34', '13/07/2016 0:00', '2/12/2016 0:00',\n",
       "       '10/07/2015 0:00', '14/08/2013 0:00', '7/03/2013 0:00',\n",
       "       '4/03/2016 0:00', '15/03/2017 0:00', '4/09/2013 0:00',\n",
       "       '4/10/2016 0:00', '8/01/2016 0:00', '26/04/2015 0:00',\n",
       "       '20/03/2017 0:00', '26/08/2015 0:00', '26/10/2016 0:00',\n",
       "       '24/10/2016 0:00', '30/11/2016 10:30', '3/05/2012 0:00',\n",
       "       '24/08/2016 0:00', '10/09/2016 13:29', '14/05/2015 0:00',\n",
       "       '24/05/2016 0:00', '14/07/2008 0:00', '7/08/2015 0:00',\n",
       "       '12/03/2017 0:00', '24/07/2012 0:00', '22/12/2015 0:00',\n",
       "       '22/03/2017 3:37', '29/03/2017 0:00', '25/04/2017 0:00',\n",
       "       '26/04/2016 0:00', '16/11/2016 0:00', '24/06/2016 0:00',\n",
       "       '29/04/2017 0:00', '14/01/2017 0:00', '2/02/2017 0:00',\n",
       "       '20/09/2013 15:03', '3/03/2015 0:00', '15/04/2016 0:00',\n",
       "       '3/01/2016 0:00', '18/01/2017 0:00', '9/09/2016 0:00',\n",
       "       '24/05/2012 0:00', '11/11/2016 0:00', '12/12/2015 10:16',\n",
       "       '22/03/2017 0:00', '16/03/2017 0:00', '7/07/2016 0:00',\n",
       "       '27/01/2017 0:20', '19/11/2012 0:00', '2/06/2016 0:00',\n",
       "       '10/11/2016 0:00', '19/02/2016 0:00', '10/09/2016 0:00',\n",
       "       '4/03/2017 0:00', '21/04/2017 0:00', '8/12/2016 0:00',\n",
       "       '28/03/2017 0:00', '18/12/2014 0:00', '16/05/2016 0:00',\n",
       "       '28/12/2016 0:00', '28/12/2014 0:00', '1/12/2016 0:00',\n",
       "       '28/03/2017 18:16', '22/01/2017 0:00', '6/07/2015 0:00',\n",
       "       '11/05/2016 14:19', '24/01/2017 0:00', '9/12/2015 14:43',\n",
       "       '25/10/2016 0:00', '26/11/2014 0:00', '14/02/2016 0:00',\n",
       "       '6/09/2016 8:26', '25/05/2016 0:00', '18/06/2016 0:00',\n",
       "       '29/08/2016 0:00', '14/11/2016 0:00', '30/01/2017 0:00',\n",
       "       '5/01/2016 0:00', '28/05/2014 0:00', '29/11/2016 0:00',\n",
       "       '9/09/2013 0:00', '23/04/2017 0:00', '30/08/2016 0:00',\n",
       "       '29/12/2016 14:11', '19/12/2016 8:39', '31/05/2016 17:46',\n",
       "       '29/07/2015 0:00', '9/01/2017 10:11', '22/10/2016 0:00',\n",
       "       '15/09/2016 21:37', '19/08/2015 0:00', '15/04/2017 0:00',\n",
       "       '3/01/2017 0:00', '2/11/2016 0:00', '3/04/2016 0:00',\n",
       "       '15/02/2017 0:00', '7/11/2016 0:00', '19/04/2017 10:41',\n",
       "       '13/02/2013 1:33', '7/02/2017 0:00', '3/10/2016 0:00',\n",
       "       '4/12/2013 0:00', '20/08/2015 15:58', '23/07/2011 0:00',\n",
       "       '4/01/2017 0:00', '30/03/2014 0:00', '16/02/2015 0:00',\n",
       "       '16/03/2015 0:00', '16/10/2014 0:00', '27/01/2017 0:00',\n",
       "       '1/02/2017 0:00', '13/01/2017 0:00', '18/10/2016 0:00',\n",
       "       '4/11/2016 0:00', '26/06/2014 0:00', '18/01/2013 0:00',\n",
       "       '19/04/2017 17:24', '5/09/2016 3:47', '5/11/2015 0:00',\n",
       "       '5/05/2013 3:46', '8/08/2015 0:00', '27/05/2015 0:00',\n",
       "       '17/08/2013 0:00', '26/01/2017 0:00', '2/07/2014 0:00',\n",
       "       '5/01/2017 0:00', '28/02/2017 0:00', '24/03/2017 0:00',\n",
       "       '14/03/2017 0:00', '7/12/2016 0:00', '4/08/2016 0:00',\n",
       "       '24/04/2017 11:55', '9/10/2015 0:00', '29/03/2013 0:00',\n",
       "       '23/11/2015 0:00', '17/06/2016 0:00', '4/05/2016 0:00',\n",
       "       '21/03/2017 0:00', '16/06/2014 0:00', '11/10/2016 0:00',\n",
       "       '5/12/2013 0:00', '1/02/2013 0:00', '17/01/2016 0:00',\n",
       "       '21/02/2017 0:00', '19/03/2016 0:00', '6/07/2016 0:00',\n",
       "       '16/12/2016 0:00', '9/07/2016 0:00', '20/04/2015 0:00',\n",
       "       '10/10/2016 0:00', '18/04/2017 1:29', '12/10/2015 0:00',\n",
       "       '5/03/2017 0:00', '21/10/2016 0:00', '23/04/2015 0:00',\n",
       "       '16/07/2016 7:42', '1/05/2014 0:00', '14/10/2016 0:00',\n",
       "       '21/07/2016 0:00', '23/12/2011 0:00', '13/12/2016 0:00',\n",
       "       '8/12/2014 0:00', '4/09/2016 0:00', '17/10/2016 0:00',\n",
       "       '2/07/2015 0:00', '14/04/2015 0:00', '13/03/2014 0:00',\n",
       "       '27/12/2016 0:00', '26/06/2016 0:00', '20/04/2016 0:00',\n",
       "       '12/12/2016 0:00', '25/11/2015 0:00', '10/07/2012 0:00',\n",
       "       '29/04/2016 0:00', '22/06/2016 0:00', '10/02/2017 0:00',\n",
       "       '10/05/2016 0:00', '4/01/2016 0:00', '4/07/2016 14:14',\n",
       "       '7/04/2016 0:00', '15/12/2015 0:00', '17/04/2015 0:00',\n",
       "       '8/09/2016 0:00', '31/01/2016 0:00', '11/03/2017 15:28',\n",
       "       '16/04/2016 0:00', '23/02/2017 0:00', '7/12/2015 0:00',\n",
       "       '6/05/2016 0:00', '27/03/2014 15:06', '25/03/2017 0:00',\n",
       "       '22/02/2016 0:00', '3/11/2015 0:00', '1/01/2017 0:00',\n",
       "       '13/12/2008 0:00', '30/10/2016 0:00', '12/05/2016 0:00',\n",
       "       '17/12/2012 21:45', '23/12/2016 4:58', '27/03/2017 0:00',\n",
       "       '14/01/2016 0:00', '13/05/2016 0:00', '9/11/2016 0:00',\n",
       "       '29/08/2014 0:00', '10/01/2017 0:00', '13/09/2016 0:00',\n",
       "       '2/04/2017 0:00', '18/11/2013 0:00', '15/07/2016 0:00',\n",
       "       '16/09/2016 0:00', '1/11/2016 0:00', '25/07/2016 0:00',\n",
       "       '1/09/2016 14:20', '9/02/2017 0:00', '27/03/2014 0:00',\n",
       "       '11/11/2014 0:00', '1/06/2016 0:00', '22/04/2015 0:00',\n",
       "       '28/01/2015 0:00', '24/02/2016 0:00', '18/11/2015 0:00',\n",
       "       '30/03/2017 0:00', '5/05/2016 0:00', '18/04/2016 0:00',\n",
       "       '20/02/2017 0:00', '25/08/2015 0:00', '5/09/2014 0:00',\n",
       "       '18/11/2014 0:00', '16/01/2017 0:00', '9/04/2014 0:00',\n",
       "       '15/11/2016 0:00', '1/03/2017 19:31', '29/03/2016 17:55',\n",
       "       '22/07/2016 0:00', '11/08/2016 0:00', '17/03/2017 0:00',\n",
       "       '15/10/2016 0:00', '18/10/2015 0:00', '9/09/2015 20:47',\n",
       "       '23/09/2014 14:02', '18/01/2016 0:00', '28/08/2015 0:00',\n",
       "       '19/05/2016 15:04', '3/04/2016 11:08', '6/03/2017 0:00',\n",
       "       '29/04/2013 0:00', '8/06/2015 0:00', '19/07/2016 0:00',\n",
       "       '3/11/2016 0:00', '8/04/2017 1:39', '23/08/2016 10:07',\n",
       "       '27/09/2016 0:00', '7/12/2015 11:23', '30/04/2014 0:00',\n",
       "       '5/08/2016 0:00', '28/03/2016 0:00', '1/10/2016 0:00',\n",
       "       '17/05/2016 0:00', '29/05/2015 0:00', '31/12/2016 0:00',\n",
       "       '23/02/2015 0:00', '15/04/2015 0:00', '2/09/2016 0:00',\n",
       "       '4/08/2015 0:00', '19/04/2017 0:00', '18/12/2016 0:00',\n",
       "       '14/08/2016 0:00', '11/09/2016 0:00', '28/03/2014 0:00',\n",
       "       '28/04/2017 0:00', '10/02/2016 0:00', '19/09/2016 0:00',\n",
       "       '11/12/2015 0:00', '18/02/2017 0:00', '28/06/2016 0:00',\n",
       "       '20/04/2017 0:00', '19/04/2017 12:59', '15/09/2011 0:00',\n",
       "       '30/12/2016 0:00', '21/05/2016 0:00', '15/09/2014 7:40',\n",
       "       '28/10/2016 0:00', '31/01/2017 0:00', '21/09/2015 0:00',\n",
       "       '1/02/2017 5:28', '1/03/2017 0:00', '22/02/2017 0:00',\n",
       "       '24/02/2015 0:00', '8/01/2017 0:00', '23/01/2014 0:00',\n",
       "       '21/03/2015 0:00', '19/10/2016 0:00', '5/06/2014 0:00',\n",
       "       '15/09/2015 0:00', '10/12/2016 0:00', '16/08/2016 0:00',\n",
       "       '7/08/2013 22:19', '17/12/2016 0:00', '20/01/2017 1:26',\n",
       "       '31/03/2016 0:00', '17/05/2013 0:00', '1/11/2012 0:00',\n",
       "       '2/05/2016 0:00', '12/02/2016 0:00', '6/08/2016 0:00',\n",
       "       '30/09/2009 2:59', '26/04/2017 0:00', '30/04/2013 0:00',\n",
       "       '25/12/2016 0:00', '23/06/2016 0:00', '20/10/2016 0:00',\n",
       "       '20/07/2014 0:00', '3/06/2016 0:00', '31/07/2016 0:00',\n",
       "       '30/08/2013 0:00', '28/10/2015 0:00', '12/06/2015 0:00',\n",
       "       '24/08/2015 0:00', '10/08/2016 0:00', '27/12/2015 0:00',\n",
       "       '31/03/2017 0:00', '8/10/2014 0:00', '29/08/2016 20:58',\n",
       "       '12/08/2016 0:00', '2/02/2016 0:00', '24/04/2015 0:00',\n",
       "       '26/09/2016 0:00', '13/04/2016 0:00', '21/04/2016 0:00',\n",
       "       '9/03/2015 0:00', '13/03/2017 0:00', '27/09/2012 0:00',\n",
       "       '28/04/2016 0:00', '13/02/2017 0:00', '25/02/2017 14:18',\n",
       "       '11/02/2017 0:00', '30/05/2016 18:18', '26/09/2013 0:00',\n",
       "       '5/08/2013 0:00', '13/08/2016 0:00', '26/07/2016 0:00',\n",
       "       '19/02/2017 0:00', '2/07/2015 17:44', '13/08/2015 0:00',\n",
       "       '15/02/2016 0:00', '11/12/2016 0:00', '16/01/2017 17:49',\n",
       "       '12/07/2016 0:00', '7/05/2016 0:00', '25/11/2016 0:00',\n",
       "       '17/02/2016 0:00', '13/11/2013 0:00', '13/07/2014 0:00',\n",
       "       '12/11/2015 0:00', '14/01/2012 0:00', '19/12/2016 0:00',\n",
       "       '20/05/2016 0:00', '27/05/2016 0:00', '2/06/2009 0:00',\n",
       "       '17/03/2016 4:34', '14/06/2016 0:00', '20/11/2015 0:00',\n",
       "       '15/07/2015 0:00', '20/11/2013 0:00'], dtype=object)"
      ]
     },
     "execution_count": 29,
     "metadata": {},
     "output_type": "execute_result"
    }
   ],
   "source": [
    "#WHOIS_UPDATED_DATE\n",
    "websites_drops2.WHOIS_UPDATED_DATE.unique()"
   ]
  },
  {
   "cell_type": "code",
   "execution_count": 28,
   "metadata": {},
   "outputs": [
    {
     "data": {
      "text/plain": [
       "array(['10/10/2015 18:21', 'None', '7/10/1997 4:00', '12/05/1996 0:00',\n",
       "       '29/07/2002 0:00', '18/03/1997 0:00', '22/11/2016 0:00',\n",
       "       '11/10/2002 0:00', '14/11/2002 0:00', '16/07/2000 0:00',\n",
       "       '25/05/2013 0:00', '9/08/1999 0:00', '15/09/2013 0:00',\n",
       "       '2/11/2003 0:00', '12/08/2008 22:10', '21/05/2009 0:00',\n",
       "       '13/01/2005 0:00', '4/01/2001 0:00', '8/12/2006 0:00',\n",
       "       '16/06/2000 0:00', '13/10/2000 0:00', '31/12/1999 0:00',\n",
       "       '17/05/2008 0:00', '30/05/2002 0:00', '20/10/2005 0:00',\n",
       "       '5/03/1996 5:00', '10/01/1998 0:00', '7/04/2011 0:00',\n",
       "       '26/02/2009 0:00', '4/07/2007 0:00', '2/07/1998 0:00',\n",
       "       '15/12/2004 0:00', '25/02/2008 0:00', '16/07/2016 0:00',\n",
       "       '27/11/2016 19:09', '30/05/2008 0:00', '25/09/2000 0:00',\n",
       "       '9/04/2002 0:00', '11/01/1997 0:00', '19/12/2007 0:00',\n",
       "       '6/11/1997 0:00', '21/01/2000 0:00', '27/04/2009 0:00',\n",
       "       '31/05/2000 0:00', '9/03/2000 0:00', '19/01/2015 0:00',\n",
       "       '22/03/2017 0:00', '28/04/1997 0:00', '4/03/1996 0:00',\n",
       "       '21/10/2004 0:00', '2002-03-20T23:59:59.0Z', '11/11/1996 0:00',\n",
       "       '2/10/1995 4:00', '28/06/2011 0:00', '16/08/2016 0:00',\n",
       "       '9/05/2000 17:31', '31/07/2000 0:00', '14/05/1999 0:00',\n",
       "       '15/06/2007 0:00', '21/09/2009 0:00', '20/01/1995 0:00',\n",
       "       '28/03/2006 0:00', '28/09/2007 16:06', '4/02/2017 0:00',\n",
       "       '7/03/1996 0:00', '4/04/2003 0:00', '26/08/2015 0:00',\n",
       "       '30/11/2004 0:00', '5/03/2008 0:00', '8/05/2003 0:00',\n",
       "       '2/11/2010 21:52', '23/05/2006 0:00', '2/12/1998 0:00',\n",
       "       '30/05/2003 0:00', '17/03/2006 0:00', '1/03/1999 0:00',\n",
       "       '1/07/2015 0:00', '8/02/2013 0:00', '4/08/1998 0:00',\n",
       "       '30/04/2016 0:00', '30/12/1999 0:00', '13/07/2001 0:00',\n",
       "       '18/01/1995 0:00', '25/10/2014 0:00', '20/05/1996 0:00',\n",
       "       '1/12/1996 5:00', '11/11/2000 0:00', '4/09/2004 0:00',\n",
       "       '9/09/2005 13:44', '7/08/1996 0:00', '4/04/2006 0:00',\n",
       "       '25/05/2000 0:00', '9/07/2008 0:00', '10/05/2006 20:00',\n",
       "       '29/07/2006 0:00', '6/09/2016 0:00', '6/08/1995 0:00',\n",
       "       '23/10/2008 0:00', '19/02/2009 0:00', '30/08/1998 0:00',\n",
       "       '22/03/2005 3:36', '26/06/2009 0:00', '20/04/2000 0:00',\n",
       "       '29/05/1996 0:00', '12/11/2016 0:00', '19/08/2012 0:00',\n",
       "       '28/04/2003 0:00', '14/01/2008 0:00', '26/03/2000 0:00',\n",
       "       '2/11/2002 0:00', '6/05/2010 16:44', '9/03/2007 0:00',\n",
       "       '31/05/1996 0:00', '29/07/2004 0:00', '17/01/2005 0:00',\n",
       "       '1/06/2005 0:00', '22/12/1999 0:00', '17/11/2003 0:00',\n",
       "       '13/01/2001 0:12', '21/03/2014 0:00', '22/10/1998 0:00',\n",
       "       '17/07/2009 0:00', '24/05/2001 20:47', '27/06/2004 0:00',\n",
       "       '1/06/2004 0:00', '13/12/1995 0:00', '10/11/2000 0:00',\n",
       "       '30/10/2003 0:00', '5/10/2006 0:00', '14/10/2005 0:00',\n",
       "       '7/09/2000 0:00', '8/12/2007 0:00', '6/04/2008 0:00',\n",
       "       '16/07/1998 0:00', '9/02/2001 0:00', '28/12/1999 0:00',\n",
       "       '18/12/2004 0:00', '9/02/2009 0:00', '2/07/2010 0:00',\n",
       "       '12/11/2007 20:49', '22/02/2006 0:00', '5/06/2000 0:00',\n",
       "       '10/05/2006 23:10', '22/02/2001 0:00', '11/09/1997 4:00',\n",
       "       '16/10/2000 0:00', '5/08/1993 0:00', '2/11/1996 0:00',\n",
       "       '14/02/2000 0:00', '14/09/2009 8:39', '24/05/2000 0:00',\n",
       "       '18/07/2005 0:00', '28/10/1999 0:00', '18/04/1995 0:00',\n",
       "       '24/09/1996 0:00', '10/01/1992 0:00', '17/07/2001 0:00',\n",
       "       '21/09/2001 0:00', '5/06/2003 0:00', '19/02/2002 1:02',\n",
       "       '28/11/1999 0:00', '26/05/1997 0:00', '5/07/2008 0:00',\n",
       "       '7/04/2007 0:00', '29/01/2004 16:01', '17/02/1999 5:00',\n",
       "       '27/02/2000 15:05', '8/08/2002 0:00', '8/01/2009 10:56',\n",
       "       '21/10/2006 0:00', '14/09/2000 8:47', '17/02/2006 0:00',\n",
       "       '15/05/2005 0:00', '8/01/2004 0:00', '26/11/1996 0:00',\n",
       "       '24/08/2003 0:00', '28/10/2008 0:00', '28/02/2008 0:00',\n",
       "       '22/09/1993 0:00', '7/11/2016 0:00', '30/07/2009 4:01',\n",
       "       '13/09/2001 23:03', '2/10/2005 0:00', '20/10/1998 0:00',\n",
       "       '23/04/2002 18:56', '26/09/2005 0:00', '4/01/1995 0:00',\n",
       "       '30/07/2004 0:00', '17/02/2009 0:00', '8/11/1998 0:00',\n",
       "       '12/02/2002 0:00', '8/05/1996 0:00', '2/03/1999 0:00',\n",
       "       '21/11/2016 0:00', '25/10/2006 0:00', '4/11/2003 0:00',\n",
       "       '30/07/2002 0:00', '9/03/2010 0:00', '4/07/2001 23:21',\n",
       "       '6/07/2016 14:30', '13/06/1997 0:00', '5/03/2013 20:51',\n",
       "       '14/04/1999 0:00', '27/05/2008 0:00', '16/08/1999 0:00',\n",
       "       '4/08/1995 0:00', '11/10/2000 0:00', '30/04/2009 0:00',\n",
       "       '13/02/2017 0:00', '29/09/2015 0:00', '19/08/2004 0:00',\n",
       "       '18/03/2016 0:00', '6/12/2010 0:00', '3/08/2004 0:00',\n",
       "       '14/05/2002 0:00', '9/05/2004 18:06', '13/11/2002 0:00',\n",
       "       '9/12/1996 0:00', '30/01/1996 0:00', '16/07/1999 0:00',\n",
       "       '26/09/2003 0:00', '11/11/2006 0:00', '3/05/2015 0:00',\n",
       "       '4/02/2005 0:00', '9/12/2003 0:00', '13/09/2000 0:00',\n",
       "       '5/02/1999 0:00', '10/05/2000 0:00', '25/01/1995 0:00',\n",
       "       '28/06/2006 0:00', '25/06/1997 0:00', '9/01/1998 0:00',\n",
       "       '17/03/2000 0:00', '29/02/2008 0:00', '18/05/2001 0:00',\n",
       "       '30/10/2002 0:00', '19/12/2000 0:00', '13/05/1998 0:00',\n",
       "       '29/07/2007 0:00', '15/07/2009 0:00', '27/09/2000 0:00',\n",
       "       '10/03/2005 0:00', '27/11/2002 0:00', '12/03/2009 1:58',\n",
       "       '8/11/1993 0:00', '25/07/1998 0:00', '4/06/2009 0:00',\n",
       "       '29/11/2000 0:00', '6/10/2005 0:00', '22/09/2009 0:00',\n",
       "       '18/01/1994 0:00', '13/09/1996 4:00', '30/01/2007 0:00',\n",
       "       '11/03/2017 0:00', '22/11/2003 0:00', '14/10/2016 0:00',\n",
       "       '26/07/1995 0:00', '22/04/1999 0:00', '7/03/2000 0:00',\n",
       "       '15/11/1998 0:00', '28/08/1998 0:00', '4/10/2003 0:00',\n",
       "       '24/04/2007 0:00', '26/01/2001 0:00', '19/09/2002 0:00',\n",
       "       '18/10/2002 0:00', '18/10/2004 0:00', '5/11/1997 0:00',\n",
       "       '28/11/2006 0:00', '24/02/1996 0:00', '21/12/2005 0:00',\n",
       "       '1/07/1998 0:00', '5/05/2004 0:00', '2/12/2004 0:00',\n",
       "       '10/08/1998 0:00', '13/04/2005 0:00', '14/08/2000 0:00',\n",
       "       '29/12/2005 0:00', '25/06/2002 0:00', '22/06/2014 0:00',\n",
       "       '5/08/1999 0:00', '28/08/2003 0:00', '9/03/2004 0:00',\n",
       "       '22/03/2009 0:00', '3/07/2000 17:33', '2/02/1996 0:00',\n",
       "       '19/02/1997 0:00', '23/08/2010 0:00', '23/09/2009 0:00',\n",
       "       '20/09/1995 0:00', '30/01/2003 0:00', '6/11/2001 1:42',\n",
       "       '11/11/1999 0:00', '26/07/1990 0:00', '16/05/1995 0:00',\n",
       "       '26/04/2004 0:00', '9/03/2006 0:00', '23/07/2011 0:00',\n",
       "       '2/04/1999 0:00', '21/05/2007 21:12', '1/05/1996 0:00',\n",
       "       '22/02/2007 0:00', '6/12/1994 0:00', '2/01/2003 0:00',\n",
       "       '6/10/1999 0:00', '30/12/1996 0:00', '14/09/1995 0:00',\n",
       "       '27/02/1998 5:00', '21/01/2007 22:31', '20/11/2007 0:00',\n",
       "       '4/05/2001 0:00', '9/09/2002 0:00', '15/02/2000 0:00',\n",
       "       '15/10/2005 0:00', '1/06/1996 0:00', '2/06/1994 0:00',\n",
       "       '31/05/1995 0:00', '18/01/2008 0:00', '22/03/1999 0:00',\n",
       "       '7/05/1998 0:00', '23/10/1994 0:00', '24/05/2010 0:00',\n",
       "       '14/10/2007 12:24', '9/02/2007 0:00', '7/08/1995 0:00',\n",
       "       '10/01/2006 0:00', '31/08/2004 0:00', '5/12/2005 0:00',\n",
       "       '5/05/2001 0:00', '16/02/2005 0:00', '17/12/2005 0:00',\n",
       "       '2/10/2002 0:00', '6/03/1998 0:00', '29/09/2005 0:00',\n",
       "       '17/07/2000 0:00', '27/06/2015 0:00', '19/02/2005 0:00',\n",
       "       '7/11/1996 0:00', '6/11/1998 0:00', '29/09/2000 0:00',\n",
       "       '18/10/2000 0:00', '30/12/2002 0:00', '15/09/1997 0:00',\n",
       "       '1/09/1995 4:00', '16/03/2003 8:22', '22/07/2008 0:00',\n",
       "       '5/11/1999 0:00', 'b', '13/08/2002 0:00', '1/09/1998 0:00',\n",
       "       '8/12/1997 0:00', '16/12/1993 5:00', '16/02/2001 9:00',\n",
       "       '25/02/1999 0:00', '6/08/2004 0:00', '18/05/2003 7:22',\n",
       "       '9/08/2002 18:13', '29/12/2008 0:00', '31/07/2006 0:00',\n",
       "       '16/11/1998 0:00', '31/05/2005 0:00', '3/08/1998 0:00',\n",
       "       '14/04/1998 0:00', '28/08/2007 0:00', '12/12/1990 0:00',\n",
       "       '19/07/2016 0:00', '2/12/2000 0:00', '7/04/2006 16:53',\n",
       "       '6/05/2006 0:00', '12/09/2009 21:54', '1/10/2001 0:00',\n",
       "       '18/04/2001 0:00', '15/08/1995 0:00', '8/09/2004 0:00',\n",
       "       '26/01/2001 12:11', '1/11/1994 0:00', '7/09/1993 0:00',\n",
       "       '16/06/1996 0:00', '6/11/2007 0:00', '14/06/1995 0:00',\n",
       "       '23/03/1998 0:00', '21/04/2002 0:00', '7/07/2007 0:00',\n",
       "       '31/12/2005 0:00', '28/04/2005 0:00', '24/04/1999 0:00',\n",
       "       '24/01/2001 0:00', '23/05/1997 0:00', '21/11/1997 0:00',\n",
       "       '1/09/2016 0:00', '9/08/1995 0:00', '15/04/2010 0:00',\n",
       "       '4/12/2014 0:00', '16/07/1998 16:08', '14/10/2001 0:00',\n",
       "       '13/08/2003 0:00', '10/09/2003 0:00', '9/04/2008 0:00',\n",
       "       '25/10/2002 0:00', '20/01/1998 0:00', '27/05/1997 0:00',\n",
       "       '13/03/2000 0:00', '16/12/2004 0:00', '4/06/2010 0:00',\n",
       "       '11/10/2005 0:00', '25/10/2003 0:00', '22/12/2003 0:00',\n",
       "       '3/12/1996 0:00', '9/02/2005 0:00', '27/03/1998 0:00',\n",
       "       '20/03/2002 0:00', '15/03/2005 0:00', '10/10/2006 0:00',\n",
       "       '3/06/1993 0:00', '27/04/2007 0:00', '7/04/2006 10:47',\n",
       "       '30/03/1994 0:00', '16/09/1996 0:00', '28/01/2006 0:00',\n",
       "       '9/10/2014 0:00', '29/08/2001 0:00', '8/02/1996 0:00',\n",
       "       '2/10/2001 13:00', '16/09/2004 0:00', '15/07/1999 0:00',\n",
       "       '28/07/2007 0:00', '10/02/2000 0:00', '19/07/2004 14:56',\n",
       "       '24/09/2009 0:00', '2/01/2001 0:00', '16/11/2016 0:00',\n",
       "       '13/05/2011 0:00', '26/05/1998 0:00', '5/11/2007 0:00',\n",
       "       '10/03/1998 0:00', '23/01/2004 0:00', '11/01/2005 0:00',\n",
       "       '2/06/2004 0:00', '11/06/2002 0:00', '15/11/1995 0:00',\n",
       "       '15/12/1994 0:00', '17/08/1995 0:00', '29/01/2003 23:45',\n",
       "       '27/01/2010 0:00', '28/12/1998 0:00', '18/01/1996 5:00',\n",
       "       '17/11/2006 0:00', '21/05/2006 0:00', '24/11/2001 0:00',\n",
       "       '31/10/1997 0:00', '1/05/2009 0:00', '8/04/2009 0:00',\n",
       "       '8/04/1998 0:00', '5/08/2008 0:00', '29/03/2008 0:00',\n",
       "       '15/12/2007 0:00', '3/09/1996 4:00', '2/08/2000 0:00',\n",
       "       '9/01/2007 0:00', '29/03/2000 0:00', '20/03/2005 0:00',\n",
       "       '3/07/2000 0:00', '20/08/2014 0:00', '2/10/2007 0:00',\n",
       "       '14/12/2004 0:00', '3/10/1997 0:00', '2/10/2000 0:00',\n",
       "       '16/06/2014 0:00', '29/04/1994 0:00', '14/04/2017 0:00',\n",
       "       '10/08/1995 0:00', '18/10/2005 0:00', '16/11/1994 0:00',\n",
       "       '23/06/1999 0:00', '24/10/1996 0:00', '26/05/1994 0:00',\n",
       "       '2/03/2000 0:00', '4/02/1996 0:00', '23/07/2004 0:00',\n",
       "       '17/05/2004 0:00', '8/09/2003 0:00', '7/07/1999 0:00',\n",
       "       '25/02/2005 0:00', '20/08/2000 0:00', '3/03/2004 0:00',\n",
       "       '10/11/1994 0:00', '2/04/2009 0:00', '10/12/2010 0:00',\n",
       "       '5/11/1996 5:00', '8/03/2003 0:00', '12/08/2005 0:00',\n",
       "       '23/11/1998 0:00', '14/03/2004 0:00', '19/05/2016 0:00',\n",
       "       '24/05/2006 0:00', '12/02/2000 0:00', '3/05/2004 0:00',\n",
       "       '15/04/2002 0:00', '7/07/1997 0:00', '5/03/1994 0:00',\n",
       "       '22/05/1995 0:00', '23/04/1996 0:00', '27/01/1995 0:00',\n",
       "       '9/08/1994 0:00', '19/05/2003 0:00', '2/07/1999 0:00',\n",
       "       '17/03/2009 0:00', '25/07/1995 0:00', '11/08/2009 0:00',\n",
       "       '24/03/2005 0:00', '8/07/1996 0:00', '29/03/1994 0:00',\n",
       "       '1/02/1994 0:00', '2/01/2016 0:00', '24/02/2008 18:32',\n",
       "       '2/12/1997 0:00', '17/10/2008 0:00', '16/02/2010 0:00',\n",
       "       '10/05/1996 0:00', '27/01/2007 0:00', '8/06/2009 3:48',\n",
       "       '19/04/2003 0:00', '6/08/2002 0:00', '10/01/2000 0:00',\n",
       "       '17/05/2007 0:00', '10/08/2016 0:00', '3/01/2009 0:00',\n",
       "       '26/06/2007 0:00', '1/03/1994 0:00', '13/12/1993 5:00',\n",
       "       '28/11/1994 0:00', '6/09/2005 0:00', '7/11/2003 0:00',\n",
       "       '18/03/1999 0:00', '3/09/1996 0:00', '19/12/1995 0:00',\n",
       "       '23/03/1999 0:00', '27/01/2011 0:00', '13/01/1996 0:00',\n",
       "       '28/02/1994 5:00', '16/07/2007 0:00', '22/05/2009 0:00',\n",
       "       '10/03/2006 0:00', '18/12/2006 0:00', '10/09/1998 0:00',\n",
       "       '26/06/1995 0:00', '28/12/2007 0:00', '8/02/1999 0:00',\n",
       "       '13/02/1999 0:00', '16/01/2008 0:00', '31/07/1997 0:00',\n",
       "       '4/03/2006 0:00', '1/11/2000 0:00', '18/12/2008 0:00',\n",
       "       '31/08/2003 0:00', '29/04/1999 0:00', '22/06/1998 0:00',\n",
       "       '14/12/1999 0:00', '28/01/2004 0:00', '27/07/1995 0:00',\n",
       "       '15/06/2006 0:00', '13/07/1998 0:00', '8/01/1997 0:00',\n",
       "       '29/07/1998 4:00', '14/08/1997 0:00', '23/11/2010 0:00',\n",
       "       '26/06/1997 0:00', '15/02/1999 0:00', '14/11/2008 0:00'],\n",
       "      dtype=object)"
      ]
     },
     "execution_count": 28,
     "metadata": {},
     "output_type": "execute_result"
    }
   ],
   "source": [
    "#WHOIS_REGDATE\n",
    "websites_drops2.WHOIS_REGDATE.unique()"
   ]
  },
  {
   "cell_type": "code",
   "execution_count": 30,
   "metadata": {},
   "outputs": [
    {
     "name": "stdout",
     "output_type": "stream",
     "text": [
      "['M0_109' 'B0_2314' 'B0_911' 'B0_113' 'B0_403' 'B0_462' 'B0_1128'\n",
      " 'B0_1102' 'B0_22' 'B0_482' 'B0_869' 'M0_71' 'M0_97' 'B0_2303' 'B0_584'\n",
      " 'M0_69' 'B0_2122' 'B0_2176' 'B0_569' 'B0_884' 'B0_916' 'B0_1130'\n",
      " 'B0_1185' 'B0_1369' 'B0_1412' 'B0_2217' 'B0_614' 'B0_622' 'B0_790'\n",
      " 'M0_175' 'M0_89' 'B0_126' 'B0_2301' 'B0_2315' 'B0_282' 'B0_326' 'B0_543'\n",
      " 'B0_656' 'B0_1347' 'B0_2127' 'B0_568' 'B0_781' 'B0_786' 'M0_171' 'M0_68'\n",
      " 'M0_70' 'M0_72' 'B0_1125' 'B0_1374' 'B0_159' 'B0_179' 'B0_2027' 'B0_256'\n",
      " 'B0_859' 'M0_67' 'M0_75' 'B0_1353' 'B0_453' 'B0_966' 'M0_94' 'B0_1020'\n",
      " 'B0_2228' 'B0_229' 'B0_2309' 'B0_310' 'B0_332' 'B0_438' 'B0_563' 'B0_695'\n",
      " 'B0_981' 'M0_106' 'M0_74' 'B0_1051' 'B0_1095' 'B0_1096' 'B0_1154'\n",
      " 'B0_1287' 'B0_1408' 'B0_170' 'B0_2024' 'B0_2123' 'B0_2128' 'B0_2166'\n",
      " 'B0_2242' 'B0_2266' 'B0_259' 'B0_44' 'B0_499' 'B0_642' 'B0_887' 'B0_894'\n",
      " 'B0_920' 'M0_112' 'B0_1388' 'B0_2282' 'B0_330' 'B0_348' 'B0_711' 'M0_73'\n",
      " 'B0_1028' 'B0_1114' 'B0_1241' 'B0_2278' 'B0_263' 'B0_504' 'B0_597'\n",
      " 'B0_65' 'B0_698' 'B0_850' 'B0_992' 'M0_136' 'M0_140' 'B0_1181' 'B0_128'\n",
      " 'B0_1341' 'B0_2095' 'B0_2229' 'B0_2271' 'B0_254' 'B0_303' 'B0_40'\n",
      " 'B0_507' 'B0_582' 'B0_937' 'M0_122' 'M0_125' 'M0_138' 'M0_142' 'B0_1288'\n",
      " 'B0_1390' 'B0_1419' 'B0_2155' 'B0_312' 'B0_570' 'M0_130' 'M0_159'\n",
      " 'M0_180' 'B0_1036' 'B0_1054' 'B0_1087' 'B0_110' 'B0_2098' 'B0_2142'\n",
      " 'B0_2221' 'B0_322' 'B0_460' 'B0_586' 'B0_746' 'B0_760' 'B0_961' 'M0_107'\n",
      " 'M0_108' 'M0_123' 'M0_124' 'M0_127' 'M0_135' 'M0_137' 'M0_148' 'M0_152'\n",
      " 'B0_1148' 'B0_144' 'B0_194' 'B0_2026' 'B0_2156' 'B0_2319' 'B0_308'\n",
      " 'B0_337' 'B0_717' 'B0_739' 'B0_807' 'B0_9' 'B0_971' 'M0_121' 'M0_129'\n",
      " 'M0_131' 'M0_133' 'M0_134' 'M0_157' 'B0_1042' 'B0_1049' 'B0_1306'\n",
      " 'B0_1359' 'B0_305' 'B0_444' 'B0_474' 'B0_487' 'B0_60' 'B0_69' 'B0_701'\n",
      " 'B0_990' 'M0_115' 'M0_16' 'M0_60' 'B0_1167' 'B0_1196' 'B0_1204' 'B0_1219'\n",
      " 'B0_1316' 'B0_2056' 'B0_2093' 'B0_2116' 'B0_2230' 'B0_2277' 'B0_476'\n",
      " 'B0_646' 'B0_677' 'B0_777' 'B0_946' 'B0_947' 'M0_120' 'M0_151' 'M0_42'\n",
      " 'M0_43' 'M0_90' 'B0_1019' 'B0_1030' 'B0_1224' 'B0_127' 'B0_1289'\n",
      " 'B0_1387' 'B0_1403' 'B0_1404' 'B0_184' 'B0_2011' 'B0_2138' 'B0_2213'\n",
      " 'B0_246' 'B0_295' 'B0_34' 'B0_360' 'B0_37' 'B0_41' 'B0_441' 'B0_464'\n",
      " 'B0_496' 'B0_536' 'B0_90' 'B0_914' 'B0_918' 'M0_141' 'M0_144' 'M0_145'\n",
      " 'M0_150' 'M0_44' 'M0_91' 'B0_1050' 'B0_1161' 'B0_1198' 'B0_1210'\n",
      " 'B0_1279' 'B0_1300' 'B0_2136' 'B0_2193' 'B0_2241' 'B0_2244' 'B0_2291'\n",
      " 'B0_253' 'B0_389' 'B0_392' 'B0_471' 'B0_50' 'B0_632' 'B0_710' 'B0_865'\n",
      " 'B0_870' 'M0_126' 'M0_139' 'M0_143' 'M0_158' 'M0_160' 'M0_39' 'M0_45'\n",
      " 'B0_1033' 'B0_1075' 'B0_1116' 'B0_1142' 'B0_116' 'B0_1383' 'B0_2010'\n",
      " 'B0_2034' 'B0_2148' 'B0_222' 'B0_2275' 'B0_251' 'B0_353' 'B0_391'\n",
      " 'B0_416' 'B0_520' 'B0_552' 'B0_562' 'B0_590' 'B0_697' 'B0_703' 'B0_765'\n",
      " 'B0_976' 'B0_980' 'M0_116' 'M0_156' 'M0_52' 'M0_57' 'M0_92' 'B0_107'\n",
      " 'B0_1296' 'B0_1378' 'B0_2299' 'B0_238' 'B0_30' 'B0_364' 'B0_427' 'B0_829'\n",
      " 'M0_128' 'M0_154' 'M0_155' 'M0_47' 'M0_48' 'M0_50' 'M0_53' 'M1_3'\n",
      " 'B0_1257' 'B0_1260' 'B0_1268' 'B0_1375' 'B0_1422' 'B0_146' 'B0_2112'\n",
      " 'B0_2231' 'B0_314' 'B0_510' 'B0_518' 'B0_527' 'B0_575' 'B0_603' 'B0_840'\n",
      " 'B0_963' 'M0_132' 'M0_153' 'M0_54' 'M0_95' 'B0_1005' 'B0_120' 'B0_206'\n",
      " 'B0_2070' 'B0_2188' 'B0_242' 'B0_324' 'B0_331' 'B0_354' 'B0_612' 'B0_667'\n",
      " 'B0_759' 'B0_989' 'M0_49' 'B0_1055' 'B0_1111' 'B0_1180' 'B0_1405'\n",
      " 'B0_2090' 'B0_2139' 'B0_2140' 'B0_226' 'B0_235' 'B0_289' 'B0_311'\n",
      " 'B0_316' 'B0_408' 'B0_49' 'B0_557' 'B0_616' 'B0_617' 'B0_633' 'B0_733'\n",
      " 'B0_833' 'B0_993' 'B0_10' 'B0_1062' 'B0_1083' 'B0_1140' 'B0_1192'\n",
      " 'B0_1232' 'B0_1262' 'B0_1272' 'B0_1318' 'B0_1343' 'B0_158' 'B0_2204'\n",
      " 'B0_266' 'B0_288' 'B0_317' 'B0_406' 'B0_467' 'B0_509' 'B0_541' 'B0_585'\n",
      " 'B0_608' 'B0_683' 'B0_691' 'B0_766' 'B0_798' 'B0_871' 'M0_117' 'M0_82'\n",
      " 'B0_1201' 'B0_1221' 'B0_123' 'B0_124' 'B0_1314' 'B0_2016' 'B0_2153'\n",
      " 'B0_234' 'B0_237' 'B0_270' 'B0_292' 'B0_304' 'B0_306' 'B0_477' 'B0_525'\n",
      " 'B0_542' 'B0_55' 'B0_555' 'B0_565' 'B0_64' 'B0_727' 'B0_736' 'B0_747'\n",
      " 'B0_873' 'B0_1245' 'B0_1286' 'B0_1294' 'B0_1305' 'B0_1340' 'B0_1410'\n",
      " 'B0_2005' 'B0_2111' 'B0_298' 'B0_32' 'B0_39' 'B0_446' 'B0_650' 'B0_913'\n",
      " 'B0_926' 'B0_949' 'B0_998' 'M0_114' 'M0_146' 'M0_46' 'M0_51' 'B0_1046'\n",
      " 'B0_1063' 'B0_1118' 'B0_1170' 'B0_1259' 'B0_131' 'B0_1392' 'B0_1424'\n",
      " 'B0_2020' 'B0_203' 'B0_2069' 'B0_223' 'B0_2247' 'B0_281' 'B0_307'\n",
      " 'B0_567' 'B0_67' 'B0_694' 'B0_71' 'B0_836' 'M0_149' 'M0_164' 'M0_81'\n",
      " 'B0_1090' 'B0_1123' 'B0_1217' 'B0_1243' 'B0_137' 'B0_1416' 'B0_16'\n",
      " 'B0_2054' 'B0_2107' 'B0_2113' 'B0_2280' 'B0_2317' 'B0_341' 'B0_365'\n",
      " 'B0_524' 'B0_609' 'B0_637' 'B0_663' 'B0_729' 'B0_95' 'B0_974' 'M0_147'\n",
      " 'M0_88' 'B0_1026' 'B0_1088' 'B0_1370' 'B0_1423' 'B0_2180' 'B0_371'\n",
      " 'B0_402' 'B0_419' 'B0_429' 'B0_521' 'B0_537' 'B0_564' 'B0_610' 'B0_682'\n",
      " 'B0_789' 'B0_797' 'B0_843' 'B0_898' 'B0_907' 'B0_975' 'B0_1160' 'B0_1346'\n",
      " 'B0_1362' 'B0_150' 'B0_2046' 'B0_2147' 'B0_2186' 'B0_2212' 'B0_2227'\n",
      " 'B0_2279' 'B0_267' 'B0_377' 'B0_780' 'B0_787' 'B0_837' 'B0_938' 'M0_161'\n",
      " 'B0_1076' 'B0_1080' 'B0_1115' 'B0_1304' 'B0_181' 'B0_2014' 'B0_2032'\n",
      " 'B0_211' 'B0_2198' 'B0_2232' 'B0_325' 'B0_670' 'B0_696' 'B0_741' 'B0_880'\n",
      " 'B0_89' 'B0_956' 'M0_80' 'B0_1247' 'B0_2048' 'B0_2119' 'B0_2268' 'B0_472'\n",
      " 'B0_556' 'B0_827' 'B0_862' 'B0_977' 'M0_41' 'M0_87' 'B0_1002' 'B0_1129'\n",
      " 'B0_1149' 'B0_1188' 'B0_1301' 'B0_174' 'B0_230' 'B0_370' 'B0_4' 'B0_478'\n",
      " 'B0_48' 'B0_665' 'B0_750' 'B0_799' 'B0_858' 'B0_1039' 'B0_1047' 'B0_1146'\n",
      " 'B0_1421' 'B0_21' 'B0_2141' 'B0_815' 'B0_879' 'B0_936' 'B0_959' 'B0_1'\n",
      " 'B0_1110' 'B0_1124' 'B0_1144' 'B0_1179' 'B0_1214' 'B0_1276' 'B0_1317'\n",
      " 'B0_1396' 'B0_2215' 'B0_2281' 'B0_28' 'B0_394' 'B0_421' 'B0_522' 'B0_56'\n",
      " 'B0_615' 'B0_853' 'B0_867' 'B0_881' 'B0_943' 'B0_986' 'B0_1041' 'B0_1092'\n",
      " 'B0_1249' 'B0_2081' 'B0_2130' 'B0_2150' 'B0_2167' 'B0_2173' 'B0_2191'\n",
      " 'B0_299' 'B0_458' 'B0_517' 'B0_535' 'B0_625' 'B0_636' 'B0_732' 'B0_749'\n",
      " 'B0_791' 'B0_86' 'B0_996' 'M0_83' 'B0_1107' 'B0_1256' 'B0_1274' 'B0_2201'\n",
      " 'B0_302' 'B0_329' 'B0_358' 'B0_368' 'B0_554' 'B0_857' 'B0_921' 'B0_12'\n",
      " 'B0_1206' 'B0_1233' 'B0_1269' 'B0_1331' 'B0_1358' 'B0_1417' 'B0_2047'\n",
      " 'B0_2050' 'B0_265' 'B0_296' 'B0_397' 'B0_486' 'B0_516' 'B0_592' 'B0_600'\n",
      " 'B0_674' 'B0_718' 'B0_779' 'B0_802' 'B0_93' 'B0_119' 'B0_1211' 'B0_1297'\n",
      " 'B0_1400' 'B0_2035' 'B0_2108' 'B0_2168' 'B0_2292' 'B0_447' 'B0_627'\n",
      " 'B0_662' 'B0_953' 'M0_56' 'B0_1113' 'B0_1189' 'B0_1231' 'B0_1366'\n",
      " 'B0_1409' 'B0_157' 'B0_2012' 'B0_2200' 'B0_2287' 'B0_240' 'B0_272'\n",
      " 'B0_924' 'B0_973' 'B0_106' 'B0_1171' 'B0_1212' 'B0_1327' 'B0_1330'\n",
      " 'B0_1379' 'B0_383' 'B0_743' 'B0_788' 'B0_917' 'B0_1000' 'B0_1182'\n",
      " 'B0_204' 'B0_2154' 'B0_2276' 'B0_380' 'B0_497' 'B0_52' 'B0_547' 'B0_7'\n",
      " 'B0_722' 'B0_757' 'B0_771' 'B0_1267' 'B0_1320' 'B0_323' 'B0_657' 'B0_78'\n",
      " 'B0_844' 'B0_983' 'B0_1003' 'B0_1367' 'B0_449' 'B0_538' 'B0_825' 'B0_929'\n",
      " 'M0_85' 'B0_1018' 'B0_31' 'B0_933' 'B0_969' 'B0_1248' 'B0_198' 'B0_2057'\n",
      " 'B0_2120' 'B0_2298' 'B0_339' 'B0_440' 'B0_513' 'B0_643' 'B0_1235'\n",
      " 'B0_1386' 'B0_148' 'B0_27' 'B0_684' 'M0_178' 'B0_1077' 'B0_1098' 'B0_115'\n",
      " 'B0_1194' 'B0_1273' 'B0_459' 'B0_955' 'B0_1016' 'B0_1045' 'B0_1057'\n",
      " 'B0_1155' 'B0_1246' 'B0_151' 'B0_2161' 'B0_2169' 'B0_2308' 'B0_264'\n",
      " 'B0_367' 'B0_654' 'B0_893' 'B0_899' 'B0_1067' 'B0_1345' 'B0_168' 'B0_175'\n",
      " 'B0_207' 'B0_669' 'B0_678' 'B0_728' 'B0_828' 'B0_875' 'B0_1145' 'B0_1164'\n",
      " 'B0_1282' 'B0_2084' 'B0_244' 'B0_335' 'B0_343' 'B0_489' 'B0_623' 'B0_930'\n",
      " 'B0_1074' 'B0_1184' 'B0_1229' 'B0_1334' 'B0_213' 'B0_2235' 'B0_2248'\n",
      " 'B0_279' 'B0_36' 'B0_559' 'B0_1162' 'B0_147' 'B0_2251' 'M0_62' 'B0_1360'\n",
      " 'B0_2238' 'B0_248' 'B0_2157' 'B0_534' 'B0_80' 'B0_81' 'B0_842' 'B0_912'\n",
      " 'B0_2013' 'B0_2272' 'B0_432' 'B0_735' 'B0_1203' 'B0_212' 'B0_2146'\n",
      " 'B0_2203' 'B0_2211' 'B0_433' 'B0_680' 'B0_748' 'B0_99' 'B0_1072'\n",
      " 'B0_1121' 'B0_1223' 'B0_1355' 'B0_269' 'B0_1086' 'B0_1094' 'B0_129'\n",
      " 'B0_2077' 'B0_2145' 'B0_756' 'B0_849' 'B0_878' 'B0_101' 'B0_118'\n",
      " 'B0_2311' 'B0_519' 'B0_83' 'B0_2051' 'B0_2060' 'B0_228' 'B0_382' 'B0_77'\n",
      " 'B0_210' 'B0_423' 'B0_488' 'B0_752' 'B0_806' 'M0_63' 'B0_1071' 'B0_1385'\n",
      " 'B0_1394' 'B0_2225' 'M0_61' 'B0_2256' 'B0_1352' 'B0_2075' 'B0_2196'\n",
      " 'B0_340' 'B0_430' 'B0_958' 'B0_122' 'B0_407' 'B0_508' 'B0_589' 'B0_892'\n",
      " 'B0_1006' 'B0_2022' 'B0_2306' 'B0_42' 'B0_591' 'B0_785' 'B0_2017'\n",
      " 'B0_2159' 'B0_2175' 'B0_2178' 'B0_336' 'B0_672' 'B0_2255' 'B0_2273'\n",
      " 'B0_621' 'B0_533' 'B0_645' 'B0_821' 'B0_1093' 'B0_1324' 'B0_475' 'B0_566'\n",
      " 'B0_629' 'B0_826' 'B0_139' 'M0_168' 'B0_668' 'B0_1183' 'B0_185' 'B0_2094'\n",
      " 'B0_2209' 'B0_1263' 'B0_805' 'M0_172' 'M0_174' 'B0_300' 'B0_673'\n",
      " 'B0_1208' 'B0_355' 'B0_1134' 'B0_2234' 'B0_334' 'B0_187' 'B0_490'\n",
      " 'B0_214' 'B0_540' 'B0_574' 'B0_763' 'B0_1377' 'B0_922' 'B0_1064'\n",
      " 'B0_1199' 'B0_1426' 'B0_1251' 'B0_2058' 'M0_113' 'B0_114' 'B0_2102'\n",
      " 'B0_1281' 'B0_2249' 'B0_313' 'B0_526' 'B0_925' 'B0_2236' 'B0_1302'\n",
      " 'B0_851' 'B0_872' 'B0_1034' 'B0_46' 'B0_188' 'B0_877' 'B0_1120' 'B0_2018'\n",
      " 'B0_1135' 'B0_690' 'B0_135' 'B0_257' 'B0_452' 'B0_398' 'B0_529' 'B0_2149'\n",
      " 'B0_425' 'B0_1015' 'B0_422' 'B0_54' 'B0_2080' 'B0_719' 'B0_2226'\n",
      " 'B0_2072' 'B0_834' 'B0_1215' 'B0_84' 'B0_531' 'B0_2233' 'B0_412' 'B0_216'\n",
      " 'B0_221' 'B0_1361' 'B0_755' 'B0_62' 'B0_2237' 'B0_156' 'B0_162' 'B0_676']\n",
      "967\n"
     ]
    }
   ],
   "source": [
    "#URL\n",
    "print(websites_drops2.URL.unique())\n",
    "print(len(websites_drops2.URL.unique()))"
   ]
  },
  {
   "cell_type": "code",
   "execution_count": 31,
   "metadata": {},
   "outputs": [
    {
     "data": {
      "text/plain": [
       "array(['iso-8859-1', 'UTF-8', 'us-ascii', 'ISO-8859-1', 'utf-8', 'None',\n",
       "       'windows-1251', 'ISO-8859'], dtype=object)"
      ]
     },
     "execution_count": 31,
     "metadata": {},
     "output_type": "execute_result"
    }
   ],
   "source": [
    "#CHARSET\n",
    "websites_drops2.CHARSET.unique()"
   ]
  },
  {
   "cell_type": "code",
   "execution_count": 32,
   "metadata": {},
   "outputs": [
    {
     "data": {
      "text/plain": [
       "146"
      ]
     },
     "execution_count": 32,
     "metadata": {},
     "output_type": "execute_result"
    }
   ],
   "source": [
    "#SERVER\n",
    "len(websites_drops2.SERVER.unique())"
   ]
  },
  {
   "cell_type": "code",
   "execution_count": 33,
   "metadata": {},
   "outputs": [
    {
     "data": {
      "text/plain": [
       "array(['ISO-8859-1', 'UTF-8', 'US-ASCII', 'OTHER', 'WINDOWS-1251'],\n",
       "      dtype=object)"
      ]
     },
     "execution_count": 33,
     "metadata": {},
     "output_type": "execute_result"
    }
   ],
   "source": [
    "dict2 = {'iso-8859-1' : 'ISO-8859-1', 'utf-8' : 'UTF-8', 'ISO-8859' : 'ISO-8859-1', 'windows-1251' : 'WINDOWS-1251','windows-1252':'WINDOWS-1252','us-ascii':'US-ASCII','None':'OTHER'}   \n",
    "websites_drops3=websites_drops2.replace({\"CHARSET\": dict2})\n",
    "websites_drops3.CHARSET.unique()"
   ]
  },
  {
   "cell_type": "markdown",
   "metadata": {},
   "source": [
    "Since we have fixed the country values, can we convert this column to ordinal now?\n",
    "\n",
    "Not yet. If you reflect on the previous labs how we handle categorical columns, you probably remember we ended up dropping a lot of those columns because there are too many unique values. Too many unique values in a column is not desirable in machine learning because it makes prediction inaccurate. But there are workarounds under certain conditions. One of the fixable conditions is:\n",
    "\n",
    "#### If a limited number of values account for the majority of data, we can retain these top values and re-label all other rare values.\n",
    "\n",
    "The `WHOIS_COUNTRY` column happens to be this case. You can verify it by print a bar chart of the `value_counts` in the next cell to verify:"
   ]
  },
  {
   "cell_type": "markdown",
   "metadata": {},
   "source": [
    "#### After verifying, now let's keep the top 10 values of the column and re-label other columns with `OTHER`."
   ]
  },
  {
   "cell_type": "code",
   "execution_count": 34,
   "metadata": {},
   "outputs": [
    {
     "data": {
      "text/plain": [
       "array(['OTHER', 'US', 'GB', 'UK', 'RU', 'AU', 'CA', 'PA', 'SE', 'IN',\n",
       "       'UG', 'JP', 'SI', 'IL', 'AT', 'CN', 'BE', 'NO', 'TR', 'KY', 'BR',\n",
       "       'SC', 'NL', 'FR', 'CZ', 'KR', 'UA', 'CH', 'HK', 'DE', 'IT', 'BS',\n",
       "       'CY', 'BY', 'AE', 'IE', 'PH', 'UY'], dtype=object)"
      ]
     },
     "execution_count": 34,
     "metadata": {},
     "output_type": "execute_result"
    }
   ],
   "source": [
    "dict3 = {'None':'OTHER'}   \n",
    "websites_drops4=websites_drops3.replace({\"WHOIS_COUNTRY\": dict3})\n",
    "websites_drops4.WHOIS_COUNTRY.unique()"
   ]
  },
  {
   "cell_type": "code",
   "execution_count": 35,
   "metadata": {},
   "outputs": [
    {
     "data": {
      "text/plain": [
       "array(['ISO-8859-1', 'UTF-8', 'US-ASCII', 'OTHER', 'WINDOWS-1251'],\n",
       "      dtype=object)"
      ]
     },
     "execution_count": 35,
     "metadata": {},
     "output_type": "execute_result"
    }
   ],
   "source": [
    "websites_drops4.CHARSET.unique()"
   ]
  },
  {
   "cell_type": "markdown",
   "metadata": {},
   "source": [
    "Now since `WHOIS_COUNTRY` has been re-labelled, we don't need `WHOIS_STATEPRO` any more because the values of the states or provinces may not be relevant any more. We'll drop this column.\n",
    "\n",
    "In addition, we will also drop `WHOIS_REGDATE` and `WHOIS_UPDATED_DATE`. These are the registration and update dates of the website domains. Not of our concerns.\n",
    "\n",
    "#### In the next cell, drop `['WHOIS_STATEPRO', 'WHOIS_REGDATE', 'WHOIS_UPDATED_DATE']`."
   ]
  },
  {
   "cell_type": "code",
   "execution_count": 36,
   "metadata": {},
   "outputs": [],
   "source": [
    "#Se eliminan las columnas irrelevantes \n",
    "websites_drops5 = websites_drops4.drop(columns=[\"URL\",\"WHOIS_STATEPRO\",\"WHOIS_REGDATE\",\"WHOIS_UPDATED_DATE\"])"
   ]
  },
  {
   "cell_type": "code",
   "execution_count": 37,
   "metadata": {},
   "outputs": [
    {
     "data": {
      "text/html": [
       "<div>\n",
       "<style scoped>\n",
       "    .dataframe tbody tr th:only-of-type {\n",
       "        vertical-align: middle;\n",
       "    }\n",
       "\n",
       "    .dataframe tbody tr th {\n",
       "        vertical-align: top;\n",
       "    }\n",
       "\n",
       "    .dataframe thead th {\n",
       "        text-align: right;\n",
       "    }\n",
       "</style>\n",
       "<table border=\"1\" class=\"dataframe\">\n",
       "  <thead>\n",
       "    <tr style=\"text-align: right;\">\n",
       "      <th></th>\n",
       "      <th>URL_LENGTH</th>\n",
       "      <th>CHARSET</th>\n",
       "      <th>SERVER</th>\n",
       "      <th>CONTENT_LENGTH</th>\n",
       "      <th>WHOIS_COUNTRY</th>\n",
       "      <th>DIST_REMOTE_TCP_PORT</th>\n",
       "      <th>REMOTE_IPS</th>\n",
       "      <th>SOURCE_APP_PACKETS</th>\n",
       "      <th>SOURCE_APP_BYTES</th>\n",
       "      <th>REMOTE_APP_BYTES</th>\n",
       "      <th>DNS_QUERY_TIMES</th>\n",
       "      <th>Type</th>\n",
       "    </tr>\n",
       "  </thead>\n",
       "  <tbody>\n",
       "    <tr>\n",
       "      <th>0</th>\n",
       "      <td>16</td>\n",
       "      <td>ISO-8859-1</td>\n",
       "      <td>nginx</td>\n",
       "      <td>263.0</td>\n",
       "      <td>OTHER</td>\n",
       "      <td>0</td>\n",
       "      <td>2</td>\n",
       "      <td>9</td>\n",
       "      <td>1153</td>\n",
       "      <td>832</td>\n",
       "      <td>2.0</td>\n",
       "      <td>1</td>\n",
       "    </tr>\n",
       "    <tr>\n",
       "      <th>1</th>\n",
       "      <td>16</td>\n",
       "      <td>UTF-8</td>\n",
       "      <td>Apache/2.4.10</td>\n",
       "      <td>15087.0</td>\n",
       "      <td>OTHER</td>\n",
       "      <td>7</td>\n",
       "      <td>4</td>\n",
       "      <td>17</td>\n",
       "      <td>1265</td>\n",
       "      <td>1230</td>\n",
       "      <td>0.0</td>\n",
       "      <td>0</td>\n",
       "    </tr>\n",
       "    <tr>\n",
       "      <th>2</th>\n",
       "      <td>16</td>\n",
       "      <td>US-ASCII</td>\n",
       "      <td>Microsoft-HTTPAPI/2.0</td>\n",
       "      <td>324.0</td>\n",
       "      <td>OTHER</td>\n",
       "      <td>0</td>\n",
       "      <td>0</td>\n",
       "      <td>0</td>\n",
       "      <td>0</td>\n",
       "      <td>0</td>\n",
       "      <td>0.0</td>\n",
       "      <td>0</td>\n",
       "    </tr>\n",
       "    <tr>\n",
       "      <th>3</th>\n",
       "      <td>17</td>\n",
       "      <td>ISO-8859-1</td>\n",
       "      <td>nginx</td>\n",
       "      <td>162.0</td>\n",
       "      <td>US</td>\n",
       "      <td>22</td>\n",
       "      <td>3</td>\n",
       "      <td>39</td>\n",
       "      <td>18784</td>\n",
       "      <td>4380</td>\n",
       "      <td>8.0</td>\n",
       "      <td>0</td>\n",
       "    </tr>\n",
       "    <tr>\n",
       "      <th>4</th>\n",
       "      <td>17</td>\n",
       "      <td>UTF-8</td>\n",
       "      <td>None</td>\n",
       "      <td>124140.0</td>\n",
       "      <td>US</td>\n",
       "      <td>2</td>\n",
       "      <td>5</td>\n",
       "      <td>61</td>\n",
       "      <td>129889</td>\n",
       "      <td>4586</td>\n",
       "      <td>4.0</td>\n",
       "      <td>0</td>\n",
       "    </tr>\n",
       "    <tr>\n",
       "      <th>...</th>\n",
       "      <td>...</td>\n",
       "      <td>...</td>\n",
       "      <td>...</td>\n",
       "      <td>...</td>\n",
       "      <td>...</td>\n",
       "      <td>...</td>\n",
       "      <td>...</td>\n",
       "      <td>...</td>\n",
       "      <td>...</td>\n",
       "      <td>...</td>\n",
       "      <td>...</td>\n",
       "      <td>...</td>\n",
       "    </tr>\n",
       "    <tr>\n",
       "      <th>1768</th>\n",
       "      <td>160</td>\n",
       "      <td>UTF-8</td>\n",
       "      <td>None</td>\n",
       "      <td>36829.0</td>\n",
       "      <td>US</td>\n",
       "      <td>3</td>\n",
       "      <td>7</td>\n",
       "      <td>25</td>\n",
       "      <td>4491</td>\n",
       "      <td>2900</td>\n",
       "      <td>6.0</td>\n",
       "      <td>0</td>\n",
       "    </tr>\n",
       "    <tr>\n",
       "      <th>1769</th>\n",
       "      <td>161</td>\n",
       "      <td>ISO-8859-1</td>\n",
       "      <td>Apache/2.4.18 (Ubuntu)</td>\n",
       "      <td>417.0</td>\n",
       "      <td>OTHER</td>\n",
       "      <td>7</td>\n",
       "      <td>2</td>\n",
       "      <td>7</td>\n",
       "      <td>752</td>\n",
       "      <td>582</td>\n",
       "      <td>0.0</td>\n",
       "      <td>0</td>\n",
       "    </tr>\n",
       "    <tr>\n",
       "      <th>1774</th>\n",
       "      <td>183</td>\n",
       "      <td>ISO-8859-1</td>\n",
       "      <td>Microsoft-IIS/7.5; litigation_essentials.lexis...</td>\n",
       "      <td>4890.0</td>\n",
       "      <td>US</td>\n",
       "      <td>2</td>\n",
       "      <td>7</td>\n",
       "      <td>30</td>\n",
       "      <td>8161</td>\n",
       "      <td>2742</td>\n",
       "      <td>8.0</td>\n",
       "      <td>0</td>\n",
       "    </tr>\n",
       "    <tr>\n",
       "      <th>1778</th>\n",
       "      <td>201</td>\n",
       "      <td>UTF-8</td>\n",
       "      <td>Apache/2.2.16 (Debian)</td>\n",
       "      <td>8904.0</td>\n",
       "      <td>US</td>\n",
       "      <td>2</td>\n",
       "      <td>6</td>\n",
       "      <td>87</td>\n",
       "      <td>132181</td>\n",
       "      <td>6945</td>\n",
       "      <td>4.0</td>\n",
       "      <td>0</td>\n",
       "    </tr>\n",
       "    <tr>\n",
       "      <th>1780</th>\n",
       "      <td>249</td>\n",
       "      <td>UTF-8</td>\n",
       "      <td>Microsoft-IIS/8.5</td>\n",
       "      <td>24435.0</td>\n",
       "      <td>US</td>\n",
       "      <td>6</td>\n",
       "      <td>11</td>\n",
       "      <td>25</td>\n",
       "      <td>3039</td>\n",
       "      <td>2776</td>\n",
       "      <td>6.0</td>\n",
       "      <td>0</td>\n",
       "    </tr>\n",
       "  </tbody>\n",
       "</table>\n",
       "<p>967 rows × 12 columns</p>\n",
       "</div>"
      ],
      "text/plain": [
       "      URL_LENGTH     CHARSET  \\\n",
       "0             16  ISO-8859-1   \n",
       "1             16       UTF-8   \n",
       "2             16    US-ASCII   \n",
       "3             17  ISO-8859-1   \n",
       "4             17       UTF-8   \n",
       "...          ...         ...   \n",
       "1768         160       UTF-8   \n",
       "1769         161  ISO-8859-1   \n",
       "1774         183  ISO-8859-1   \n",
       "1778         201       UTF-8   \n",
       "1780         249       UTF-8   \n",
       "\n",
       "                                                 SERVER  CONTENT_LENGTH  \\\n",
       "0                                                 nginx           263.0   \n",
       "1                                         Apache/2.4.10         15087.0   \n",
       "2                                 Microsoft-HTTPAPI/2.0           324.0   \n",
       "3                                                 nginx           162.0   \n",
       "4                                                  None        124140.0   \n",
       "...                                                 ...             ...   \n",
       "1768                                               None         36829.0   \n",
       "1769                             Apache/2.4.18 (Ubuntu)           417.0   \n",
       "1774  Microsoft-IIS/7.5; litigation_essentials.lexis...          4890.0   \n",
       "1778                             Apache/2.2.16 (Debian)          8904.0   \n",
       "1780                                  Microsoft-IIS/8.5         24435.0   \n",
       "\n",
       "     WHOIS_COUNTRY  DIST_REMOTE_TCP_PORT  REMOTE_IPS  SOURCE_APP_PACKETS  \\\n",
       "0            OTHER                     0           2                   9   \n",
       "1            OTHER                     7           4                  17   \n",
       "2            OTHER                     0           0                   0   \n",
       "3               US                    22           3                  39   \n",
       "4               US                     2           5                  61   \n",
       "...            ...                   ...         ...                 ...   \n",
       "1768            US                     3           7                  25   \n",
       "1769         OTHER                     7           2                   7   \n",
       "1774            US                     2           7                  30   \n",
       "1778            US                     2           6                  87   \n",
       "1780            US                     6          11                  25   \n",
       "\n",
       "      SOURCE_APP_BYTES  REMOTE_APP_BYTES  DNS_QUERY_TIMES  Type  \n",
       "0                 1153               832              2.0     1  \n",
       "1                 1265              1230              0.0     0  \n",
       "2                    0                 0              0.0     0  \n",
       "3                18784              4380              8.0     0  \n",
       "4               129889              4586              4.0     0  \n",
       "...                ...               ...              ...   ...  \n",
       "1768              4491              2900              6.0     0  \n",
       "1769               752               582              0.0     0  \n",
       "1774              8161              2742              8.0     0  \n",
       "1778            132181              6945              4.0     0  \n",
       "1780              3039              2776              6.0     0  \n",
       "\n",
       "[967 rows x 12 columns]"
      ]
     },
     "execution_count": 37,
     "metadata": {},
     "output_type": "execute_result"
    }
   ],
   "source": [
    "websites_drops5"
   ]
  },
  {
   "cell_type": "code",
   "execution_count": 38,
   "metadata": {},
   "outputs": [
    {
     "data": {
      "text/plain": [
       "URL_LENGTH              0\n",
       "CHARSET                 0\n",
       "SERVER                  0\n",
       "CONTENT_LENGTH          0\n",
       "WHOIS_COUNTRY           0\n",
       "DIST_REMOTE_TCP_PORT    0\n",
       "REMOTE_IPS              0\n",
       "SOURCE_APP_PACKETS      0\n",
       "SOURCE_APP_BYTES        0\n",
       "REMOTE_APP_BYTES        0\n",
       "DNS_QUERY_TIMES         0\n",
       "Type                    0\n",
       "dtype: int64"
      ]
     },
     "execution_count": 38,
     "metadata": {},
     "output_type": "execute_result"
    }
   ],
   "source": [
    "\n",
    "websites_drops5.isnull().sum()"
   ]
  },
  {
   "cell_type": "markdown",
   "metadata": {},
   "source": [
    "# Challenge 5 - Handle Remaining Categorical Data & Convert to Ordinal\n",
    "\n",
    "Now print the `dtypes` of the data again. Besides `WHOIS_COUNTRY` which we already fixed, there should be 3 categorical columns left: `URL`, `CHARSET`, and `SERVER`."
   ]
  },
  {
   "cell_type": "markdown",
   "metadata": {},
   "source": [
    "#### `URL` is easy. We'll simply drop it because it has too many unique values that there's no way for us to consolidate."
   ]
  },
  {
   "cell_type": "code",
   "execution_count": 39,
   "metadata": {},
   "outputs": [
    {
     "data": {
      "text/plain": [
       "URL_LENGTH                int64\n",
       "CHARSET                  object\n",
       "SERVER                   object\n",
       "CONTENT_LENGTH          float64\n",
       "WHOIS_COUNTRY            object\n",
       "DIST_REMOTE_TCP_PORT      int64\n",
       "REMOTE_IPS                int64\n",
       "SOURCE_APP_PACKETS        int64\n",
       "SOURCE_APP_BYTES          int64\n",
       "REMOTE_APP_BYTES          int64\n",
       "DNS_QUERY_TIMES         float64\n",
       "Type                      int64\n",
       "dtype: object"
      ]
     },
     "execution_count": 39,
     "metadata": {},
     "output_type": "execute_result"
    }
   ],
   "source": [
    "websites_drops5.dtypes"
   ]
  },
  {
   "cell_type": "markdown",
   "metadata": {},
   "source": [
    "#### Print the unique value counts of `CHARSET`. You see there are only a few unique values. So we can keep it as it is."
   ]
  },
  {
   "cell_type": "code",
   "execution_count": 40,
   "metadata": {},
   "outputs": [
    {
     "data": {
      "text/plain": [
       "array(['ISO-8859-1', 'UTF-8', 'US-ASCII', 'OTHER', 'WINDOWS-1251'],\n",
       "      dtype=object)"
      ]
     },
     "execution_count": 40,
     "metadata": {},
     "output_type": "execute_result"
    }
   ],
   "source": [
    "websites_drops5.CHARSET.unique()"
   ]
  },
  {
   "cell_type": "markdown",
   "metadata": {},
   "source": [
    "`SERVER` is a little more complicated. Print its unique values and think about how you can consolidate those values.\n",
    "\n",
    "#### Before you think of your own solution, don't read the instructions that come next."
   ]
  },
  {
   "cell_type": "code",
   "execution_count": 46,
   "metadata": {
    "scrolled": true
   },
   "outputs": [
    {
     "data": {
      "text/plain": [
       "array(['nginx', 'Apache/2.4.10', 'Microsoft-HTTPAPI/2.0', 'None',\n",
       "       'Apache/2', 'Apache/2.2.15 (Red Hat)',\n",
       "       'Apache/2.4.23 (Unix) OpenSSL/1.0.1e-fips mod_bwlimited/1.4',\n",
       "       'Apache/2.2.22', 'Apache/2.4.7 (Ubuntu)', 'Apache',\n",
       "       'Apache/2.4.12 (Unix) OpenSSL/1.0.1e-fips mod_bwlimited/1.4',\n",
       "       'Oracle-iPlanet-Web-Server/7.0', 'nginx/1.6.2', 'Heptu web server',\n",
       "       'Microsoft-IIS/7.5', 'nginx/1.12.0',\n",
       "       'Apache/2.4.25 (cPanel) OpenSSL/1.0.1e-fips mod_bwlimited/1.4',\n",
       "       'tsa_c', 'Apache/2.2.22 (Debian)', 'Apache/2.4.25',\n",
       "       'Apache/2.4.25 (Amazon) PHP/7.0.14', 'GSE',\n",
       "       'Apache/2.4.23 (Unix) OpenSSL/0.9.8e-fips-rhel5 mod_bwlimited/1.4',\n",
       "       'Apache/2.4.25 (Amazon) OpenSSL/1.0.1k-fips',\n",
       "       'Apache/2.2.22 (Ubuntu)',\n",
       "       'Apache/2.4.18 (Unix) OpenSSL/0.9.8e-fips-rhel5 mod_bwlimited/1.4',\n",
       "       'Apache/2.4.6 (CentOS) PHP/5.6.8', 'AmazonS3', 'ATS',\n",
       "       'Apache/2.2.27 (CentOS)', 'CherryPy/3.6.0',\n",
       "       'Apache/2.2.15 (CentOS)', 'KHL',\n",
       "       'Apache/2.4.6 (CentOS) OpenSSL/1.0.1e-fips mod_fcgid/2.3.9 PHP/5.4.16 mod_jk/1.2.40',\n",
       "       'Apache/2.2.3 (CentOS)', 'Apache/2.4', 'Apache/2.2.31 (Amazon)',\n",
       "       'Apache/2.4.10 (Debian)', 'Apache/2.4.12 (Ubuntu)',\n",
       "       'Apache/2.2.29 (Unix) mod_ssl/2.2.29 OpenSSL/1.0.1e-fips mod_bwlimited/1.4',\n",
       "       'mw2232.codfw.wmnet', 'Sucuri/Cloudproxy', 'Apache/2.4.23 (Unix)',\n",
       "       'cloudflare-nginx', 'Apache/2.0.52 (Red Hat)',\n",
       "       'Apache/1.3.31 (Unix) PHP/4.3.9 mod_perl/1.29 rus/PL30.20',\n",
       "       'Apache/2.2.13 (Unix) mod_ssl/2.2.13 OpenSSL/0.9.8e-fips-rhel5 mod_auth_passthrough/2.1 mod_bwlimited/1.4 PHP/5.2.10',\n",
       "       'ATS/5.3.0', 'Apache/2.2.3 (Red Hat)', 'nginx/1.4.3',\n",
       "       'Apache/2.2.29 (Unix) mod_ssl/2.2.29 OpenSSL/1.0.1e-fips mod_bwlimited/1.4 PHP/5.4.35',\n",
       "       'Apache/2.2.14 (FreeBSD) mod_ssl/2.2.14 OpenSSL/0.9.8y DAV/2 PHP/5.2.12 with Suhosin-Patch',\n",
       "       'nginx/1.8.0',\n",
       "       'Apache/2.2.14 (Unix) mod_ssl/2.2.14 OpenSSL/0.9.8e-fips-rhel5',\n",
       "       'Microsoft-IIS/8.0', 'Apache/2.4.18 (Ubuntu)',\n",
       "       'Apache/2.4.6 (CentOS) OpenSSL/1.0.1e-fips PHP/5.4.16 mod_apreq2-20090110/2.8.0 mod_perl/2.0.10 Perl/v5.24.1',\n",
       "       'Apache/2.2.20 (Unix)', 'nginx/1.11.10', 'Yippee-Ki-Yay',\n",
       "       'mw2165.codfw.wmnet', 'Apache/2.2.23 (Amazon)', 'LiteSpeed',\n",
       "       'Proxy Pandeiro UOL', 'openresty/1.11.2.2', 'Apache-Coyote/1.1',\n",
       "       'mw2225.codfw.wmnet', 'nginx/1.1.19', 'Varnish',\n",
       "       'Microsoft-IIS/8.5', 'Apache/2.4.6 (CentOS)', 'barista/5.1.3',\n",
       "       'nginx/1.11.2', 'Apache/2.4.25 (Debian)', 'ECD (fll/0790)',\n",
       "       'nginx/1.10.3',\n",
       "       'Apache/2.4.25 (FreeBSD) OpenSSL/1.0.1s-freebsd PHP/5.6.30',\n",
       "       'mw2239.codfw.wmnet', 'mw2255.codfw.wmnet',\n",
       "       'Apache/2.2.31 (Unix) mod_ssl/2.2.31 OpenSSL/1.0.1e-fips mod_bwlimited/1.4 mod_fcgid/2.3.9',\n",
       "       'nginx/1.13.0',\n",
       "       'Apache/2.2.31 (Unix) mod_ssl/2.2.31 OpenSSL/0.9.8e-fips-rhel5 mod_bwlimited/1.4',\n",
       "       'Apache/2.4.6 (CentOS) OpenSSL/1.0.1e-fips PHP/5.4.16',\n",
       "       'nginx/1.11.3', 'lighttpd', 'mw2230.codfw.wmnet',\n",
       "       'Apache/2.4.6 (CentOS) OpenSSL/1.0.1e-fips', 'AkamaiGHost',\n",
       "       'PWS/8.2.0.7', 'nginx/1.2.1',\n",
       "       'Apache/2.2.16 (Unix) mod_ssl/2.2.16 OpenSSL/0.9.8e-fips-rhel5 mod_auth_passthrough/2.1 mod_bwlimited/1.4',\n",
       "       'Play', 'Apache/2.2.11 (Unix) PHP/5.2.6', 'Scratch Web Server',\n",
       "       'nginx/1.4.6 (Ubuntu)', 'marrakesh 1.12.2', 'nginx/0.8.35',\n",
       "       'squid/3.3.8', 'nginx/1.8.1', 'Nginx (OpenBSD)',\n",
       "       'Zope/(2.13.16; python 2.6.8; linux2) ZServer/1.1',\n",
       "       'Apache/2.2.26 (Unix) mod_ssl/2.2.26 OpenSSL/0.9.8e-fips-rhel5 mod_bwlimited/1.4 PHP/5.4.26',\n",
       "       'Apache/2.2.21 (Unix) mod_ssl/2.2.21 OpenSSL/0.9.8e-fips-rhel5 PHP/5.3.10',\n",
       "       'Apache/2.2.27 (Unix) OpenAM Web Agent/4.0.1-1 mod_ssl/2.2.27 OpenSSL/1.0.1p PHP/5.3.28',\n",
       "       'Apache/2.2.32',\n",
       "       'Apache/2.4.6 (Unix) mod_jk/1.2.37 PHP/5.5.1 OpenSSL/1.0.1g mod_fcgid/2.3.9',\n",
       "       'mw2106.codfw.wmnet', 'Microsoft-IIS/7.0',\n",
       "       'Aeria Games & Entertainment',\n",
       "       'Apache/2.4.10 (Debian) PHP/5.6.30-0+deb8u1 mod_perl/2.0.9dev Perl/v5.20.2',\n",
       "       'mw2173.codfw.wmnet',\n",
       "       'Apache/2.4.6 (Red Hat Enterprise Linux) OpenSSL/1.0.1e-fips mod_fcgid/2.3.9 Communique/4.2.0',\n",
       "       'Apache/2.2.15 (CentOS) DAV/2 mod_ssl/2.2.15 OpenSSL/1.0.1e-fips PHP/5.3.3',\n",
       "       'Apache/2.4.6 (CentOS) OpenSSL/1.0.1e-fips PHP/7.0.14', 'Server',\n",
       "       'Apache/2.4.6 (Unix) mod_jk/1.2.37', 'Cowboy',\n",
       "       'Apache/2.2.14 (Unix) mod_ssl/2.2.14 OpenSSL/0.9.8a',\n",
       "       'Apache/2.4.10 (Ubuntu)', 'mw2257.codfw.wmnet', 'DMS/1.0.42',\n",
       "       'Application-Server', 'mw2177.codfw.wmnet', 'lighttpd/1.4.28',\n",
       "       'mw2197.codfw.wmnet',\n",
       "       'Apache/2.2.31 (FreeBSD) PHP/5.4.15 mod_ssl/2.2.31 OpenSSL/1.0.2d DAV/2',\n",
       "       'Apache/2.2.26 (Unix) mod_ssl/2.2.26 OpenSSL/1.0.1e-fips DAV/2 mod_bwlimited/1.4',\n",
       "       '294', 'Microsoft-IIS/6.0', 'www.lexisnexis.com  9999',\n",
       "       'nginx/0.8.38', 'mw2238.codfw.wmnet', 'XXXXXXXXXXXXXXXXXXXXXX',\n",
       "       'Pizza/pepperoni', 'MI', 'Roxen/5.4.98-r2', 'nginx/1.10.1',\n",
       "       'mw2180.codfw.wmnet', 'nginx/1.9.13', 'nginx/1.7.12',\n",
       "       'Apache/2.0.63 (Unix) mod_ssl/2.0.63 OpenSSL/0.9.8e-fips-rhel5 mod_auth_passthrough/2.1 mod_bwlimited/1.4 PHP/5.3.6',\n",
       "       'Boston.com Frontend', 'My Arse',\n",
       "       'Apache/2.4.17 (Unix) OpenSSL/1.0.1e-fips PHP/5.6.19',\n",
       "       'Microsoft-IIS/7.5; litigation_essentials.lexisnexis.com  9999',\n",
       "       'Apache/2.2.16 (Debian)'], dtype=object)"
      ]
     },
     "execution_count": 46,
     "metadata": {},
     "output_type": "execute_result"
    }
   ],
   "source": [
    "websites_drops5.SERVER.unique()"
   ]
  },
  {
   "cell_type": "markdown",
   "metadata": {},
   "source": [
    "Although there are so many unique values in the `SERVER` column, there are actually only 3 main server types: `Microsoft`, `Apache`, and `nginx`. Just check if each `SERVER` value contains any of those server types and re-label them. For `SERVER` values that don't contain any of those substrings, label with `Other`.\n",
    "\n",
    "At the end, your `SERVER` column should only contain 4 unique values: `Microsoft`, `Apache`, `nginx`, and `Other`."
   ]
  },
  {
   "cell_type": "code",
   "execution_count": 48,
   "metadata": {},
   "outputs": [
    {
     "data": {
      "text/html": [
       "<div>\n",
       "<style scoped>\n",
       "    .dataframe tbody tr th:only-of-type {\n",
       "        vertical-align: middle;\n",
       "    }\n",
       "\n",
       "    .dataframe tbody tr th {\n",
       "        vertical-align: top;\n",
       "    }\n",
       "\n",
       "    .dataframe thead th {\n",
       "        text-align: right;\n",
       "    }\n",
       "</style>\n",
       "<table border=\"1\" class=\"dataframe\">\n",
       "  <thead>\n",
       "    <tr style=\"text-align: right;\">\n",
       "      <th></th>\n",
       "      <th>URL_LENGTH</th>\n",
       "      <th>CHARSET</th>\n",
       "      <th>SERVER</th>\n",
       "      <th>CONTENT_LENGTH</th>\n",
       "      <th>WHOIS_COUNTRY</th>\n",
       "      <th>DIST_REMOTE_TCP_PORT</th>\n",
       "      <th>REMOTE_IPS</th>\n",
       "      <th>SOURCE_APP_PACKETS</th>\n",
       "      <th>SOURCE_APP_BYTES</th>\n",
       "      <th>REMOTE_APP_BYTES</th>\n",
       "      <th>DNS_QUERY_TIMES</th>\n",
       "      <th>Type</th>\n",
       "    </tr>\n",
       "  </thead>\n",
       "  <tbody>\n",
       "    <tr>\n",
       "      <th>0</th>\n",
       "      <td>16</td>\n",
       "      <td>ISO-8859-1</td>\n",
       "      <td>NGINX</td>\n",
       "      <td>263.0</td>\n",
       "      <td>OTHER</td>\n",
       "      <td>0</td>\n",
       "      <td>2</td>\n",
       "      <td>9</td>\n",
       "      <td>1153</td>\n",
       "      <td>832</td>\n",
       "      <td>2.0</td>\n",
       "      <td>1</td>\n",
       "    </tr>\n",
       "    <tr>\n",
       "      <th>1</th>\n",
       "      <td>16</td>\n",
       "      <td>UTF-8</td>\n",
       "      <td>Apache</td>\n",
       "      <td>15087.0</td>\n",
       "      <td>OTHER</td>\n",
       "      <td>7</td>\n",
       "      <td>4</td>\n",
       "      <td>17</td>\n",
       "      <td>1265</td>\n",
       "      <td>1230</td>\n",
       "      <td>0.0</td>\n",
       "      <td>0</td>\n",
       "    </tr>\n",
       "    <tr>\n",
       "      <th>2</th>\n",
       "      <td>16</td>\n",
       "      <td>US-ASCII</td>\n",
       "      <td>Microsoft</td>\n",
       "      <td>324.0</td>\n",
       "      <td>OTHER</td>\n",
       "      <td>0</td>\n",
       "      <td>0</td>\n",
       "      <td>0</td>\n",
       "      <td>0</td>\n",
       "      <td>0</td>\n",
       "      <td>0.0</td>\n",
       "      <td>0</td>\n",
       "    </tr>\n",
       "    <tr>\n",
       "      <th>3</th>\n",
       "      <td>17</td>\n",
       "      <td>ISO-8859-1</td>\n",
       "      <td>NGINX</td>\n",
       "      <td>162.0</td>\n",
       "      <td>US</td>\n",
       "      <td>22</td>\n",
       "      <td>3</td>\n",
       "      <td>39</td>\n",
       "      <td>18784</td>\n",
       "      <td>4380</td>\n",
       "      <td>8.0</td>\n",
       "      <td>0</td>\n",
       "    </tr>\n",
       "    <tr>\n",
       "      <th>4</th>\n",
       "      <td>17</td>\n",
       "      <td>UTF-8</td>\n",
       "      <td>OTHER</td>\n",
       "      <td>124140.0</td>\n",
       "      <td>US</td>\n",
       "      <td>2</td>\n",
       "      <td>5</td>\n",
       "      <td>61</td>\n",
       "      <td>129889</td>\n",
       "      <td>4586</td>\n",
       "      <td>4.0</td>\n",
       "      <td>0</td>\n",
       "    </tr>\n",
       "    <tr>\n",
       "      <th>...</th>\n",
       "      <td>...</td>\n",
       "      <td>...</td>\n",
       "      <td>...</td>\n",
       "      <td>...</td>\n",
       "      <td>...</td>\n",
       "      <td>...</td>\n",
       "      <td>...</td>\n",
       "      <td>...</td>\n",
       "      <td>...</td>\n",
       "      <td>...</td>\n",
       "      <td>...</td>\n",
       "      <td>...</td>\n",
       "    </tr>\n",
       "    <tr>\n",
       "      <th>1768</th>\n",
       "      <td>160</td>\n",
       "      <td>UTF-8</td>\n",
       "      <td>OTHER</td>\n",
       "      <td>36829.0</td>\n",
       "      <td>US</td>\n",
       "      <td>3</td>\n",
       "      <td>7</td>\n",
       "      <td>25</td>\n",
       "      <td>4491</td>\n",
       "      <td>2900</td>\n",
       "      <td>6.0</td>\n",
       "      <td>0</td>\n",
       "    </tr>\n",
       "    <tr>\n",
       "      <th>1769</th>\n",
       "      <td>161</td>\n",
       "      <td>ISO-8859-1</td>\n",
       "      <td>Apache</td>\n",
       "      <td>417.0</td>\n",
       "      <td>OTHER</td>\n",
       "      <td>7</td>\n",
       "      <td>2</td>\n",
       "      <td>7</td>\n",
       "      <td>752</td>\n",
       "      <td>582</td>\n",
       "      <td>0.0</td>\n",
       "      <td>0</td>\n",
       "    </tr>\n",
       "    <tr>\n",
       "      <th>1774</th>\n",
       "      <td>183</td>\n",
       "      <td>ISO-8859-1</td>\n",
       "      <td>Microsoft</td>\n",
       "      <td>4890.0</td>\n",
       "      <td>US</td>\n",
       "      <td>2</td>\n",
       "      <td>7</td>\n",
       "      <td>30</td>\n",
       "      <td>8161</td>\n",
       "      <td>2742</td>\n",
       "      <td>8.0</td>\n",
       "      <td>0</td>\n",
       "    </tr>\n",
       "    <tr>\n",
       "      <th>1778</th>\n",
       "      <td>201</td>\n",
       "      <td>UTF-8</td>\n",
       "      <td>Apache</td>\n",
       "      <td>8904.0</td>\n",
       "      <td>US</td>\n",
       "      <td>2</td>\n",
       "      <td>6</td>\n",
       "      <td>87</td>\n",
       "      <td>132181</td>\n",
       "      <td>6945</td>\n",
       "      <td>4.0</td>\n",
       "      <td>0</td>\n",
       "    </tr>\n",
       "    <tr>\n",
       "      <th>1780</th>\n",
       "      <td>249</td>\n",
       "      <td>UTF-8</td>\n",
       "      <td>Microsoft</td>\n",
       "      <td>24435.0</td>\n",
       "      <td>US</td>\n",
       "      <td>6</td>\n",
       "      <td>11</td>\n",
       "      <td>25</td>\n",
       "      <td>3039</td>\n",
       "      <td>2776</td>\n",
       "      <td>6.0</td>\n",
       "      <td>0</td>\n",
       "    </tr>\n",
       "  </tbody>\n",
       "</table>\n",
       "<p>967 rows × 12 columns</p>\n",
       "</div>"
      ],
      "text/plain": [
       "      URL_LENGTH     CHARSET     SERVER  CONTENT_LENGTH WHOIS_COUNTRY  \\\n",
       "0             16  ISO-8859-1      NGINX           263.0         OTHER   \n",
       "1             16       UTF-8     Apache         15087.0         OTHER   \n",
       "2             16    US-ASCII  Microsoft           324.0         OTHER   \n",
       "3             17  ISO-8859-1      NGINX           162.0            US   \n",
       "4             17       UTF-8      OTHER        124140.0            US   \n",
       "...          ...         ...        ...             ...           ...   \n",
       "1768         160       UTF-8      OTHER         36829.0            US   \n",
       "1769         161  ISO-8859-1     Apache           417.0         OTHER   \n",
       "1774         183  ISO-8859-1  Microsoft          4890.0            US   \n",
       "1778         201       UTF-8     Apache          8904.0            US   \n",
       "1780         249       UTF-8  Microsoft         24435.0            US   \n",
       "\n",
       "      DIST_REMOTE_TCP_PORT  REMOTE_IPS  SOURCE_APP_PACKETS  SOURCE_APP_BYTES  \\\n",
       "0                        0           2                   9              1153   \n",
       "1                        7           4                  17              1265   \n",
       "2                        0           0                   0                 0   \n",
       "3                       22           3                  39             18784   \n",
       "4                        2           5                  61            129889   \n",
       "...                    ...         ...                 ...               ...   \n",
       "1768                     3           7                  25              4491   \n",
       "1769                     7           2                   7               752   \n",
       "1774                     2           7                  30              8161   \n",
       "1778                     2           6                  87            132181   \n",
       "1780                     6          11                  25              3039   \n",
       "\n",
       "      REMOTE_APP_BYTES  DNS_QUERY_TIMES  Type  \n",
       "0                  832              2.0     1  \n",
       "1                 1230              0.0     0  \n",
       "2                    0              0.0     0  \n",
       "3                 4380              8.0     0  \n",
       "4                 4586              4.0     0  \n",
       "...                ...              ...   ...  \n",
       "1768              2900              6.0     0  \n",
       "1769               582              0.0     0  \n",
       "1774              2742              8.0     0  \n",
       "1778              6945              4.0     0  \n",
       "1780              2776              6.0     0  \n",
       "\n",
       "[967 rows x 12 columns]"
      ]
     },
     "execution_count": 48,
     "metadata": {},
     "output_type": "execute_result"
    }
   ],
   "source": [
    "websites_correct=websites_drops5.replace(regex={r'Apache/.*': 'Apache','Microsoft-.*':'Microsoft','None':'OTHER','nginx/.*':'NGINX','Nginx (OpenBSD)':'NGINX','nginx':'NGINX'})\n",
    "websites_correct"
   ]
  },
  {
   "cell_type": "code",
   "execution_count": 50,
   "metadata": {},
   "outputs": [
    {
     "data": {
      "text/plain": [
       "array(['NGINX', 'Apache', 'Microsoft', 'OTHER',\n",
       "       'Oracle-iPlanet-Web-Server/7.0', 'Heptu web server', 'tsa_c',\n",
       "       'GSE', 'AmazonS3', 'ATS', 'CherryPy/3.6.0', 'KHL',\n",
       "       'mw2232.codfw.wmnet', 'Sucuri/Cloudproxy', 'cloudflare-NGINX',\n",
       "       'ATS/5.3.0', 'Yippee-Ki-Yay', 'mw2165.codfw.wmnet', 'LiteSpeed',\n",
       "       'Proxy Pandeiro UOL', 'openresty/1.11.2.2', 'Apache-Coyote/1.1',\n",
       "       'mw2225.codfw.wmnet', 'Varnish', 'barista/5.1.3', 'ECD (fll/0790)',\n",
       "       'mw2239.codfw.wmnet', 'mw2255.codfw.wmnet', 'lighttpd',\n",
       "       'mw2230.codfw.wmnet', 'AkamaiGHost', 'PWS/8.2.0.7', 'Play',\n",
       "       'Scratch Web Server', 'marrakesh 1.12.2', 'squid/3.3.8',\n",
       "       'Nginx (OpenBSD)',\n",
       "       'Zope/(2.13.16; python 2.6.8; linux2) ZServer/1.1',\n",
       "       'mw2106.codfw.wmnet', 'Aeria Games & Entertainment',\n",
       "       'mw2173.codfw.wmnet', 'Server', 'Cowboy', 'mw2257.codfw.wmnet',\n",
       "       'DMS/1.0.42', 'Application-Server', 'mw2177.codfw.wmnet',\n",
       "       'lighttpd/1.4.28', 'mw2197.codfw.wmnet', '294',\n",
       "       'www.lexisnexis.com  9999', 'mw2238.codfw.wmnet',\n",
       "       'XXXXXXXXXXXXXXXXXXXXXX', 'Pizza/pepperoni', 'MI',\n",
       "       'Roxen/5.4.98-r2', 'mw2180.codfw.wmnet', 'Boston.com Frontend',\n",
       "       'My Arse'], dtype=object)"
      ]
     },
     "execution_count": 50,
     "metadata": {},
     "output_type": "execute_result"
    }
   ],
   "source": [
    "websites_correct.SERVER.unique()"
   ]
  },
  {
   "cell_type": "code",
   "execution_count": 51,
   "metadata": {},
   "outputs": [
    {
     "data": {
      "text/plain": [
       "array(['Other', 'Apache', 'Microsoft'], dtype=object)"
      ]
     },
     "execution_count": 51,
     "metadata": {},
     "output_type": "execute_result"
    }
   ],
   "source": [
    "# Your code here\n",
    "websites_correct['SERVER']=np.where(websites_correct['SERVER'].str.contains('Apache'),'Apache',(np.where(websites_correct['SERVER'].str.contains('Microsoft'),'Microsoft',(np.where(websites_correct['SERVER'].str.contains('nginx'),'nginx','Other')))))\n",
    "websites_correct['SERVER'].unique()"
   ]
  },
  {
   "cell_type": "markdown",
   "metadata": {},
   "source": [
    "OK, all our categorical data are fixed now. **Let's convert them to ordinal data using Pandas' `get_dummies` function ([documentation](https://pandas.pydata.org/pandas-docs/stable/generated/pandas.get_dummies.html)).** Make sure you drop the categorical columns by passing `drop_first=True` to `get_dummies` as we don't need them any more. **Also, assign the data with dummy values to a new variable `website_dummy`.**"
   ]
  },
  {
   "cell_type": "code",
   "execution_count": 53,
   "metadata": {},
   "outputs": [
    {
     "data": {
      "text/html": [
       "<div>\n",
       "<style scoped>\n",
       "    .dataframe tbody tr th:only-of-type {\n",
       "        vertical-align: middle;\n",
       "    }\n",
       "\n",
       "    .dataframe tbody tr th {\n",
       "        vertical-align: top;\n",
       "    }\n",
       "\n",
       "    .dataframe thead th {\n",
       "        text-align: right;\n",
       "    }\n",
       "</style>\n",
       "<table border=\"1\" class=\"dataframe\">\n",
       "  <thead>\n",
       "    <tr style=\"text-align: right;\">\n",
       "      <th></th>\n",
       "      <th>URL_LENGTH</th>\n",
       "      <th>CHARSET</th>\n",
       "      <th>SERVER</th>\n",
       "      <th>CONTENT_LENGTH</th>\n",
       "      <th>WHOIS_COUNTRY</th>\n",
       "      <th>DIST_REMOTE_TCP_PORT</th>\n",
       "      <th>REMOTE_IPS</th>\n",
       "      <th>SOURCE_APP_PACKETS</th>\n",
       "      <th>SOURCE_APP_BYTES</th>\n",
       "      <th>REMOTE_APP_BYTES</th>\n",
       "      <th>DNS_QUERY_TIMES</th>\n",
       "      <th>Type</th>\n",
       "    </tr>\n",
       "  </thead>\n",
       "  <tbody>\n",
       "    <tr>\n",
       "      <th>0</th>\n",
       "      <td>16</td>\n",
       "      <td>ISO-8859-1</td>\n",
       "      <td>Other</td>\n",
       "      <td>263.0</td>\n",
       "      <td>OTHER</td>\n",
       "      <td>0</td>\n",
       "      <td>2</td>\n",
       "      <td>9</td>\n",
       "      <td>1153</td>\n",
       "      <td>832</td>\n",
       "      <td>2.0</td>\n",
       "      <td>1</td>\n",
       "    </tr>\n",
       "    <tr>\n",
       "      <th>1</th>\n",
       "      <td>16</td>\n",
       "      <td>UTF-8</td>\n",
       "      <td>Apache</td>\n",
       "      <td>15087.0</td>\n",
       "      <td>OTHER</td>\n",
       "      <td>7</td>\n",
       "      <td>4</td>\n",
       "      <td>17</td>\n",
       "      <td>1265</td>\n",
       "      <td>1230</td>\n",
       "      <td>0.0</td>\n",
       "      <td>0</td>\n",
       "    </tr>\n",
       "    <tr>\n",
       "      <th>2</th>\n",
       "      <td>16</td>\n",
       "      <td>US-ASCII</td>\n",
       "      <td>Microsoft</td>\n",
       "      <td>324.0</td>\n",
       "      <td>OTHER</td>\n",
       "      <td>0</td>\n",
       "      <td>0</td>\n",
       "      <td>0</td>\n",
       "      <td>0</td>\n",
       "      <td>0</td>\n",
       "      <td>0.0</td>\n",
       "      <td>0</td>\n",
       "    </tr>\n",
       "    <tr>\n",
       "      <th>3</th>\n",
       "      <td>17</td>\n",
       "      <td>ISO-8859-1</td>\n",
       "      <td>Other</td>\n",
       "      <td>162.0</td>\n",
       "      <td>US</td>\n",
       "      <td>22</td>\n",
       "      <td>3</td>\n",
       "      <td>39</td>\n",
       "      <td>18784</td>\n",
       "      <td>4380</td>\n",
       "      <td>8.0</td>\n",
       "      <td>0</td>\n",
       "    </tr>\n",
       "    <tr>\n",
       "      <th>4</th>\n",
       "      <td>17</td>\n",
       "      <td>UTF-8</td>\n",
       "      <td>Other</td>\n",
       "      <td>124140.0</td>\n",
       "      <td>US</td>\n",
       "      <td>2</td>\n",
       "      <td>5</td>\n",
       "      <td>61</td>\n",
       "      <td>129889</td>\n",
       "      <td>4586</td>\n",
       "      <td>4.0</td>\n",
       "      <td>0</td>\n",
       "    </tr>\n",
       "    <tr>\n",
       "      <th>...</th>\n",
       "      <td>...</td>\n",
       "      <td>...</td>\n",
       "      <td>...</td>\n",
       "      <td>...</td>\n",
       "      <td>...</td>\n",
       "      <td>...</td>\n",
       "      <td>...</td>\n",
       "      <td>...</td>\n",
       "      <td>...</td>\n",
       "      <td>...</td>\n",
       "      <td>...</td>\n",
       "      <td>...</td>\n",
       "    </tr>\n",
       "    <tr>\n",
       "      <th>1768</th>\n",
       "      <td>160</td>\n",
       "      <td>UTF-8</td>\n",
       "      <td>Other</td>\n",
       "      <td>36829.0</td>\n",
       "      <td>US</td>\n",
       "      <td>3</td>\n",
       "      <td>7</td>\n",
       "      <td>25</td>\n",
       "      <td>4491</td>\n",
       "      <td>2900</td>\n",
       "      <td>6.0</td>\n",
       "      <td>0</td>\n",
       "    </tr>\n",
       "    <tr>\n",
       "      <th>1769</th>\n",
       "      <td>161</td>\n",
       "      <td>ISO-8859-1</td>\n",
       "      <td>Apache</td>\n",
       "      <td>417.0</td>\n",
       "      <td>OTHER</td>\n",
       "      <td>7</td>\n",
       "      <td>2</td>\n",
       "      <td>7</td>\n",
       "      <td>752</td>\n",
       "      <td>582</td>\n",
       "      <td>0.0</td>\n",
       "      <td>0</td>\n",
       "    </tr>\n",
       "    <tr>\n",
       "      <th>1774</th>\n",
       "      <td>183</td>\n",
       "      <td>ISO-8859-1</td>\n",
       "      <td>Microsoft</td>\n",
       "      <td>4890.0</td>\n",
       "      <td>US</td>\n",
       "      <td>2</td>\n",
       "      <td>7</td>\n",
       "      <td>30</td>\n",
       "      <td>8161</td>\n",
       "      <td>2742</td>\n",
       "      <td>8.0</td>\n",
       "      <td>0</td>\n",
       "    </tr>\n",
       "    <tr>\n",
       "      <th>1778</th>\n",
       "      <td>201</td>\n",
       "      <td>UTF-8</td>\n",
       "      <td>Apache</td>\n",
       "      <td>8904.0</td>\n",
       "      <td>US</td>\n",
       "      <td>2</td>\n",
       "      <td>6</td>\n",
       "      <td>87</td>\n",
       "      <td>132181</td>\n",
       "      <td>6945</td>\n",
       "      <td>4.0</td>\n",
       "      <td>0</td>\n",
       "    </tr>\n",
       "    <tr>\n",
       "      <th>1780</th>\n",
       "      <td>249</td>\n",
       "      <td>UTF-8</td>\n",
       "      <td>Microsoft</td>\n",
       "      <td>24435.0</td>\n",
       "      <td>US</td>\n",
       "      <td>6</td>\n",
       "      <td>11</td>\n",
       "      <td>25</td>\n",
       "      <td>3039</td>\n",
       "      <td>2776</td>\n",
       "      <td>6.0</td>\n",
       "      <td>0</td>\n",
       "    </tr>\n",
       "  </tbody>\n",
       "</table>\n",
       "<p>967 rows × 12 columns</p>\n",
       "</div>"
      ],
      "text/plain": [
       "      URL_LENGTH     CHARSET     SERVER  CONTENT_LENGTH WHOIS_COUNTRY  \\\n",
       "0             16  ISO-8859-1      Other           263.0         OTHER   \n",
       "1             16       UTF-8     Apache         15087.0         OTHER   \n",
       "2             16    US-ASCII  Microsoft           324.0         OTHER   \n",
       "3             17  ISO-8859-1      Other           162.0            US   \n",
       "4             17       UTF-8      Other        124140.0            US   \n",
       "...          ...         ...        ...             ...           ...   \n",
       "1768         160       UTF-8      Other         36829.0            US   \n",
       "1769         161  ISO-8859-1     Apache           417.0         OTHER   \n",
       "1774         183  ISO-8859-1  Microsoft          4890.0            US   \n",
       "1778         201       UTF-8     Apache          8904.0            US   \n",
       "1780         249       UTF-8  Microsoft         24435.0            US   \n",
       "\n",
       "      DIST_REMOTE_TCP_PORT  REMOTE_IPS  SOURCE_APP_PACKETS  SOURCE_APP_BYTES  \\\n",
       "0                        0           2                   9              1153   \n",
       "1                        7           4                  17              1265   \n",
       "2                        0           0                   0                 0   \n",
       "3                       22           3                  39             18784   \n",
       "4                        2           5                  61            129889   \n",
       "...                    ...         ...                 ...               ...   \n",
       "1768                     3           7                  25              4491   \n",
       "1769                     7           2                   7               752   \n",
       "1774                     2           7                  30              8161   \n",
       "1778                     2           6                  87            132181   \n",
       "1780                     6          11                  25              3039   \n",
       "\n",
       "      REMOTE_APP_BYTES  DNS_QUERY_TIMES  Type  \n",
       "0                  832              2.0     1  \n",
       "1                 1230              0.0     0  \n",
       "2                    0              0.0     0  \n",
       "3                 4380              8.0     0  \n",
       "4                 4586              4.0     0  \n",
       "...                ...              ...   ...  \n",
       "1768              2900              6.0     0  \n",
       "1769               582              0.0     0  \n",
       "1774              2742              8.0     0  \n",
       "1778              6945              4.0     0  \n",
       "1780              2776              6.0     0  \n",
       "\n",
       "[967 rows x 12 columns]"
      ]
     },
     "execution_count": 53,
     "metadata": {},
     "output_type": "execute_result"
    }
   ],
   "source": [
    "websites_correct"
   ]
  },
  {
   "cell_type": "code",
   "execution_count": 55,
   "metadata": {},
   "outputs": [
    {
     "data": {
      "text/html": [
       "<div>\n",
       "<style scoped>\n",
       "    .dataframe tbody tr th:only-of-type {\n",
       "        vertical-align: middle;\n",
       "    }\n",
       "\n",
       "    .dataframe tbody tr th {\n",
       "        vertical-align: top;\n",
       "    }\n",
       "\n",
       "    .dataframe thead th {\n",
       "        text-align: right;\n",
       "    }\n",
       "</style>\n",
       "<table border=\"1\" class=\"dataframe\">\n",
       "  <thead>\n",
       "    <tr style=\"text-align: right;\">\n",
       "      <th></th>\n",
       "      <th>URL_LENGTH</th>\n",
       "      <th>CONTENT_LENGTH</th>\n",
       "      <th>DIST_REMOTE_TCP_PORT</th>\n",
       "      <th>REMOTE_IPS</th>\n",
       "      <th>SOURCE_APP_PACKETS</th>\n",
       "      <th>SOURCE_APP_BYTES</th>\n",
       "      <th>REMOTE_APP_BYTES</th>\n",
       "      <th>DNS_QUERY_TIMES</th>\n",
       "      <th>Type</th>\n",
       "      <th>CHARSET_OTHER</th>\n",
       "      <th>...</th>\n",
       "      <th>WHOIS_COUNTRY_RU</th>\n",
       "      <th>WHOIS_COUNTRY_SC</th>\n",
       "      <th>WHOIS_COUNTRY_SE</th>\n",
       "      <th>WHOIS_COUNTRY_SI</th>\n",
       "      <th>WHOIS_COUNTRY_TR</th>\n",
       "      <th>WHOIS_COUNTRY_UA</th>\n",
       "      <th>WHOIS_COUNTRY_UG</th>\n",
       "      <th>WHOIS_COUNTRY_UK</th>\n",
       "      <th>WHOIS_COUNTRY_US</th>\n",
       "      <th>WHOIS_COUNTRY_UY</th>\n",
       "    </tr>\n",
       "  </thead>\n",
       "  <tbody>\n",
       "    <tr>\n",
       "      <th>0</th>\n",
       "      <td>16</td>\n",
       "      <td>263.0</td>\n",
       "      <td>0</td>\n",
       "      <td>2</td>\n",
       "      <td>9</td>\n",
       "      <td>1153</td>\n",
       "      <td>832</td>\n",
       "      <td>2.0</td>\n",
       "      <td>1</td>\n",
       "      <td>0</td>\n",
       "      <td>...</td>\n",
       "      <td>0</td>\n",
       "      <td>0</td>\n",
       "      <td>0</td>\n",
       "      <td>0</td>\n",
       "      <td>0</td>\n",
       "      <td>0</td>\n",
       "      <td>0</td>\n",
       "      <td>0</td>\n",
       "      <td>0</td>\n",
       "      <td>0</td>\n",
       "    </tr>\n",
       "    <tr>\n",
       "      <th>1</th>\n",
       "      <td>16</td>\n",
       "      <td>15087.0</td>\n",
       "      <td>7</td>\n",
       "      <td>4</td>\n",
       "      <td>17</td>\n",
       "      <td>1265</td>\n",
       "      <td>1230</td>\n",
       "      <td>0.0</td>\n",
       "      <td>0</td>\n",
       "      <td>0</td>\n",
       "      <td>...</td>\n",
       "      <td>0</td>\n",
       "      <td>0</td>\n",
       "      <td>0</td>\n",
       "      <td>0</td>\n",
       "      <td>0</td>\n",
       "      <td>0</td>\n",
       "      <td>0</td>\n",
       "      <td>0</td>\n",
       "      <td>0</td>\n",
       "      <td>0</td>\n",
       "    </tr>\n",
       "    <tr>\n",
       "      <th>2</th>\n",
       "      <td>16</td>\n",
       "      <td>324.0</td>\n",
       "      <td>0</td>\n",
       "      <td>0</td>\n",
       "      <td>0</td>\n",
       "      <td>0</td>\n",
       "      <td>0</td>\n",
       "      <td>0.0</td>\n",
       "      <td>0</td>\n",
       "      <td>0</td>\n",
       "      <td>...</td>\n",
       "      <td>0</td>\n",
       "      <td>0</td>\n",
       "      <td>0</td>\n",
       "      <td>0</td>\n",
       "      <td>0</td>\n",
       "      <td>0</td>\n",
       "      <td>0</td>\n",
       "      <td>0</td>\n",
       "      <td>0</td>\n",
       "      <td>0</td>\n",
       "    </tr>\n",
       "    <tr>\n",
       "      <th>3</th>\n",
       "      <td>17</td>\n",
       "      <td>162.0</td>\n",
       "      <td>22</td>\n",
       "      <td>3</td>\n",
       "      <td>39</td>\n",
       "      <td>18784</td>\n",
       "      <td>4380</td>\n",
       "      <td>8.0</td>\n",
       "      <td>0</td>\n",
       "      <td>0</td>\n",
       "      <td>...</td>\n",
       "      <td>0</td>\n",
       "      <td>0</td>\n",
       "      <td>0</td>\n",
       "      <td>0</td>\n",
       "      <td>0</td>\n",
       "      <td>0</td>\n",
       "      <td>0</td>\n",
       "      <td>0</td>\n",
       "      <td>1</td>\n",
       "      <td>0</td>\n",
       "    </tr>\n",
       "    <tr>\n",
       "      <th>4</th>\n",
       "      <td>17</td>\n",
       "      <td>124140.0</td>\n",
       "      <td>2</td>\n",
       "      <td>5</td>\n",
       "      <td>61</td>\n",
       "      <td>129889</td>\n",
       "      <td>4586</td>\n",
       "      <td>4.0</td>\n",
       "      <td>0</td>\n",
       "      <td>0</td>\n",
       "      <td>...</td>\n",
       "      <td>0</td>\n",
       "      <td>0</td>\n",
       "      <td>0</td>\n",
       "      <td>0</td>\n",
       "      <td>0</td>\n",
       "      <td>0</td>\n",
       "      <td>0</td>\n",
       "      <td>0</td>\n",
       "      <td>1</td>\n",
       "      <td>0</td>\n",
       "    </tr>\n",
       "  </tbody>\n",
       "</table>\n",
       "<p>5 rows × 52 columns</p>\n",
       "</div>"
      ],
      "text/plain": [
       "   URL_LENGTH  CONTENT_LENGTH  DIST_REMOTE_TCP_PORT  REMOTE_IPS  \\\n",
       "0          16           263.0                     0           2   \n",
       "1          16         15087.0                     7           4   \n",
       "2          16           324.0                     0           0   \n",
       "3          17           162.0                    22           3   \n",
       "4          17        124140.0                     2           5   \n",
       "\n",
       "   SOURCE_APP_PACKETS  SOURCE_APP_BYTES  REMOTE_APP_BYTES  DNS_QUERY_TIMES  \\\n",
       "0                   9              1153               832              2.0   \n",
       "1                  17              1265              1230              0.0   \n",
       "2                   0                 0                 0              0.0   \n",
       "3                  39             18784              4380              8.0   \n",
       "4                  61            129889              4586              4.0   \n",
       "\n",
       "   Type  CHARSET_OTHER  ...  WHOIS_COUNTRY_RU  WHOIS_COUNTRY_SC  \\\n",
       "0     1              0  ...                 0                 0   \n",
       "1     0              0  ...                 0                 0   \n",
       "2     0              0  ...                 0                 0   \n",
       "3     0              0  ...                 0                 0   \n",
       "4     0              0  ...                 0                 0   \n",
       "\n",
       "   WHOIS_COUNTRY_SE  WHOIS_COUNTRY_SI  WHOIS_COUNTRY_TR  WHOIS_COUNTRY_UA  \\\n",
       "0                 0                 0                 0                 0   \n",
       "1                 0                 0                 0                 0   \n",
       "2                 0                 0                 0                 0   \n",
       "3                 0                 0                 0                 0   \n",
       "4                 0                 0                 0                 0   \n",
       "\n",
       "   WHOIS_COUNTRY_UG  WHOIS_COUNTRY_UK  WHOIS_COUNTRY_US  WHOIS_COUNTRY_UY  \n",
       "0                 0                 0                 0                 0  \n",
       "1                 0                 0                 0                 0  \n",
       "2                 0                 0                 0                 0  \n",
       "3                 0                 0                 1                 0  \n",
       "4                 0                 0                 1                 0  \n",
       "\n",
       "[5 rows x 52 columns]"
      ]
     },
     "execution_count": 55,
     "metadata": {},
     "output_type": "execute_result"
    }
   ],
   "source": [
    "website_dummies = pd.get_dummies(websites_correct, columns=['CHARSET', 'SERVER', 'WHOIS_COUNTRY'], drop_first=True)\n",
    "website_dummies.head()\n",
    "\n"
   ]
  },
  {
   "cell_type": "markdown",
   "metadata": {},
   "source": [
    "Now, inspect `website_dummy` to make sure the data and types are intended - there shouldn't be any categorical columns at this point."
   ]
  },
  {
   "cell_type": "code",
   "execution_count": 110,
   "metadata": {},
   "outputs": [
    {
     "data": {
      "text/plain": [
       "URL_LENGTH                int64\n",
       "CONTENT_LENGTH          float64\n",
       "DIST_REMOTE_TCP_PORT      int64\n",
       "REMOTE_IPS                int64\n",
       "SOURCE_APP_PACKETS        int64\n",
       "SOURCE_APP_BYTES          int64\n",
       "REMOTE_APP_BYTES          int64\n",
       "DNS_QUERY_TIMES         float64\n",
       "Type                      int64\n",
       "CHARSET_OTHER             uint8\n",
       "CHARSET_US-ASCII          uint8\n",
       "CHARSET_UTF-8             uint8\n",
       "CHARSET_WINDOWS-1251      uint8\n",
       "SERVER_Microsoft          uint8\n",
       "SERVER_Other              uint8\n",
       "WHOIS_COUNTRY_AT          uint8\n",
       "WHOIS_COUNTRY_AU          uint8\n",
       "WHOIS_COUNTRY_BE          uint8\n",
       "WHOIS_COUNTRY_BR          uint8\n",
       "WHOIS_COUNTRY_BS          uint8\n",
       "WHOIS_COUNTRY_BY          uint8\n",
       "WHOIS_COUNTRY_CA          uint8\n",
       "WHOIS_COUNTRY_CH          uint8\n",
       "WHOIS_COUNTRY_CN          uint8\n",
       "WHOIS_COUNTRY_CY          uint8\n",
       "WHOIS_COUNTRY_CZ          uint8\n",
       "WHOIS_COUNTRY_DE          uint8\n",
       "WHOIS_COUNTRY_FR          uint8\n",
       "WHOIS_COUNTRY_GB          uint8\n",
       "WHOIS_COUNTRY_HK          uint8\n",
       "WHOIS_COUNTRY_IE          uint8\n",
       "WHOIS_COUNTRY_IL          uint8\n",
       "WHOIS_COUNTRY_IN          uint8\n",
       "WHOIS_COUNTRY_IT          uint8\n",
       "WHOIS_COUNTRY_JP          uint8\n",
       "WHOIS_COUNTRY_KR          uint8\n",
       "WHOIS_COUNTRY_KY          uint8\n",
       "WHOIS_COUNTRY_NL          uint8\n",
       "WHOIS_COUNTRY_NO          uint8\n",
       "WHOIS_COUNTRY_OTHER       uint8\n",
       "WHOIS_COUNTRY_PA          uint8\n",
       "WHOIS_COUNTRY_PH          uint8\n",
       "WHOIS_COUNTRY_RU          uint8\n",
       "WHOIS_COUNTRY_SC          uint8\n",
       "WHOIS_COUNTRY_SE          uint8\n",
       "WHOIS_COUNTRY_SI          uint8\n",
       "WHOIS_COUNTRY_TR          uint8\n",
       "WHOIS_COUNTRY_UA          uint8\n",
       "WHOIS_COUNTRY_UG          uint8\n",
       "WHOIS_COUNTRY_UK          uint8\n",
       "WHOIS_COUNTRY_US          uint8\n",
       "WHOIS_COUNTRY_UY          uint8\n",
       "dtype: object"
      ]
     },
     "execution_count": 110,
     "metadata": {},
     "output_type": "execute_result"
    }
   ],
   "source": [
    "website_dummies.dtypes\n"
   ]
  },
  {
   "cell_type": "markdown",
   "metadata": {},
   "source": [
    "# Challenge 6 - Modeling, Prediction, and Evaluation\n",
    "\n",
    "We'll start off this section by splitting the data to train and test. **Name your 4 variables `X_train`, `X_test`, `y_train`, and `y_test`. Select 80% of the data for training and 20% for testing.**"
   ]
  },
  {
   "cell_type": "code",
   "execution_count": 111,
   "metadata": {},
   "outputs": [],
   "source": [
    "from sklearn.model_selection import train_test_split\n",
    "\n"
   ]
  },
  {
   "cell_type": "code",
   "execution_count": 112,
   "metadata": {},
   "outputs": [],
   "source": [
    "x_columns = [col for col in website_dummies.columns.values if col != \"Type\"]\n",
    "x = website_dummies[x_columns]\n",
    "y = website_dummies[\"Type\"]\n",
    "\n"
   ]
  },
  {
   "cell_type": "code",
   "execution_count": 116,
   "metadata": {},
   "outputs": [
    {
     "name": "stdout",
     "output_type": "stream",
     "text": [
      "(773, 51)\n",
      "(194, 51)\n",
      "(194,)\n",
      "(773,)\n"
     ]
    }
   ],
   "source": [
    "X_train, X_test, y_train,y_test = train_test_split(x,y,test_size=0.20)\n",
    "\n",
    "print(X_train.shape)\n",
    "print(X_test.shape)\n",
    "print(y_test.shape)\n",
    "print(y_train.shape)"
   ]
  },
  {
   "cell_type": "markdown",
   "metadata": {},
   "source": [
    "#### In this lab, we will try two different models and compare our results.\n",
    "\n",
    "The first model we will use in this lab is logistic regression. We have previously learned about logistic regression as a classification algorithm. In the cell below, load `LogisticRegression` from scikit-learn and initialize the model."
   ]
  },
  {
   "cell_type": "code",
   "execution_count": 122,
   "metadata": {},
   "outputs": [],
   "source": [
    "from sklearn.linear_model import LogisticRegression\n",
    "from sklearn.metrics import accuracy_score"
   ]
  },
  {
   "cell_type": "markdown",
   "metadata": {},
   "source": [
    "Next, fit the model to our training data. We have already separated our data into 4 parts. Use those in your model."
   ]
  },
  {
   "cell_type": "code",
   "execution_count": 115,
   "metadata": {},
   "outputs": [
    {
     "name": "stderr",
     "output_type": "stream",
     "text": [
      "/Users/katiahernandez/opt/anaconda3/lib/python3.9/site-packages/sklearn/linear_model/_logistic.py:814: ConvergenceWarning: lbfgs failed to converge (status=1):\n",
      "STOP: TOTAL NO. of ITERATIONS REACHED LIMIT.\n",
      "\n",
      "Increase the number of iterations (max_iter) or scale the data as shown in:\n",
      "    https://scikit-learn.org/stable/modules/preprocessing.html\n",
      "Please also refer to the documentation for alternative solver options:\n",
      "    https://scikit-learn.org/stable/modules/linear_model.html#logistic-regression\n",
      "  n_iter_i = _check_optimize_result(\n"
     ]
    },
    {
     "data": {
      "text/plain": [
       "LogisticRegression()"
      ]
     },
     "execution_count": 115,
     "metadata": {},
     "output_type": "execute_result"
    }
   ],
   "source": [
    "web_model = LogisticRegression()\n",
    "web_model.fit(X_train,y_train)\n"
   ]
  },
  {
   "cell_type": "code",
   "execution_count": 118,
   "metadata": {},
   "outputs": [
    {
     "data": {
      "text/plain": [
       "(194,)"
      ]
     },
     "execution_count": 118,
     "metadata": {},
     "output_type": "execute_result"
    }
   ],
   "source": [
    "predictions = web_model.predict(X_test)\n",
    "y_test.shape"
   ]
  },
  {
   "cell_type": "code",
   "execution_count": 123,
   "metadata": {},
   "outputs": [
    {
     "data": {
      "text/plain": [
       "0.9175257731958762"
      ]
     },
     "execution_count": 123,
     "metadata": {},
     "output_type": "execute_result"
    }
   ],
   "source": [
    "accuracy_score(y_test,predictions)\n"
   ]
  },
  {
   "cell_type": "markdown",
   "metadata": {},
   "source": [
    "finally, import `confusion_matrix` and `accuracy_score` from `sklearn.metrics` and fit our testing data. Assign the fitted data to `y_pred` and print the confusion matrix as well as the accuracy score"
   ]
  },
  {
   "cell_type": "code",
   "execution_count": 124,
   "metadata": {},
   "outputs": [],
   "source": [
    "from sklearn import metrics\n",
    "from sklearn.metrics import confusion_matrix, ConfusionMatrixDisplay"
   ]
  },
  {
   "cell_type": "code",
   "execution_count": 125,
   "metadata": {},
   "outputs": [],
   "source": [
    "predictions = web_model.predict(X_test)"
   ]
  },
  {
   "cell_type": "code",
   "execution_count": 126,
   "metadata": {},
   "outputs": [],
   "source": [
    "cm = metrics.confusion_matrix(y_test, predictions)\n"
   ]
  },
  {
   "cell_type": "code",
   "execution_count": 127,
   "metadata": {},
   "outputs": [
    {
     "data": {
      "image/png": "[encoded data removed]",
      "text/plain": [
       "<Figure size 432x288 with 2 Axes>"
      ]
     },
     "metadata": {
      "needs_background": "light"
     },
     "output_type": "display_data"
    }
   ],
   "source": [
    "disp = ConfusionMatrixDisplay(confusion_matrix=cm)#, display_labels=clf.classes_)\n",
    "disp.plot()\n",
    "plt.show()"
   ]
  },
  {
   "cell_type": "markdown",
   "metadata": {},
   "source": [
    "What are your thoughts on the performance of the model? Write your conclusions below."
   ]
  },
  {
   "cell_type": "code",
   "execution_count": 128,
   "metadata": {},
   "outputs": [],
   "source": [
    "# es un buen modelo, tiene un número bajo de falsos positivos y falsos negativos"
   ]
  },
  {
   "cell_type": "markdown",
   "metadata": {},
   "source": [
    "#### Our second algorithm is is K-Nearest Neighbors. \n",
    "\n",
    "Though is it not required, we will fit a model using the training data and then test the performance of the model using the testing data. Start by loading `KNeighborsClassifier` from scikit-learn and then initializing and fitting the model. We'll start off with a model where k=3."
   ]
  },
  {
   "cell_type": "code",
   "execution_count": 129,
   "metadata": {},
   "outputs": [],
   "source": [
    "from sklearn.neighbors import KNeighborsClassifier"
   ]
  },
  {
   "cell_type": "code",
   "execution_count": 130,
   "metadata": {},
   "outputs": [
    {
     "data": {
      "text/plain": [
       "KNeighborsClassifier(n_neighbors=3)"
      ]
     },
     "execution_count": 130,
     "metadata": {},
     "output_type": "execute_result"
    }
   ],
   "source": [
    "K_nearest = KNeighborsClassifier(n_neighbors=3)\n",
    "K_nearest.fit(X_train, y_train)"
   ]
  },
  {
   "cell_type": "markdown",
   "metadata": {},
   "source": [
    "To test your model, compute the predicted values for the testing sample and print the confusion matrix as well as the accuracy score."
   ]
  },
  {
   "cell_type": "code",
   "execution_count": 131,
   "metadata": {},
   "outputs": [],
   "source": [
    "prediction_k = K_nearest.predict(X_test)\n",
    "K_N = metrics.confusion_matrix(y_test, prediction_k)"
   ]
  },
  {
   "cell_type": "code",
   "execution_count": 132,
   "metadata": {},
   "outputs": [
    {
     "data": {
      "image/png": "[encoded data removed]",
      "text/plain": [
       "<Figure size 432x288 with 2 Axes>"
      ]
     },
     "metadata": {
      "needs_background": "light"
     },
     "output_type": "display_data"
    }
   ],
   "source": [
    "K_N_plot = ConfusionMatrixDisplay(confusion_matrix=K_N)#, display_labels=clf.classes_)\n",
    "K_N_plot.plot()\n",
    "plt.show()"
   ]
  },
  {
   "cell_type": "code",
   "execution_count": 133,
   "metadata": {},
   "outputs": [
    {
     "data": {
      "text/plain": [
       "0.9329896907216495"
      ]
     },
     "execution_count": 133,
     "metadata": {},
     "output_type": "execute_result"
    }
   ],
   "source": [
    "accuracy_score(y_test,prediction_k)"
   ]
  },
  {
   "cell_type": "markdown",
   "metadata": {},
   "source": [
    "#### We'll create another K-Nearest Neighbors model with k=5. \n",
    "\n",
    "Initialize and fit the model below and print the confusion matrix and the accuracy score."
   ]
  },
  {
   "cell_type": "code",
   "execution_count": 134,
   "metadata": {},
   "outputs": [
    {
     "data": {
      "text/plain": [
       "KNeighborsClassifier()"
      ]
     },
     "execution_count": 134,
     "metadata": {},
     "output_type": "execute_result"
    }
   ],
   "source": [
    "K2_nearest = KNeighborsClassifier(n_neighbors=5)\n",
    "K2_nearest.fit(X_train, y_train)"
   ]
  },
  {
   "cell_type": "code",
   "execution_count": 135,
   "metadata": {},
   "outputs": [],
   "source": [
    "prediction_k2 = K2_nearest.predict(X_test)\n",
    "K_N2 = metrics.confusion_matrix(y_test, prediction_k2)"
   ]
  },
  {
   "cell_type": "code",
   "execution_count": 90,
   "metadata": {},
   "outputs": [
    {
     "data": {
      "image/png": "[encoded data removed]",
      "text/plain": [
       "<Figure size 432x288 with 2 Axes>"
      ]
     },
     "metadata": {
      "needs_background": "light"
     },
     "output_type": "display_data"
    }
   ],
   "source": [
    "K_N2_plot = ConfusionMatrixDisplay(confusion_matrix=K_N2)#, display_labels=clf.classes_)\n",
    "K_N2_plot.plot()\n",
    "plt.show()"
   ]
  },
  {
   "cell_type": "markdown",
   "metadata": {},
   "source": [
    "Did you see an improvement in the confusion matrix when increasing k to 5? Did you see an improvement in the accuracy score? Write your conclusions below."
   ]
  },
  {
   "cell_type": "code",
   "execution_count": 92,
   "metadata": {},
   "outputs": [
    {
     "data": {
      "text/plain": [
       "0.9381443298969072"
      ]
     },
     "execution_count": 92,
     "metadata": {},
     "output_type": "execute_result"
    }
   ],
   "source": [
    "K2_nearest.score(X_test,y_test)"
   ]
  },
  {
   "cell_type": "code",
   "execution_count": 8,
   "metadata": {},
   "outputs": [],
   "source": [
    "#Si hay mejora en el modelo del vecino más cercano con cinco vecinos "
   ]
  },
  {
   "cell_type": "markdown",
   "metadata": {},
   "source": [
    "# Bonus Challenge - Feature Scaling\n",
    "\n",
    "Problem-solving in machine learning is iterative. You can improve your model prediction with various techniques (there is a sweetspot for the time you spend and the improvement you receive though). Now you've completed only one iteration of ML analysis. There are more iterations you can conduct to make improvements. In order to be able to do that, you will need deeper knowledge in statistics and master more data analysis techniques. In this bootcamp, we don't have time to achieve that advanced goal. But you will make constant efforts after the bootcamp to eventually get there.\n",
    "\n",
    "However, now we do want you to learn one of the advanced techniques which is called *feature scaling*. The idea of feature scaling is to standardize/normalize the range of independent variables or features of the data. This can make the outliers more apparent so that you can remove them. This step needs to happen during Challenge 6 after you split the training and test data because you don't want to split the data again which makes it impossible to compare your results with and without feature scaling. For general concepts about feature scaling, click [here](https://en.wikipedia.org/wiki/Feature_scaling). To read deeper, click [here](https://medium.com/greyatom/why-how-and-when-to-scale-your-features-4b30ab09db5e).\n",
    "\n",
    "In the next cell, attempt to improve your model prediction accuracy by means of feature scaling. A library you can utilize is `sklearn.preprocessing.RobustScaler` ([documentation](https://scikit-learn.org/stable/modules/generated/sklearn.preprocessing.RobustScaler.html)). You'll use the `RobustScaler` to fit and transform your `X_train`, then transform `X_test`. You will use logistic regression to fit and predict your transformed data and obtain the accuracy score in the same way. Compare the accuracy score with your normalized data with the previous accuracy data. Is there an improvement?"
   ]
  },
  {
   "cell_type": "code",
   "execution_count": 93,
   "metadata": {},
   "outputs": [],
   "source": [
    "from sklearn.preprocessing import RobustScaler"
   ]
  },
  {
   "cell_type": "code",
   "execution_count": 94,
   "metadata": {},
   "outputs": [],
   "source": [
    "transformer = RobustScaler().fit(X_train)\n"
   ]
  },
  {
   "cell_type": "code",
   "execution_count": 99,
   "metadata": {},
   "outputs": [
    {
     "data": {
      "text/plain": [
       "LogisticRegression()"
      ]
     },
     "execution_count": 99,
     "metadata": {},
     "output_type": "execute_result"
    }
   ],
   "source": [
    "Robust_fit = RobustScaler()\n",
    "Logistic_fit = LogisticRegression()\n",
    "\n",
    "Robust_fit.fit(X_train)\n",
    "Logistic_fit.fit(Robust_fit.transform(X_train),y_train)"
   ]
  },
  {
   "cell_type": "code",
   "execution_count": 100,
   "metadata": {},
   "outputs": [],
   "source": [
    "y_predicted=Logistic_fit.predict(Robust_fit.transform(X_test))"
   ]
  },
  {
   "cell_type": "code",
   "execution_count": 105,
   "metadata": {},
   "outputs": [
    {
     "ename": "NameError",
     "evalue": "name 'accuracy_score' is not defined",
     "output_type": "error",
     "traceback": [
      "\u001b[0;31m---------------------------------------------------------------------------\u001b[0m",
      "\u001b[0;31mNameError\u001b[0m                                 Traceback (most recent call last)",
      "Input \u001b[0;32mIn [105]\u001b[0m, in \u001b[0;36m<cell line: 1>\u001b[0;34m()\u001b[0m\n\u001b[0;32m----> 1\u001b[0m \u001b[43maccuracy_score\u001b[49m(y_test,y_predicted)\n",
      "\u001b[0;31mNameError\u001b[0m: name 'accuracy_score' is not defined"
     ]
    }
   ],
   "source": [
    "accuracy_score(y_test,y_predicted)"
   ]
  },
  {
   "cell_type": "code",
   "execution_count": null,
   "metadata": {},
   "outputs": [],
   "source": []
  }
 ],
 "metadata": {
  "kernelspec": {
   "display_name": "Python 3 (ipykernel)",
   "language": "python",
   "name": "python3"
  },
  "language_info": {
   "codemirror_mode": {
    "name": "ipython",
    "version": 3
   },
   "file_extension": ".py",
   "mimetype": "text/x-python",
   "name": "python",
   "nbconvert_exporter": "python",
   "pygments_lexer": "ipython3",
   "version": "3.9.12"
  }
 },
 "nbformat": 4,
 "nbformat_minor": 2
}
