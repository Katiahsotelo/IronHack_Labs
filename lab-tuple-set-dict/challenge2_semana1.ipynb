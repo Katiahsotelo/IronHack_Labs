{
 "cells": [
  {
   "cell_type": "code",
   "execution_count": 39,
   "id": "d99956a8",
   "metadata": {},
   "outputs": [],
   "source": [
    "#importar libreria\n",
    "import random"
   ]
  },
  {
   "cell_type": "code",
   "execution_count": 40,
   "id": "98fd8a77",
   "metadata": {},
   "outputs": [
    {
     "name": "stdout",
     "output_type": "stream",
     "text": [
      "[78, 95, 45, 72, 52, 21, 6, 98, 25, 5, 69, 29, 75, 58, 0, 76, 80, 84, 50, 34, 8, 59, 41, 16, 18, 65, 85, 10, 53, 94, 27, 13, 36, 47, 62, 82, 68, 74, 28, 71, 23, 17, 39, 97, 79, 70, 60, 1, 88, 86, 51, 44, 19, 9, 56, 38, 22, 7, 40, 48, 93, 46, 96, 61, 73, 81, 89, 43, 20, 66, 31, 11, 12, 57, 15, 63, 64, 91, 49, 83]\n"
     ]
    }
   ],
   "source": [
    "#1 \n",
    "\n",
    "sample_list_1 = random.sample (range(0,100),k=80)\n",
    "print(sample_list_1)"
   ]
  },
  {
   "cell_type": "code",
   "execution_count": 41,
   "id": "dceebb4d",
   "metadata": {},
   "outputs": [
    {
     "data": {
      "text/plain": [
       "80"
      ]
     },
     "execution_count": 41,
     "metadata": {},
     "output_type": "execute_result"
    }
   ],
   "source": [
    "#2\n",
    "len(sample_list_1)"
   ]
  },
  {
   "cell_type": "code",
   "execution_count": 42,
   "id": "684770e3",
   "metadata": {},
   "outputs": [
    {
     "data": {
      "text/plain": [
       "80"
      ]
     },
     "execution_count": 42,
     "metadata": {},
     "output_type": "execute_result"
    }
   ],
   "source": [
    "#3\n",
    "set1=set(sample_list_1)\n",
    "len(set1)\n"
   ]
  },
  {
   "cell_type": "code",
   "execution_count": 43,
   "id": "a6170d6b",
   "metadata": {},
   "outputs": [
    {
     "name": "stdout",
     "output_type": "stream",
     "text": [
      "[19, 88, 10, 0, 1, 59, 92, 29, 31, 56, 60, 24, 51, 52, 25, 100, 1, 72, 25, 92, 62, 32, 49, 52, 79, 5, 2, 34, 99, 65, 78, 20, 48, 56, 75, 53, 17, 44, 81, 43, 35, 88, 64, 28, 98, 89, 41, 36, 69, 92, 58, 65, 45, 41, 33, 60, 28, 4, 59, 5, 87, 46, 59, 56, 91, 25, 21, 82, 28, 6, 76, 7, 46, 99, 16, 66, 7, 10, 10, 59]\n"
     ]
    }
   ],
   "source": [
    "#4\n",
    "sample_list_2 = []\n",
    "\n",
    "for i in range(0,80):\n",
    "    sample_list_2.append(random.randint(0, 100))\n",
    "print(sample_list_2)\n",
    "\n"
   ]
  },
  {
   "cell_type": "code",
   "execution_count": 44,
   "id": "80602926",
   "metadata": {},
   "outputs": [
    {
     "data": {
      "text/plain": [
       "80"
      ]
     },
     "execution_count": 44,
     "metadata": {},
     "output_type": "execute_result"
    }
   ],
   "source": [
    "len(sample_list_2)"
   ]
  },
  {
   "cell_type": "code",
   "execution_count": 45,
   "id": "c777d73d",
   "metadata": {},
   "outputs": [
    {
     "data": {
      "text/plain": [
       "57"
      ]
     },
     "execution_count": 45,
     "metadata": {},
     "output_type": "execute_result"
    }
   ],
   "source": [
    "set2=set(sample_list_2)\n",
    "len(set2)"
   ]
  },
  {
   "cell_type": "code",
   "execution_count": 46,
   "id": "cf8ec4b7",
   "metadata": {},
   "outputs": [
    {
     "name": "stdout",
     "output_type": "stream",
     "text": [
      "{8, 9, 11, 12, 13, 15, 18, 22, 23, 27, 38, 39, 40, 47, 50, 57, 61, 63, 68, 70, 71, 73, 74, 80, 83, 84, 85, 86, 93, 94, 95, 96, 97}\n"
     ]
    }
   ],
   "source": [
    "#5\n",
    "set3 = set1 - set2\n",
    "print(set3)\n"
   ]
  },
  {
   "cell_type": "code",
   "execution_count": 47,
   "id": "ed12a6c3",
   "metadata": {},
   "outputs": [
    {
     "name": "stdout",
     "output_type": "stream",
     "text": [
      "{8, 9, 11, 12, 13, 15, 18, 22, 23, 27, 38, 39, 40, 47, 50, 57, 61, 63, 68, 70, 71, 73, 74, 80, 83, 84, 85, 86, 93, 94, 95, 96, 97}\n"
     ]
    }
   ],
   "source": [
    "#6\n",
    "set4= set2-set1\n",
    "print(set3)\n"
   ]
  },
  {
   "cell_type": "code",
   "execution_count": 48,
   "id": "a36f7988",
   "metadata": {},
   "outputs": [
    {
     "name": "stdout",
     "output_type": "stream",
     "text": [
      "{0, 1, 5, 6, 7, 10, 16, 17, 19, 20, 21, 25, 28, 29, 31, 34, 36, 41, 43, 44, 45, 46, 48, 49, 51, 52, 53, 56, 58, 59, 60, 62, 64, 65, 66, 69, 72, 75, 76, 78, 79, 81, 82, 88, 89, 91, 98}\n"
     ]
    }
   ],
   "source": [
    "#7\n",
    "set5 = set1.intersection(set2)\n",
    "print(set5)\n"
   ]
  },
  {
   "cell_type": "code",
   "execution_count": 49,
   "id": "329109de",
   "metadata": {},
   "outputs": [],
   "source": [
    "#8\n",
    "#la longuitd de set1 es mayor por que sus valores no se repiten, set2 es menor que set1 debido a que no se cuentan lo valores repetidos en la secuencia random\n",
    "#set3 y set4 suman el total de valores de set2\n",
    "#set5 son los valores de interseccion de set1 en set2\n"
   ]
  },
  {
   "cell_type": "code",
   "execution_count": 50,
   "id": "704bca62",
   "metadata": {},
   "outputs": [
    {
     "data": {
      "text/plain": [
       "0"
      ]
     },
     "execution_count": 50,
     "metadata": {},
     "output_type": "execute_result"
    }
   ],
   "source": [
    "#9\n",
    "set6=set()\n",
    "len(set6)"
   ]
  },
  {
   "cell_type": "code",
   "execution_count": 51,
   "id": "ee7fd4b9",
   "metadata": {},
   "outputs": [
    {
     "name": "stdout",
     "output_type": "stream",
     "text": [
      "False\n"
     ]
    }
   ],
   "source": [
    "#10\n",
    "print(set1.issubset(set2))"
   ]
  },
  {
   "cell_type": "code",
   "execution_count": 52,
   "id": "dd72a086",
   "metadata": {},
   "outputs": [
    {
     "name": "stdout",
     "output_type": "stream",
     "text": [
      "False\n"
     ]
    }
   ],
   "source": [
    "print(set1.issubset(set3))"
   ]
  },
  {
   "cell_type": "code",
   "execution_count": 53,
   "id": "ad7680d1",
   "metadata": {},
   "outputs": [
    {
     "name": "stdout",
     "output_type": "stream",
     "text": [
      "{0, 1, 2, 4, 5, 6, 7, 8, 9, 10, 11, 12, 13, 15, 16, 17, 18, 19, 20, 21, 22, 23, 24, 25, 27, 28, 29, 31, 32, 33, 34, 35, 36, 38, 39, 40, 41, 43, 44, 45, 46, 47, 48, 49, 50, 51, 52, 53, 56, 57, 58, 59, 60, 61, 62, 63, 64, 65, 66, 68, 69, 70, 71, 72, 73, 74, 75, 76, 78, 79, 80, 81, 82, 83, 84, 85, 86, 87, 88, 89, 91, 92, 93, 94, 95, 96, 97, 98, 99, 100}\n"
     ]
    },
    {
     "data": {
      "text/plain": [
       "90"
      ]
     },
     "execution_count": 53,
     "metadata": {},
     "output_type": "execute_result"
    }
   ],
   "source": [
    "#11\n",
    "union1 = set3.union(set4,set5) \n",
    "print(union1)\n",
    "len(union1)"
   ]
  },
  {
   "cell_type": "code",
   "execution_count": 54,
   "id": "dd597040",
   "metadata": {},
   "outputs": [
    {
     "name": "stdout",
     "output_type": "stream",
     "text": [
      "{0, 1, 2, 4, 5, 6, 7, 8, 9, 10, 11, 12, 13, 15, 16, 17, 18, 19, 20, 21, 22, 23, 24, 25, 27, 28, 29, 31, 32, 33, 34, 35, 36, 38, 39, 40, 41, 43, 44, 45, 46, 47, 48, 49, 50, 51, 52, 53, 56, 57, 58, 59, 60, 61, 62, 63, 64, 65, 66, 68, 69, 70, 71, 72, 73, 74, 75, 76, 78, 79, 80, 81, 82, 83, 84, 85, 86, 87, 88, 89, 91, 92, 93, 94, 95, 96, 97, 98, 99, 100}\n"
     ]
    },
    {
     "data": {
      "text/plain": [
       "90"
      ]
     },
     "execution_count": 54,
     "metadata": {},
     "output_type": "execute_result"
    }
   ],
   "source": [
    "union2 = set1.union(set2) \n",
    "print(union2)\n",
    "len(union2)"
   ]
  },
  {
   "cell_type": "code",
   "execution_count": 55,
   "id": "a0a90e8f",
   "metadata": {},
   "outputs": [
    {
     "name": "stdout",
     "output_type": "stream",
     "text": [
      "[1, 5, 6, 7, 8, 9, 10, 11, 12, 13, 15, 16, 17, 18, 19, 20, 21, 22, 23, 25, 27, 28, 29, 31, 34, 36, 38, 39, 40, 41, 43, 44, 45, 46, 47, 48, 49, 50, 51, 52, 53, 56, 57, 58, 59, 60, 61, 62, 63, 64, 65, 66, 68, 69, 70, 71, 72, 73, 74, 75, 76, 78, 79, 80, 81, 82, 83, 84, 85, 86, 88, 89, 91, 93, 94, 95, 96, 97, 98]\n"
     ]
    }
   ],
   "source": [
    "#12 \n",
    "lst_set1 = list(set1)\n",
    "c = lst_set1.pop(0)\n",
    "print(lst_set1)\n",
    "\n",
    "\n",
    "\n"
   ]
  },
  {
   "cell_type": "code",
   "execution_count": 61,
   "id": "563ea2e5",
   "metadata": {},
   "outputs": [
    {
     "name": "stdout",
     "output_type": "stream",
     "text": [
      "{0, 5, 6, 7, 8, 10, 12, 13, 15, 16, 17, 18, 20, 22, 23, 25, 27, 28, 34, 36, 38, 40, 43, 44, 45, 46, 47, 48, 50, 52, 53, 56, 57, 58, 60, 62, 63, 64, 65, 66, 68, 70, 72, 73, 74, 75, 76, 78, 80, 82, 83, 84, 85, 86, 88, 93, 94, 95, 96, 97, 98}\n"
     ]
    }
   ],
   "source": [
    "# usar el metodo discard un ciclo for \n",
    "#Remove every element in the following list from set1 if they are present in the set. \n",
    "#Print the remaining elements.\n",
    "list_to_remove = [1, 9, 11, 19, 21, 29, 31, 39, 41, 49, 51, 59, 61, 69, 71, 79, 81, 89, 91, 99]\n",
    "for i in list_to_remove: \n",
    "        set1.discard(i)\n",
    "print(set1)\n",
    "\n"
   ]
  }
 ],
 "metadata": {
  "kernelspec": {
   "display_name": "Python 3 (ipykernel)",
   "language": "python",
   "name": "python3"
  },
  "language_info": {
   "codemirror_mode": {
    "name": "ipython",
    "version": 3
   },
   "file_extension": ".py",
   "mimetype": "text/x-python",
   "name": "python",
   "nbconvert_exporter": "python",
   "pygments_lexer": "ipython3",
   "version": "3.9.12"
  }
 },
 "nbformat": 4,
 "nbformat_minor": 5
}
