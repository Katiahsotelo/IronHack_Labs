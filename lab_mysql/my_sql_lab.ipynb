{
 "cells": [
  {
   "cell_type": "markdown",
   "id": "5df9ce7d",
   "metadata": {},
   "source": [
    "Challenge 2 - Create the Database and Tables¶\n",
    "1) Create a MySQL database for this lab."
   ]
  },
  {
   "cell_type": "code",
   "execution_count": 1,
   "id": "69000058",
   "metadata": {},
   "outputs": [],
   "source": [
    "%reload_ext sql"
   ]
  },
  {
   "cell_type": "code",
   "execution_count": 2,
   "id": "379cac2b",
   "metadata": {},
   "outputs": [],
   "source": [
    "%sql sqlite:///lab_sqlite.db"
   ]
  },
  {
   "cell_type": "code",
   "execution_count": 3,
   "id": "31882a6f",
   "metadata": {},
   "outputs": [
    {
     "name": "stdout",
     "output_type": "stream",
     "text": [
      " * sqlite:///lab_sqlite.db\n",
      "Done.\n"
     ]
    },
    {
     "data": {
      "text/plain": [
       "[]"
      ]
     },
     "execution_count": 3,
     "metadata": {},
     "output_type": "execute_result"
    }
   ],
   "source": [
    "%%sql\n",
    "CREATE TABLE Invoices(id CHAR(20), invoice_number VARCHAR(20), datetime DATETIME, car CHAR(10), custumer CHAR(10),sales_person CHAR(10));"
   ]
  },
  {
   "cell_type": "code",
   "execution_count": 4,
   "id": "b456546d",
   "metadata": {},
   "outputs": [
    {
     "name": "stdout",
     "output_type": "stream",
     "text": [
      " * sqlite:///lab_sqlite.db\n",
      "Done.\n"
     ]
    },
    {
     "data": {
      "text/html": [
       "<table>\n",
       "    <tr>\n",
       "        <th>id</th>\n",
       "        <th>invoice_number</th>\n",
       "        <th>datetime</th>\n",
       "        <th>car</th>\n",
       "        <th>custumer</th>\n",
       "        <th>sales_person</th>\n",
       "    </tr>\n",
       "</table>"
      ],
      "text/plain": [
       "[]"
      ]
     },
     "execution_count": 4,
     "metadata": {},
     "output_type": "execute_result"
    }
   ],
   "source": [
    "%%sql \n",
    "\n",
    "SELECT * from Invoices;"
   ]
  },
  {
   "cell_type": "markdown",
   "id": "11a18d89",
   "metadata": {},
   "source": [
    "4) Then following the USE statement, write all your CREATE TABLE statements. You'll need one CREATE TABLE statement for each table you decide to create. Make sure to end each statement with a semicolon."
   ]
  },
  {
   "cell_type": "code",
   "execution_count": 10,
   "id": "bc44438d",
   "metadata": {},
   "outputs": [
    {
     "name": "stdout",
     "output_type": "stream",
     "text": [
      " * sqlite:///lab_sqlite.db\n",
      "Done.\n"
     ]
    },
    {
     "data": {
      "text/plain": [
       "[]"
      ]
     },
     "execution_count": 10,
     "metadata": {},
     "output_type": "execute_result"
    }
   ],
   "source": [
    "%%sql\n",
    "\n",
    "CREATE TABLE Cars(id CHAR(40) PRIMARY KEY, vin CHAR(20), manufacturer VARCHAR(40), model VARCHAR(40), year VARCHAR(40),color VARCHAR(40));"
   ]
  },
  {
   "cell_type": "code",
   "execution_count": 11,
   "id": "20d04465",
   "metadata": {},
   "outputs": [
    {
     "name": "stdout",
     "output_type": "stream",
     "text": [
      " * sqlite:///lab_sqlite.db\n",
      "Done.\n"
     ]
    },
    {
     "data": {
      "text/html": [
       "<table>\n",
       "    <tr>\n",
       "        <th>id</th>\n",
       "        <th>vin</th>\n",
       "        <th>manufacturer</th>\n",
       "        <th>model</th>\n",
       "        <th>year</th>\n",
       "        <th>color</th>\n",
       "    </tr>\n",
       "</table>"
      ],
      "text/plain": [
       "[]"
      ]
     },
     "execution_count": 11,
     "metadata": {},
     "output_type": "execute_result"
    }
   ],
   "source": [
    "%%sql \n",
    "\n",
    "SELECT * from Cars;"
   ]
  },
  {
   "cell_type": "code",
   "execution_count": 12,
   "id": "9b3b5f51",
   "metadata": {},
   "outputs": [
    {
     "name": "stdout",
     "output_type": "stream",
     "text": [
      " * sqlite:///lab_sqlite.db\n",
      "Done.\n"
     ]
    },
    {
     "data": {
      "text/plain": [
       "[]"
      ]
     },
     "execution_count": 12,
     "metadata": {},
     "output_type": "execute_result"
    }
   ],
   "source": [
    "%%sql \n",
    "\n",
    "DROP TABLE Invoices;"
   ]
  },
  {
   "cell_type": "code",
   "execution_count": 13,
   "id": "4a7a906b",
   "metadata": {},
   "outputs": [
    {
     "name": "stdout",
     "output_type": "stream",
     "text": [
      " * sqlite:///lab_sqlite.db\n",
      "Done.\n"
     ]
    },
    {
     "data": {
      "text/plain": [
       "[]"
      ]
     },
     "execution_count": 13,
     "metadata": {},
     "output_type": "execute_result"
    }
   ],
   "source": [
    "%%sql\n",
    "\n",
    "CREATE TABLE Invoices(id CHAR(20) PRIMARY KEY, invoice_number varchar(40), date DATETIME, custumer CHAR(20), sales_person CHAR(20), car CHAR(20));"
   ]
  },
  {
   "cell_type": "code",
   "execution_count": 14,
   "id": "addbf336",
   "metadata": {},
   "outputs": [
    {
     "name": "stdout",
     "output_type": "stream",
     "text": [
      " * sqlite:///lab_sqlite.db\n",
      "Done.\n"
     ]
    },
    {
     "data": {
      "text/plain": [
       "[]"
      ]
     },
     "execution_count": 14,
     "metadata": {},
     "output_type": "execute_result"
    }
   ],
   "source": [
    "%%sql\n",
    "\n",
    "CREATE TABLE Customer(id CHAR(20) PRIMARY KEY, name VARCHAR(40), phone VARCHAR(40), email VARCHAR(40), adDress VARCHAR(20), city VARCHAR(40),state_providence varchar(60) , country VARCHAR(40),zip_postal VARCHAR(40));"
   ]
  },
  {
   "cell_type": "code",
   "execution_count": 16,
   "id": "ad344379",
   "metadata": {},
   "outputs": [
    {
     "name": "stdout",
     "output_type": "stream",
     "text": [
      " * sqlite:///lab_sqlite.db\n",
      "Done.\n"
     ]
    },
    {
     "data": {
      "text/plain": [
       "[]"
      ]
     },
     "execution_count": 16,
     "metadata": {},
     "output_type": "execute_result"
    }
   ],
   "source": [
    "%%sql\n",
    "\n",
    "CREATE TABLE Sales_person(id CHAR(20) PRIMARY KEY, name VARCHAR(40), store VARCHAR(40));"
   ]
  },
  {
   "cell_type": "code",
   "execution_count": 32,
   "id": "f230efe2",
   "metadata": {},
   "outputs": [
    {
     "name": "stdout",
     "output_type": "stream",
     "text": [
      " * sqlite:///lab_sqlite.db\n",
      "Done.\n"
     ]
    },
    {
     "data": {
      "text/plain": [
       "[]"
      ]
     },
     "execution_count": 32,
     "metadata": {},
     "output_type": "execute_result"
    }
   ],
   "source": [
    "%%sql\n",
    "CREATE TABLE Customer(id CHAR(20) PRIMARY KEY,customer_id VARCHAR (40), name VARCHAR(40), phone VARCHAR(40), email VARCHAR(40), address VARCHAR(20), city VARCHAR(40),state_providence VARCHAR(60) , country VARCHAR(40),zip_postal VARCHAR(40));\n"
   ]
  },
  {
   "cell_type": "markdown",
   "id": "2bd83479",
   "metadata": {},
   "source": [
    "Challenge 3 - Seeding the Database\n",
    "\n",
    "The purpose of database seeding is to provide some dummy data for an empty database so that software development can be started based on the dummy data. In this challenge you will create seeding.sql which inserts dummy data rows into the tables of your new database.\n",
    "\n",
    "You'll be using the INSERT INTO statement for this purpose. A tutorial you can refer to can be fine here.\n",
    "\n",
    "For your convenience, we provide you some example dummy data. These dummy data may not readily work with your database depending on how you have designed your database. You may need to change them to the appropriate form.\n",
    "\n"
   ]
  },
  {
   "cell_type": "code",
   "execution_count": 25,
   "id": "2aca48bf",
   "metadata": {},
   "outputs": [
    {
     "name": "stdout",
     "output_type": "stream",
     "text": [
      " * sqlite:///lab_sqlite.db\n",
      "1 rows affected.\n",
      "1 rows affected.\n",
      "1 rows affected.\n",
      "1 rows affected.\n",
      "1 rows affected.\n",
      "1 rows affected.\n"
     ]
    },
    {
     "data": {
      "text/plain": [
       "[]"
      ]
     },
     "execution_count": 25,
     "metadata": {},
     "output_type": "execute_result"
    }
   ],
   "source": [
    "%%sql \n",
    "\n",
    "INSERT INTO Cars (id,vin,manufacturer,model,year,color) VALUES (0,'3K096I98581DHSNUP','Volkswagen','Tiguan',2019,'Blue');\n",
    "INSERT INTO Cars (id,vin,manufacturer,model,year,color) VALUES (1,'ZM8G7BEUQZ97IH46V','Peugeot','Rifter',2019,'Red');\n",
    "INSERT INTO Cars (id,vin,manufacturer,model,year,color) VALUES (2,'RKXVNNIHLVVZOUB4M','Ford','Fusion',2018,'White');\n",
    "INSERT INTO Cars (id,vin,manufacturer,model,year,color) VALUES (3,'HKNDGS7CU31E9Z7JW','Toyota','R4V4',2018,'Silver');\n",
    "INSERT INTO Cars (id,vin,manufacturer,model,year,color) VALUES (4,'DAM41UDN3CHU2WVF6','Volvo','V60',2019,'Gray');\n",
    "INSERT INTO Cars (id,vin,manufacturer,model,year,color) VALUES (5,'DAM41UDN3CHU2WVF6','Volvo','V60 Cross Country',2019,'Gray');\n",
    "\n"
   ]
  },
  {
   "cell_type": "code",
   "execution_count": 50,
   "id": "9db43221",
   "metadata": {},
   "outputs": [
    {
     "name": "stdout",
     "output_type": "stream",
     "text": [
      " * sqlite:///lab_sqlite.db\n",
      "Done.\n"
     ]
    },
    {
     "data": {
      "text/html": [
       "<table>\n",
       "    <tr>\n",
       "        <th>id</th>\n",
       "        <th>vin</th>\n",
       "        <th>manufacturer</th>\n",
       "        <th>model</th>\n",
       "        <th>year</th>\n",
       "        <th>color</th>\n",
       "    </tr>\n",
       "    <tr>\n",
       "        <td>0</td>\n",
       "        <td>3K096I98581DHSNUP</td>\n",
       "        <td>Volkswagen</td>\n",
       "        <td>Tiguan</td>\n",
       "        <td>2019</td>\n",
       "        <td>Blue</td>\n",
       "    </tr>\n",
       "    <tr>\n",
       "        <td>1</td>\n",
       "        <td>ZM8G7BEUQZ97IH46V</td>\n",
       "        <td>Peugeot</td>\n",
       "        <td>Rifter</td>\n",
       "        <td>2019</td>\n",
       "        <td>Red</td>\n",
       "    </tr>\n",
       "    <tr>\n",
       "        <td>2</td>\n",
       "        <td>RKXVNNIHLVVZOUB4M</td>\n",
       "        <td>Ford</td>\n",
       "        <td>Fusion</td>\n",
       "        <td>2018</td>\n",
       "        <td>White</td>\n",
       "    </tr>\n",
       "    <tr>\n",
       "        <td>3</td>\n",
       "        <td>HKNDGS7CU31E9Z7JW</td>\n",
       "        <td>Toyota</td>\n",
       "        <td>R4V4</td>\n",
       "        <td>2018</td>\n",
       "        <td>Silver</td>\n",
       "    </tr>\n",
       "    <tr>\n",
       "        <td>4</td>\n",
       "        <td>DAM41UDN3CHU2WVF6</td>\n",
       "        <td>Volvo</td>\n",
       "        <td>V60</td>\n",
       "        <td>2019</td>\n",
       "        <td>Gray</td>\n",
       "    </tr>\n",
       "    <tr>\n",
       "        <td>5</td>\n",
       "        <td>DAM41UDN3CHU2WVF6</td>\n",
       "        <td>Volvo</td>\n",
       "        <td>V60 Cross Country</td>\n",
       "        <td>2019</td>\n",
       "        <td>Gray</td>\n",
       "    </tr>\n",
       "</table>"
      ],
      "text/plain": [
       "[('0', '3K096I98581DHSNUP', 'Volkswagen', 'Tiguan', '2019', 'Blue'),\n",
       " ('1', 'ZM8G7BEUQZ97IH46V', 'Peugeot', 'Rifter', '2019', 'Red'),\n",
       " ('2', 'RKXVNNIHLVVZOUB4M', 'Ford', 'Fusion', '2018', 'White'),\n",
       " ('3', 'HKNDGS7CU31E9Z7JW', 'Toyota', 'R4V4', '2018', 'Silver'),\n",
       " ('4', 'DAM41UDN3CHU2WVF6', 'Volvo', 'V60', '2019', 'Gray'),\n",
       " ('5', 'DAM41UDN3CHU2WVF6', 'Volvo', 'V60 Cross Country', '2019', 'Gray')]"
      ]
     },
     "execution_count": 50,
     "metadata": {},
     "output_type": "execute_result"
    }
   ],
   "source": [
    "%%sql\n",
    "\n",
    "SELECT * FROM Cars"
   ]
  },
  {
   "cell_type": "code",
   "execution_count": 34,
   "id": "957fc0e4",
   "metadata": {},
   "outputs": [
    {
     "name": "stdout",
     "output_type": "stream",
     "text": [
      " * sqlite:///lab_sqlite.db\n",
      "1 rows affected.\n",
      "1 rows affected.\n",
      "1 rows affected.\n"
     ]
    },
    {
     "data": {
      "text/plain": [
       "[]"
      ]
     },
     "execution_count": 34,
     "metadata": {},
     "output_type": "execute_result"
    }
   ],
   "source": [
    "%%sql \n",
    "\n",
    "INSERT INTO Customer(id,customer_id,name,phone,email,address,city,state_providence,country,zip_postal) VALUES (0,10001,'Pablo Picasso','+34 636 17 63 82','-','Paseo de la Chopera, 14','Madrid','Madrid','Spain','28045');\n",
    "INSERT INTO Customer(id,customer_id,name,phone,email,address,city,state_providence,country,zip_postal) VALUES (1,20001,'Abraham Lincoln','+1 305 907 7086','-','120 SW 8th St','Miami','Florida','United States','33130');\n",
    "INSERT INTO Customer(id,customer_id,name,phone,email,address,city,state_providence,country,zip_postal) VALUES (2,30001,'Napoléon Bonaparte','+33 1 79 75 40 00','-','40 Rue du Colisée','Paris','Île-de-France','France','75008');\n",
    "\n",
    "\n",
    "\n"
   ]
  },
  {
   "cell_type": "code",
   "execution_count": 49,
   "id": "daf83f58",
   "metadata": {},
   "outputs": [
    {
     "name": "stdout",
     "output_type": "stream",
     "text": [
      " * sqlite:///lab_sqlite.db\n",
      "Done.\n"
     ]
    },
    {
     "data": {
      "text/html": [
       "<table>\n",
       "    <tr>\n",
       "        <th>id</th>\n",
       "        <th>customer_id</th>\n",
       "        <th>name</th>\n",
       "        <th>phone</th>\n",
       "        <th>email</th>\n",
       "        <th>address</th>\n",
       "        <th>city</th>\n",
       "        <th>state_providence</th>\n",
       "        <th>country</th>\n",
       "        <th>zip_postal</th>\n",
       "    </tr>\n",
       "    <tr>\n",
       "        <td>0</td>\n",
       "        <td>10001</td>\n",
       "        <td>Pablo Picasso</td>\n",
       "        <td>+34 636 17 63 82</td>\n",
       "        <td>-</td>\n",
       "        <td>Paseo de la Chopera, 14</td>\n",
       "        <td>Madrid</td>\n",
       "        <td>Madrid</td>\n",
       "        <td>Spain</td>\n",
       "        <td>28045</td>\n",
       "    </tr>\n",
       "    <tr>\n",
       "        <td>1</td>\n",
       "        <td>20001</td>\n",
       "        <td>Abraham Lincoln</td>\n",
       "        <td>+1 305 907 7086</td>\n",
       "        <td>-</td>\n",
       "        <td>120 SW 8th St</td>\n",
       "        <td>Miami</td>\n",
       "        <td>Florida</td>\n",
       "        <td>United States</td>\n",
       "        <td>33130</td>\n",
       "    </tr>\n",
       "    <tr>\n",
       "        <td>2</td>\n",
       "        <td>30001</td>\n",
       "        <td>Napoléon Bonaparte</td>\n",
       "        <td>+33 1 79 75 40 00</td>\n",
       "        <td>-</td>\n",
       "        <td>40 Rue du Colisée</td>\n",
       "        <td>Paris</td>\n",
       "        <td>Île-de-France</td>\n",
       "        <td>France</td>\n",
       "        <td>75008</td>\n",
       "    </tr>\n",
       "</table>"
      ],
      "text/plain": [
       "[('0', '10001', 'Pablo Picasso', '+34 636 17 63 82', '-', 'Paseo de la Chopera, 14', 'Madrid', 'Madrid', 'Spain', '28045'),\n",
       " ('1', '20001', 'Abraham Lincoln', '+1 305 907 7086', '-', '120 SW 8th St', 'Miami', 'Florida', 'United States', '33130'),\n",
       " ('2', '30001', 'Napoléon Bonaparte', '+33 1 79 75 40 00', '-', '40 Rue du Colisée', 'Paris', 'Île-de-France', 'France', '75008')]"
      ]
     },
     "execution_count": 49,
     "metadata": {},
     "output_type": "execute_result"
    }
   ],
   "source": [
    "%%sql\n",
    "\n",
    "SELECT * FROM Customer"
   ]
  },
  {
   "cell_type": "code",
   "execution_count": 36,
   "id": "9d9be3d4",
   "metadata": {},
   "outputs": [
    {
     "name": "stdout",
     "output_type": "stream",
     "text": [
      " * sqlite:///lab_sqlite.db\n",
      "Done.\n"
     ]
    },
    {
     "data": {
      "text/plain": [
       "[]"
      ]
     },
     "execution_count": 36,
     "metadata": {},
     "output_type": "execute_result"
    }
   ],
   "source": [
    "%%sql\n",
    "\n",
    "CREATE TABLE SalespersonS(id CHAR(20) PRIMARY KEY,staff_id VARCHAR(40), name VARCHAR(40), store VARCHAR(40));"
   ]
  },
  {
   "cell_type": "code",
   "execution_count": 37,
   "id": "a4a56307",
   "metadata": {},
   "outputs": [
    {
     "name": "stdout",
     "output_type": "stream",
     "text": [
      " * sqlite:///lab_sqlite.db\n",
      "1 rows affected.\n"
     ]
    },
    {
     "data": {
      "text/plain": [
       "[]"
      ]
     },
     "execution_count": 37,
     "metadata": {},
     "output_type": "execute_result"
    }
   ],
   "source": [
    "%%sql\n",
    "\n",
    "INSERT INTO Salespersons(id,staff_id,name,store) VALUES(0,00001,'Petey Cruiser','Madrid');"
   ]
  },
  {
   "cell_type": "code",
   "execution_count": 38,
   "id": "10096882",
   "metadata": {},
   "outputs": [
    {
     "name": "stdout",
     "output_type": "stream",
     "text": [
      " * sqlite:///lab_sqlite.db\n",
      "1 rows affected.\n",
      "1 rows affected.\n",
      "1 rows affected.\n",
      "1 rows affected.\n",
      "1 rows affected.\n",
      "1 rows affected.\n",
      "1 rows affected.\n"
     ]
    },
    {
     "data": {
      "text/plain": [
       "[]"
      ]
     },
     "execution_count": 38,
     "metadata": {},
     "output_type": "execute_result"
    }
   ],
   "source": [
    "%%sql\n",
    "\n",
    "INSERT INTO Salespersons(id,staff_id,name,store) VALUES(1,00002,'Anna Sthesia','Barcelona');\n",
    "INSERT INTO Salespersons(id,staff_id,name,store) VALUES(2,00003,'Paul Molive','Berlin');\n",
    "INSERT INTO Salespersons(id,staff_id,name,store) VALUES(3,00004,'Gail Forcewind','Paris');\n",
    "INSERT INTO Salespersons(id,staff_id,name,store) VALUES(4,00005,'Paige Turner','Mimia');\n",
    "INSERT INTO Salespersons(id,staff_id,name,store) VALUES(5,00006,'Bob Frapples','Mexico City');\n",
    "INSERT INTO Salespersons(id,staff_id,name,store) VALUES(6,00007,'Walter Melon','Amsterdam');\n",
    "INSERT INTO Salespersons(id,staff_id,name,store) VALUES(7,00008,'Shonda Leer','São Paulo');\n",
    "\n",
    "\n"
   ]
  },
  {
   "cell_type": "code",
   "execution_count": 66,
   "id": "5c356827",
   "metadata": {},
   "outputs": [
    {
     "name": "stdout",
     "output_type": "stream",
     "text": [
      " * sqlite:///lab_sqlite.db\n",
      "Done.\n"
     ]
    },
    {
     "data": {
      "text/html": [
       "<table>\n",
       "    <tr>\n",
       "        <th>id</th>\n",
       "        <th>staff_id</th>\n",
       "        <th>name</th>\n",
       "        <th>store</th>\n",
       "    </tr>\n",
       "    <tr>\n",
       "        <td>0</td>\n",
       "        <td>1</td>\n",
       "        <td>Petey Cruiser</td>\n",
       "        <td>Madrid</td>\n",
       "    </tr>\n",
       "    <tr>\n",
       "        <td>1</td>\n",
       "        <td>2</td>\n",
       "        <td>Anna Sthesia</td>\n",
       "        <td>Barcelona</td>\n",
       "    </tr>\n",
       "    <tr>\n",
       "        <td>2</td>\n",
       "        <td>3</td>\n",
       "        <td>Paul Molive</td>\n",
       "        <td>Berlin</td>\n",
       "    </tr>\n",
       "    <tr>\n",
       "        <td>3</td>\n",
       "        <td>4</td>\n",
       "        <td>Gail Forcewind</td>\n",
       "        <td>Paris</td>\n",
       "    </tr>\n",
       "    <tr>\n",
       "        <td>4</td>\n",
       "        <td>5</td>\n",
       "        <td>Paige Turner</td>\n",
       "        <td>Miami</td>\n",
       "    </tr>\n",
       "    <tr>\n",
       "        <td>5</td>\n",
       "        <td>6</td>\n",
       "        <td>Bob Frapples</td>\n",
       "        <td>Mexico City</td>\n",
       "    </tr>\n",
       "    <tr>\n",
       "        <td>6</td>\n",
       "        <td>7</td>\n",
       "        <td>Walter Melon</td>\n",
       "        <td>Amsterdam</td>\n",
       "    </tr>\n",
       "    <tr>\n",
       "        <td>7</td>\n",
       "        <td>8</td>\n",
       "        <td>Shonda Leer</td>\n",
       "        <td>São Paulo</td>\n",
       "    </tr>\n",
       "</table>"
      ],
      "text/plain": [
       "[('0', '1', 'Petey Cruiser', 'Madrid'),\n",
       " ('1', '2', 'Anna Sthesia', 'Barcelona'),\n",
       " ('2', '3', 'Paul Molive', 'Berlin'),\n",
       " ('3', '4', 'Gail Forcewind', 'Paris'),\n",
       " ('4', '5', 'Paige Turner', 'Miami'),\n",
       " ('5', '6', 'Bob Frapples', 'Mexico City'),\n",
       " ('6', '7', 'Walter Melon', 'Amsterdam'),\n",
       " ('7', '8', 'Shonda Leer', 'São Paulo')]"
      ]
     },
     "execution_count": 66,
     "metadata": {},
     "output_type": "execute_result"
    }
   ],
   "source": [
    "%%sql\n",
    "\n",
    "SELECT * FROM Salespersons"
   ]
  },
  {
   "cell_type": "code",
   "execution_count": null,
   "id": "2808f6eb",
   "metadata": {},
   "outputs": [],
   "source": []
  },
  {
   "cell_type": "code",
   "execution_count": 42,
   "id": "a7c14881",
   "metadata": {},
   "outputs": [
    {
     "name": "stdout",
     "output_type": "stream",
     "text": [
      " * sqlite:///lab_sqlite.db\n",
      "Done.\n"
     ]
    },
    {
     "data": {
      "text/plain": [
       "[]"
      ]
     },
     "execution_count": 42,
     "metadata": {},
     "output_type": "execute_result"
    }
   ],
   "source": [
    "%%sql\n",
    "\n",
    "CREATE TABLE Invoices(id_ CHAR(20) PRIMARY KEY, invoice_number VARCHAR(40), date DATETIME, car VARCHAR(40),customer VARCHAR(40), sales_person CHAR(20));"
   ]
  },
  {
   "cell_type": "code",
   "execution_count": 44,
   "id": "fc9efaf9",
   "metadata": {},
   "outputs": [
    {
     "name": "stdout",
     "output_type": "stream",
     "text": [
      " * sqlite:///lab_sqlite.db\n",
      "1 rows affected.\n",
      "1 rows affected.\n",
      "1 rows affected.\n"
     ]
    },
    {
     "data": {
      "text/plain": [
       "[]"
      ]
     },
     "execution_count": 44,
     "metadata": {},
     "output_type": "execute_result"
    }
   ],
   "source": [
    "%%sql\n",
    "INSERT INTO Invoices(id_,invoice_number,date,car,customer,sales_person)VALUES(0,852399038,22-08-2018,0,1,3);\n",
    "INSERT INTO Invoices(id_,invoice_number,date,car,customer,sales_person)VALUES(1,731166526,31-12-2018,3,0,5);\n",
    "INSERT INTO Invoices(id_,invoice_number,date,car,customer,sales_person)VALUES(2,271135104,22-01-2019,2,2,7);\n",
    "\n"
   ]
  },
  {
   "cell_type": "code",
   "execution_count": 46,
   "id": "9c46d37c",
   "metadata": {},
   "outputs": [
    {
     "name": "stdout",
     "output_type": "stream",
     "text": [
      " * sqlite:///lab_sqlite.db\n",
      "Done.\n"
     ]
    },
    {
     "data": {
      "text/html": [
       "<table>\n",
       "    <tr>\n",
       "        <th>id_</th>\n",
       "        <th>invoice_number</th>\n",
       "        <th>date</th>\n",
       "        <th>car</th>\n",
       "        <th>customer</th>\n",
       "        <th>sales_person</th>\n",
       "    </tr>\n",
       "    <tr>\n",
       "        <td>0</td>\n",
       "        <td>852399038</td>\n",
       "        <td>-2004</td>\n",
       "        <td>0</td>\n",
       "        <td>1</td>\n",
       "        <td>3</td>\n",
       "    </tr>\n",
       "    <tr>\n",
       "        <td>1</td>\n",
       "        <td>731166526</td>\n",
       "        <td>-1999</td>\n",
       "        <td>3</td>\n",
       "        <td>0</td>\n",
       "        <td>5</td>\n",
       "    </tr>\n",
       "    <tr>\n",
       "        <td>2</td>\n",
       "        <td>271135104</td>\n",
       "        <td>-1998</td>\n",
       "        <td>2</td>\n",
       "        <td>2</td>\n",
       "        <td>7</td>\n",
       "    </tr>\n",
       "</table>"
      ],
      "text/plain": [
       "[('0', '852399038', -2004, '0', '1', '3'),\n",
       " ('1', '731166526', -1999, '3', '0', '5'),\n",
       " ('2', '271135104', -1998, '2', '2', '7')]"
      ]
     },
     "execution_count": 46,
     "metadata": {},
     "output_type": "execute_result"
    }
   ],
   "source": [
    "%%sql\n",
    "\n",
    "SELECT * FROM Invoices"
   ]
  },
  {
   "cell_type": "markdown",
   "id": "fc7ef997",
   "metadata": {},
   "source": [
    "Bonus Challenge - Updating and Deleting Database Records\n",
    "\n",
    "Now you find an error you need to fix in your existing data - in the Salespersons table, you mistakenly spelled Miami as Mimia for Paige Turner. Also, you received the email addresses of the three customers:"
   ]
  },
  {
   "cell_type": "code",
   "execution_count": 51,
   "id": "855d475a",
   "metadata": {},
   "outputs": [
    {
     "name": "stdout",
     "output_type": "stream",
     "text": [
      " * sqlite:///lab_sqlite.db\n",
      "Done.\n"
     ]
    },
    {
     "data": {
      "text/html": [
       "<table>\n",
       "    <tr>\n",
       "        <th>id</th>\n",
       "        <th>staff_id</th>\n",
       "        <th>name</th>\n",
       "        <th>store</th>\n",
       "    </tr>\n",
       "    <tr>\n",
       "        <td>0</td>\n",
       "        <td>1</td>\n",
       "        <td>Petey Cruiser</td>\n",
       "        <td>Madrid</td>\n",
       "    </tr>\n",
       "    <tr>\n",
       "        <td>1</td>\n",
       "        <td>2</td>\n",
       "        <td>Anna Sthesia</td>\n",
       "        <td>Barcelona</td>\n",
       "    </tr>\n",
       "    <tr>\n",
       "        <td>2</td>\n",
       "        <td>3</td>\n",
       "        <td>Paul Molive</td>\n",
       "        <td>Berlin</td>\n",
       "    </tr>\n",
       "    <tr>\n",
       "        <td>3</td>\n",
       "        <td>4</td>\n",
       "        <td>Gail Forcewind</td>\n",
       "        <td>Paris</td>\n",
       "    </tr>\n",
       "    <tr>\n",
       "        <td>4</td>\n",
       "        <td>5</td>\n",
       "        <td>Paige Turner</td>\n",
       "        <td>Mimia</td>\n",
       "    </tr>\n",
       "    <tr>\n",
       "        <td>5</td>\n",
       "        <td>6</td>\n",
       "        <td>Bob Frapples</td>\n",
       "        <td>Mexico City</td>\n",
       "    </tr>\n",
       "    <tr>\n",
       "        <td>6</td>\n",
       "        <td>7</td>\n",
       "        <td>Walter Melon</td>\n",
       "        <td>Amsterdam</td>\n",
       "    </tr>\n",
       "    <tr>\n",
       "        <td>7</td>\n",
       "        <td>8</td>\n",
       "        <td>Shonda Leer</td>\n",
       "        <td>São Paulo</td>\n",
       "    </tr>\n",
       "</table>"
      ],
      "text/plain": [
       "[('0', '1', 'Petey Cruiser', 'Madrid'),\n",
       " ('1', '2', 'Anna Sthesia', 'Barcelona'),\n",
       " ('2', '3', 'Paul Molive', 'Berlin'),\n",
       " ('3', '4', 'Gail Forcewind', 'Paris'),\n",
       " ('4', '5', 'Paige Turner', 'Mimia'),\n",
       " ('5', '6', 'Bob Frapples', 'Mexico City'),\n",
       " ('6', '7', 'Walter Melon', 'Amsterdam'),\n",
       " ('7', '8', 'Shonda Leer', 'São Paulo')]"
      ]
     },
     "execution_count": 51,
     "metadata": {},
     "output_type": "execute_result"
    }
   ],
   "source": [
    "%%sql\n",
    "\n",
    "SELECT * FROM Salespersons;"
   ]
  },
  {
   "cell_type": "code",
   "execution_count": 52,
   "id": "626c54b6",
   "metadata": {},
   "outputs": [
    {
     "name": "stdout",
     "output_type": "stream",
     "text": [
      " * sqlite:///lab_sqlite.db\n",
      "1 rows affected.\n"
     ]
    },
    {
     "data": {
      "text/plain": [
       "[]"
      ]
     },
     "execution_count": 52,
     "metadata": {},
     "output_type": "execute_result"
    }
   ],
   "source": [
    "%%sql\n",
    "\n",
    "UPDATE Salespersons\n",
    "SET store='Miami'\n",
    "WHERE staff_id= 5\n"
   ]
  },
  {
   "cell_type": "code",
   "execution_count": 54,
   "id": "5ab39ea5",
   "metadata": {},
   "outputs": [
    {
     "name": "stdout",
     "output_type": "stream",
     "text": [
      " * sqlite:///lab_sqlite.db\n",
      "Done.\n"
     ]
    },
    {
     "data": {
      "text/html": [
       "<table>\n",
       "    <tr>\n",
       "        <th>id</th>\n",
       "        <th>customer_id</th>\n",
       "        <th>name</th>\n",
       "        <th>phone</th>\n",
       "        <th>email</th>\n",
       "        <th>address</th>\n",
       "        <th>city</th>\n",
       "        <th>state_providence</th>\n",
       "        <th>country</th>\n",
       "        <th>zip_postal</th>\n",
       "    </tr>\n",
       "    <tr>\n",
       "        <td>0</td>\n",
       "        <td>10001</td>\n",
       "        <td>Pablo Picasso</td>\n",
       "        <td>+34 636 17 63 82</td>\n",
       "        <td>-</td>\n",
       "        <td>Paseo de la Chopera, 14</td>\n",
       "        <td>Madrid</td>\n",
       "        <td>Madrid</td>\n",
       "        <td>Spain</td>\n",
       "        <td>28045</td>\n",
       "    </tr>\n",
       "    <tr>\n",
       "        <td>1</td>\n",
       "        <td>20001</td>\n",
       "        <td>Abraham Lincoln</td>\n",
       "        <td>+1 305 907 7086</td>\n",
       "        <td>-</td>\n",
       "        <td>120 SW 8th St</td>\n",
       "        <td>Miami</td>\n",
       "        <td>Florida</td>\n",
       "        <td>United States</td>\n",
       "        <td>33130</td>\n",
       "    </tr>\n",
       "    <tr>\n",
       "        <td>2</td>\n",
       "        <td>30001</td>\n",
       "        <td>Napoléon Bonaparte</td>\n",
       "        <td>+33 1 79 75 40 00</td>\n",
       "        <td>-</td>\n",
       "        <td>40 Rue du Colisée</td>\n",
       "        <td>Paris</td>\n",
       "        <td>Île-de-France</td>\n",
       "        <td>France</td>\n",
       "        <td>75008</td>\n",
       "    </tr>\n",
       "</table>"
      ],
      "text/plain": [
       "[('0', '10001', 'Pablo Picasso', '+34 636 17 63 82', '-', 'Paseo de la Chopera, 14', 'Madrid', 'Madrid', 'Spain', '28045'),\n",
       " ('1', '20001', 'Abraham Lincoln', '+1 305 907 7086', '-', '120 SW 8th St', 'Miami', 'Florida', 'United States', '33130'),\n",
       " ('2', '30001', 'Napoléon Bonaparte', '+33 1 79 75 40 00', '-', '40 Rue du Colisée', 'Paris', 'Île-de-France', 'France', '75008')]"
      ]
     },
     "execution_count": 54,
     "metadata": {},
     "output_type": "execute_result"
    }
   ],
   "source": [
    "%%sql \n",
    "SELECT * FROM Customer;"
   ]
  },
  {
   "cell_type": "code",
   "execution_count": 57,
   "id": "91c4aa73",
   "metadata": {},
   "outputs": [
    {
     "name": "stdout",
     "output_type": "stream",
     "text": [
      " * sqlite:///lab_sqlite.db\n",
      "1 rows affected.\n"
     ]
    },
    {
     "data": {
      "text/plain": [
       "[]"
      ]
     },
     "execution_count": 57,
     "metadata": {},
     "output_type": "execute_result"
    }
   ],
   "source": [
    "%%sql\n",
    "UPDATE Customer\n",
    "SET email='ppicasso@gmail.com'\n",
    "WHERE customer_id= 10001;"
   ]
  },
  {
   "cell_type": "code",
   "execution_count": 59,
   "id": "398682ea",
   "metadata": {},
   "outputs": [
    {
     "name": "stdout",
     "output_type": "stream",
     "text": [
      " * sqlite:///lab_sqlite.db\n",
      "1 rows affected.\n"
     ]
    },
    {
     "data": {
      "text/plain": [
       "[]"
      ]
     },
     "execution_count": 59,
     "metadata": {},
     "output_type": "execute_result"
    }
   ],
   "source": [
    "%%sql\n",
    "UPDATE Customer\n",
    "SET email='lincoln@us.gov'\n",
    "WHERE customer_id= 20001;"
   ]
  },
  {
   "cell_type": "code",
   "execution_count": 60,
   "id": "b7a01a72",
   "metadata": {},
   "outputs": [
    {
     "name": "stdout",
     "output_type": "stream",
     "text": [
      " * sqlite:///lab_sqlite.db\n",
      "1 rows affected.\n"
     ]
    },
    {
     "data": {
      "text/plain": [
       "[]"
      ]
     },
     "execution_count": 60,
     "metadata": {},
     "output_type": "execute_result"
    }
   ],
   "source": [
    "%%sql\n",
    "UPDATE Customer\n",
    "SET email='hello@napoleon.me'\n",
    "WHERE customer_id= 30001;"
   ]
  },
  {
   "cell_type": "code",
   "execution_count": 64,
   "id": "f2870f48",
   "metadata": {},
   "outputs": [
    {
     "name": "stdout",
     "output_type": "stream",
     "text": [
      " * sqlite:///lab_sqlite.db\n",
      "1 rows affected.\n"
     ]
    },
    {
     "data": {
      "text/plain": [
       "[]"
      ]
     },
     "execution_count": 64,
     "metadata": {},
     "output_type": "execute_result"
    }
   ],
   "source": [
    "%%sql\n",
    "DELETE FROM Cars\n",
    "WHERE id= 4;"
   ]
  },
  {
   "cell_type": "code",
   "execution_count": 65,
   "id": "6535f6c1",
   "metadata": {},
   "outputs": [
    {
     "name": "stdout",
     "output_type": "stream",
     "text": [
      " * sqlite:///lab_sqlite.db\n",
      "Done.\n"
     ]
    },
    {
     "data": {
      "text/html": [
       "<table>\n",
       "    <tr>\n",
       "        <th>id</th>\n",
       "        <th>vin</th>\n",
       "        <th>manufacturer</th>\n",
       "        <th>model</th>\n",
       "        <th>year</th>\n",
       "        <th>color</th>\n",
       "    </tr>\n",
       "    <tr>\n",
       "        <td>0</td>\n",
       "        <td>3K096I98581DHSNUP</td>\n",
       "        <td>Volkswagen</td>\n",
       "        <td>Tiguan</td>\n",
       "        <td>2019</td>\n",
       "        <td>Blue</td>\n",
       "    </tr>\n",
       "    <tr>\n",
       "        <td>1</td>\n",
       "        <td>ZM8G7BEUQZ97IH46V</td>\n",
       "        <td>Peugeot</td>\n",
       "        <td>Rifter</td>\n",
       "        <td>2019</td>\n",
       "        <td>Red</td>\n",
       "    </tr>\n",
       "    <tr>\n",
       "        <td>2</td>\n",
       "        <td>RKXVNNIHLVVZOUB4M</td>\n",
       "        <td>Ford</td>\n",
       "        <td>Fusion</td>\n",
       "        <td>2018</td>\n",
       "        <td>White</td>\n",
       "    </tr>\n",
       "    <tr>\n",
       "        <td>3</td>\n",
       "        <td>HKNDGS7CU31E9Z7JW</td>\n",
       "        <td>Toyota</td>\n",
       "        <td>R4V4</td>\n",
       "        <td>2018</td>\n",
       "        <td>Silver</td>\n",
       "    </tr>\n",
       "    <tr>\n",
       "        <td>5</td>\n",
       "        <td>DAM41UDN3CHU2WVF6</td>\n",
       "        <td>Volvo</td>\n",
       "        <td>V60 Cross Country</td>\n",
       "        <td>2019</td>\n",
       "        <td>Gray</td>\n",
       "    </tr>\n",
       "</table>"
      ],
      "text/plain": [
       "[('0', '3K096I98581DHSNUP', 'Volkswagen', 'Tiguan', '2019', 'Blue'),\n",
       " ('1', 'ZM8G7BEUQZ97IH46V', 'Peugeot', 'Rifter', '2019', 'Red'),\n",
       " ('2', 'RKXVNNIHLVVZOUB4M', 'Ford', 'Fusion', '2018', 'White'),\n",
       " ('3', 'HKNDGS7CU31E9Z7JW', 'Toyota', 'R4V4', '2018', 'Silver'),\n",
       " ('5', 'DAM41UDN3CHU2WVF6', 'Volvo', 'V60 Cross Country', '2019', 'Gray')]"
      ]
     },
     "execution_count": 65,
     "metadata": {},
     "output_type": "execute_result"
    }
   ],
   "source": [
    "%%sql\n",
    "\n",
    "SELECT * FROM CARS"
   ]
  },
  {
   "cell_type": "code",
   "execution_count": null,
   "id": "5f0f130b",
   "metadata": {},
   "outputs": [],
   "source": []
  }
 ],
 "metadata": {
  "kernelspec": {
   "display_name": "Python 3 (ipykernel)",
   "language": "python",
   "name": "python3"
  },
  "language_info": {
   "codemirror_mode": {
    "name": "ipython",
    "version": 3
   },
   "file_extension": ".py",
   "mimetype": "text/x-python",
   "name": "python",
   "nbconvert_exporter": "python",
   "pygments_lexer": "ipython3",
   "version": "3.9.12"
  }
 },
 "nbformat": 4,
 "nbformat_minor": 5
}
