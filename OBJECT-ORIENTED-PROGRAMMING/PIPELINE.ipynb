{
 "cells": [
  {
   "cell_type": "code",
   "execution_count": 1,
   "id": "13d8d90c",
   "metadata": {},
   "outputs": [],
   "source": [
    "from viking_clases import *"
   ]
  },
  {
   "cell_type": "code",
   "execution_count": 2,
   "id": "87cf4e00",
   "metadata": {},
   "outputs": [],
   "source": [
    "Chuchito = Soldier(1000,40)"
   ]
  },
  {
   "cell_type": "code",
   "execution_count": 3,
   "id": "79ae56bf",
   "metadata": {},
   "outputs": [
    {
     "data": {
      "text/plain": [
       "40"
      ]
     },
     "execution_count": 3,
     "metadata": {},
     "output_type": "execute_result"
    }
   ],
   "source": [
    "Chuchito.attack()"
   ]
  },
  {
   "cell_type": "code",
   "execution_count": 4,
   "id": "0b65d3de",
   "metadata": {},
   "outputs": [],
   "source": [
    "Chuchito.receive_damage(350)"
   ]
  },
  {
   "cell_type": "code",
   "execution_count": 5,
   "id": "53263e56",
   "metadata": {},
   "outputs": [],
   "source": [
    "Juan = Viking('Juan',1000,600)"
   ]
  },
  {
   "cell_type": "code",
   "execution_count": 6,
   "id": "a8110b5d",
   "metadata": {},
   "outputs": [
    {
     "data": {
      "text/plain": [
       "600"
      ]
     },
     "execution_count": 6,
     "metadata": {},
     "output_type": "execute_result"
    }
   ],
   "source": [
    "Juan.attack()"
   ]
  },
  {
   "cell_type": "code",
   "execution_count": 7,
   "id": "b6591518",
   "metadata": {},
   "outputs": [
    {
     "data": {
      "text/plain": [
       "'Juan has recieved 500 points of damage'"
      ]
     },
     "execution_count": 7,
     "metadata": {},
     "output_type": "execute_result"
    }
   ],
   "source": [
    "Juan.receive_damage(500)"
   ]
  },
  {
   "cell_type": "code",
   "execution_count": 8,
   "id": "0efa8252",
   "metadata": {},
   "outputs": [
    {
     "data": {
      "text/plain": [
       "'Odin Owns You All'"
      ]
     },
     "execution_count": 8,
     "metadata": {},
     "output_type": "execute_result"
    }
   ],
   "source": [
    "Juan.battle_cry()"
   ]
  },
  {
   "cell_type": "code",
   "execution_count": 9,
   "id": "2de323ee",
   "metadata": {},
   "outputs": [],
   "source": [
    "Josh=Saxon(900,400)"
   ]
  },
  {
   "cell_type": "code",
   "execution_count": 10,
   "id": "c4dca738",
   "metadata": {},
   "outputs": [
    {
     "data": {
      "text/plain": [
       "400"
      ]
     },
     "execution_count": 10,
     "metadata": {},
     "output_type": "execute_result"
    }
   ],
   "source": [
    "Josh.attack()"
   ]
  },
  {
   "cell_type": "code",
   "execution_count": 11,
   "id": "e084c841",
   "metadata": {},
   "outputs": [
    {
     "data": {
      "text/plain": [
       "'A Saxon has died in combat'"
      ]
     },
     "execution_count": 11,
     "metadata": {},
     "output_type": "execute_result"
    }
   ],
   "source": [
    "Josh.receive_damage(900)\n"
   ]
  },
  {
   "cell_type": "code",
   "execution_count": 12,
   "id": "953f4fa4",
   "metadata": {
    "scrolled": true
   },
   "outputs": [
    {
     "data": {
      "text/plain": [
       "'Odin Owns You All'"
      ]
     },
     "execution_count": 12,
     "metadata": {},
     "output_type": "execute_result"
    }
   ],
   "source": [
    "Juan.battle_cry()"
   ]
  },
  {
   "cell_type": "code",
   "execution_count": 13,
   "id": "50425159",
   "metadata": {},
   "outputs": [],
   "source": [
    "Cold=War()"
   ]
  },
  {
   "cell_type": "code",
   "execution_count": 14,
   "id": "55d51412",
   "metadata": {},
   "outputs": [],
   "source": [
    "Cold.add_viking(Viking('Pepe',1000,600))"
   ]
  },
  {
   "cell_type": "code",
   "execution_count": 15,
   "id": "6e01fc76",
   "metadata": {},
   "outputs": [],
   "source": [
    "Cold.add_saxon(Saxon(800,600))\n",
    "Cold.add_saxon(Saxon(1000,500))\n",
    "Cold.add_viking(Viking('Junior',600,500))"
   ]
  },
  {
   "cell_type": "code",
   "execution_count": 16,
   "id": "4e359920",
   "metadata": {},
   "outputs": [
    {
     "data": {
      "text/plain": [
       "'Pepe has recieved 500 points of damage'"
      ]
     },
     "execution_count": 16,
     "metadata": {},
     "output_type": "execute_result"
    }
   ],
   "source": [
    "Cold.saxon_attack()"
   ]
  },
  {
   "cell_type": "code",
   "execution_count": 19,
   "id": "0c23f025",
   "metadata": {},
   "outputs": [
    {
     "name": "stdout",
     "output_type": "stream",
     "text": [
      "Vikings have won the war of the century!\n"
     ]
    }
   ],
   "source": [
    "while True:\n",
    "    \n",
    "    if not Cold.viking_army:\n",
    "        print(Cold.show_status())\n",
    "        break\n",
    "    \n",
    "    Cold.viking_attack()\n",
    "    \n",
    "    if not Cold.saxon_army:\n",
    "        print(Cold.show_status())\n",
    "        break \n",
    "         \n",
    "    Cold.saxon_attack()"
   ]
  },
  {
   "cell_type": "code",
   "execution_count": null,
   "id": "80e6cbf2",
   "metadata": {},
   "outputs": [],
   "source": []
  }
 ],
 "metadata": {
  "kernelspec": {
   "display_name": "Python 3 (ipykernel)",
   "language": "python",
   "name": "python3"
  },
  "language_info": {
   "codemirror_mode": {
    "name": "ipython",
    "version": 3
   },
   "file_extension": ".py",
   "mimetype": "text/x-python",
   "name": "python",
   "nbconvert_exporter": "python",
   "pygments_lexer": "ipython3",
   "version": "3.9.12"
  }
 },
 "nbformat": 4,
 "nbformat_minor": 5
}
