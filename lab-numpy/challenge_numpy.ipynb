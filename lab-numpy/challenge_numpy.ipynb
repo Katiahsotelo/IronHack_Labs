{
 "cells": [
  {
   "cell_type": "markdown",
   "id": "e4afe3c5",
   "metadata": {},
   "source": [
    "#1. Import the NUMPY package under the name np.\n"
   ]
  },
  {
   "cell_type": "code",
   "execution_count": 1,
   "id": "2de78d4d",
   "metadata": {},
   "outputs": [],
   "source": [
    "import numpy as np"
   ]
  },
  {
   "cell_type": "code",
   "execution_count": 2,
   "id": "add933e8",
   "metadata": {},
   "outputs": [
    {
     "name": "stdout",
     "output_type": "stream",
     "text": [
      "1.21.5\n",
      "blas_mkl_info:\n",
      "    libraries = ['mkl_rt', 'pthread']\n",
      "    library_dirs = ['/Users/katiahernandez/opt/anaconda3/lib']\n",
      "    define_macros = [('SCIPY_MKL_H', None), ('HAVE_CBLAS', None)]\n",
      "    include_dirs = ['/Users/katiahernandez/opt/anaconda3/include']\n",
      "blas_opt_info:\n",
      "    libraries = ['mkl_rt', 'pthread']\n",
      "    library_dirs = ['/Users/katiahernandez/opt/anaconda3/lib']\n",
      "    define_macros = [('SCIPY_MKL_H', None), ('HAVE_CBLAS', None)]\n",
      "    include_dirs = ['/Users/katiahernandez/opt/anaconda3/include']\n",
      "lapack_mkl_info:\n",
      "    libraries = ['mkl_rt', 'pthread']\n",
      "    library_dirs = ['/Users/katiahernandez/opt/anaconda3/lib']\n",
      "    define_macros = [('SCIPY_MKL_H', None), ('HAVE_CBLAS', None)]\n",
      "    include_dirs = ['/Users/katiahernandez/opt/anaconda3/include']\n",
      "lapack_opt_info:\n",
      "    libraries = ['mkl_rt', 'pthread']\n",
      "    library_dirs = ['/Users/katiahernandez/opt/anaconda3/lib']\n",
      "    define_macros = [('SCIPY_MKL_H', None), ('HAVE_CBLAS', None)]\n",
      "    include_dirs = ['/Users/katiahernandez/opt/anaconda3/include']\n",
      "Supported SIMD extensions in this NumPy install:\n",
      "    baseline = SSE,SSE2,SSE3\n",
      "    found = SSSE3,SSE41,POPCNT,SSE42\n",
      "    not found = AVX,F16C,FMA3,AVX2,AVX512F,AVX512CD,AVX512_KNL,AVX512_SKX,AVX512_CLX,AVX512_CNL,AVX512_ICL\n",
      "None\n"
     ]
    }
   ],
   "source": [
    "#2 Print the NUMPY version and the configuration.\n",
    "print(np.__version__)\n",
    "print(np.show_config())"
   ]
  },
  {
   "cell_type": "code",
   "execution_count": 3,
   "id": "e477a847",
   "metadata": {},
   "outputs": [],
   "source": [
    "#3. Generate a 2x3x5 3-dimensional array with random values. Assign the array to variable \"a\"\n",
    "# Challenge: there are at least three easy ways that use numpy to generate random arrays. \n",
    "#How many ways can you find?\n"
   ]
  },
  {
   "cell_type": "code",
   "execution_count": 4,
   "id": "7eec26e0",
   "metadata": {},
   "outputs": [
    {
     "name": "stdout",
     "output_type": "stream",
     "text": [
      "[[[0.43781872 0.91891541 0.9195965  0.9723995  0.57015458]\n",
      "  [0.80909802 0.6145649  0.5950401  0.55052922 0.10084693]\n",
      "  [0.20146299 0.42454451 0.58370606 0.11051345 0.20130278]]\n",
      "\n",
      " [[0.0232622  0.28397695 0.59154202 0.41574285 0.81865561]\n",
      "  [0.13506442 0.83783085 0.44549155 0.7160454  0.38397941]\n",
      "  [0.93948895 0.38028427 0.27798533 0.88667407 0.81044128]]]\n"
     ]
    }
   ],
   "source": [
    "#1) random de flotantes \n",
    "a = np.random.random((2,3,5))\n",
    "print(a)"
   ]
  },
  {
   "cell_type": "code",
   "execution_count": 5,
   "id": "d33e2d0c",
   "metadata": {},
   "outputs": [
    {
     "name": "stdout",
     "output_type": "stream",
     "text": [
      "[[[0.61012608 0.03172831 0.60475481 0.56562241 0.55894995]\n",
      "  [0.80273284 0.18017594 0.66009251 0.88805807 0.62756779]\n",
      "  [0.61260411 0.40076805 0.55305643 0.79052092 0.2850397 ]]\n",
      "\n",
      " [[0.02951182 0.81311737 0.68319725 0.39057919 0.23299573]\n",
      "  [0.92742678 0.50088952 0.79855415 0.89020049 0.82161606]\n",
      "  [0.42860503 0.34087354 0.69403303 0.75529106 0.3006247 ]]]\n"
     ]
    }
   ],
   "source": [
    "#2) flotantes de distribución estándar normal \n",
    "a = np.random.rand(2,3,5)\n",
    "print(a)"
   ]
  },
  {
   "cell_type": "code",
   "execution_count": 18,
   "id": "36a89f56",
   "metadata": {},
   "outputs": [
    {
     "name": "stdout",
     "output_type": "stream",
     "text": [
      "[[[78 41 13 26 56]\n",
      "  [13 15 79 81 38]\n",
      "  [26  3 92 73 47]]\n",
      "\n",
      " [[81  1 95 43 63]\n",
      "  [57 37 75 84 13]\n",
      "  [28 13 24 91  3]]]\n"
     ]
    }
   ],
   "source": [
    "#3) números enteros \n",
    "a = np.random.randint(100, size=(2,3,5))\n",
    "print(a)"
   ]
  },
  {
   "cell_type": "code",
   "execution_count": 19,
   "id": "421f240d",
   "metadata": {},
   "outputs": [
    {
     "name": "stdout",
     "output_type": "stream",
     "text": [
      "[[[1. 1.]\n",
      "  [1. 1.]\n",
      "  [1. 1.]]\n",
      "\n",
      " [[1. 1.]\n",
      "  [1. 1.]\n",
      "  [1. 1.]]\n",
      "\n",
      " [[1. 1.]\n",
      "  [1. 1.]\n",
      "  [1. 1.]]\n",
      "\n",
      " [[1. 1.]\n",
      "  [1. 1.]\n",
      "  [1. 1.]]\n",
      "\n",
      " [[1. 1.]\n",
      "  [1. 1.]\n",
      "  [1. 1.]]]\n"
     ]
    }
   ],
   "source": [
    "#5. Create a 5x3x2 3-dimensional array with all values equaling 1.\n",
    "#Assign the array to variable \"b\"\n",
    "\n",
    "b = np.ones((5,3,2))\n",
    "\n",
    "print(b)"
   ]
  },
  {
   "cell_type": "code",
   "execution_count": 20,
   "id": "6b7cdf41",
   "metadata": {},
   "outputs": [
    {
     "name": "stdout",
     "output_type": "stream",
     "text": [
      "30\n",
      "30\n"
     ]
    }
   ],
   "source": [
    "#7. Do a and b have the same size? How do you prove that in Python code?\n",
    "# Si son del mismo tamaño \n",
    "print(b.size)\n",
    "print(a.size)"
   ]
  },
  {
   "cell_type": "code",
   "execution_count": 21,
   "id": "981f12e5",
   "metadata": {},
   "outputs": [
    {
     "ename": "ValueError",
     "evalue": "operands could not be broadcast together with shapes (2,3,5) (5,3,2) ",
     "output_type": "error",
     "traceback": [
      "\u001b[0;31m---------------------------------------------------------------------------\u001b[0m",
      "\u001b[0;31mValueError\u001b[0m                                Traceback (most recent call last)",
      "Input \u001b[0;32mIn [21]\u001b[0m, in \u001b[0;36m<cell line: 3>\u001b[0;34m()\u001b[0m\n\u001b[1;32m      1\u001b[0m \u001b[38;5;66;03m#8. Are you able to add a and b? Why or why not?\u001b[39;00m\n\u001b[1;32m      2\u001b[0m \u001b[38;5;66;03m#No se puede sumar las matrices, no tienen la misma forma\u001b[39;00m\n\u001b[0;32m----> 3\u001b[0m \u001b[38;5;28mprint\u001b[39m(\u001b[43mnp\u001b[49m\u001b[38;5;241;43m.\u001b[39;49m\u001b[43madd\u001b[49m\u001b[43m(\u001b[49m\u001b[43ma\u001b[49m\u001b[43m,\u001b[49m\u001b[43mb\u001b[49m\u001b[43m)\u001b[49m)\n",
      "\u001b[0;31mValueError\u001b[0m: operands could not be broadcast together with shapes (2,3,5) (5,3,2) "
     ]
    }
   ],
   "source": [
    "#8. Are you able to add a and b? Why or why not?\n",
    "#No se puede sumar las matrices, no tienen la misma forma\n",
    "print(np.add(a,b))"
   ]
  },
  {
   "cell_type": "code",
   "execution_count": 22,
   "id": "e4ea59a4",
   "metadata": {},
   "outputs": [
    {
     "name": "stdout",
     "output_type": "stream",
     "text": [
      "(2, 3, 5)\n",
      "(2, 3, 5)\n"
     ]
    }
   ],
   "source": [
    "\n",
    "#9. Transpose b so that it has the same structure of a \n",
    "#(i.e. become a 2x3x5 array).\n",
    "# Assign the transposed array to varialbe\"c\".\n",
    "\n",
    "c =np.transpose(b)\n",
    "print(c.shape)\n",
    "print(a.shape)\n"
   ]
  },
  {
   "cell_type": "code",
   "execution_count": null,
   "id": "51107d98",
   "metadata": {},
   "outputs": [],
   "source": []
  },
  {
   "cell_type": "code",
   "execution_count": 23,
   "id": "5ed87ccc",
   "metadata": {},
   "outputs": [],
   "source": [
    "#10. Try to add a and c. Now it should work. \n",
    "#Assign the sum to varialbe \"d\". But why does it work now?\n",
    "\n",
    "#Ahora tiene la misma forma (2,3,5)\n",
    "\n",
    "d = np.add(a,c)"
   ]
  },
  {
   "cell_type": "code",
   "execution_count": 24,
   "id": "1fbf155a",
   "metadata": {},
   "outputs": [],
   "source": [
    "#11. Print a and d. Notice the difference and relation \n",
    "#of the two array in terms of the values? Explain.\n"
   ]
  },
  {
   "cell_type": "code",
   "execution_count": 25,
   "id": "69498f4b",
   "metadata": {},
   "outputs": [
    {
     "name": "stdout",
     "output_type": "stream",
     "text": [
      "[[[78 41 13 26 56]\n",
      "  [13 15 79 81 38]\n",
      "  [26  3 92 73 47]]\n",
      "\n",
      " [[81  1 95 43 63]\n",
      "  [57 37 75 84 13]\n",
      "  [28 13 24 91  3]]]\n"
     ]
    }
   ],
   "source": [
    "print(a)"
   ]
  },
  {
   "cell_type": "code",
   "execution_count": 26,
   "id": "de163aa4",
   "metadata": {},
   "outputs": [
    {
     "name": "stdout",
     "output_type": "stream",
     "text": [
      "[[[79. 42. 14. 27. 57.]\n",
      "  [14. 16. 80. 82. 39.]\n",
      "  [27.  4. 93. 74. 48.]]\n",
      "\n",
      " [[82.  2. 96. 44. 64.]\n",
      "  [58. 38. 76. 85. 14.]\n",
      "  [29. 14. 25. 92.  4.]]]\n"
     ]
    }
   ],
   "source": [
    "print(d)"
   ]
  },
  {
   "cell_type": "code",
   "execution_count": 27,
   "id": "433e8953",
   "metadata": {},
   "outputs": [],
   "source": [
    "# La matriz d es mayor que la a por 1 unidad en todos sus valores "
   ]
  },
  {
   "cell_type": "code",
   "execution_count": 28,
   "id": "a0c58e95",
   "metadata": {},
   "outputs": [
    {
     "name": "stdout",
     "output_type": "stream",
     "text": [
      "[[[78. 41. 13. 26. 56.]\n",
      "  [13. 15. 79. 81. 38.]\n",
      "  [26.  3. 92. 73. 47.]]\n",
      "\n",
      " [[81.  1. 95. 43. 63.]\n",
      "  [57. 37. 75. 84. 13.]\n",
      "  [28. 13. 24. 91.  3.]]]\n"
     ]
    }
   ],
   "source": [
    "#12. Multiply a and c. Assign the result to e.\n",
    "e = np.multiply(a,c)\n",
    "print(e)"
   ]
  },
  {
   "cell_type": "code",
   "execution_count": 29,
   "id": "e208f372",
   "metadata": {},
   "outputs": [],
   "source": [
    "#13. Does e equal to a? Why or why not?\n",
    "#Son los mismo valores, solamente multiplicamos a los valores de \"a\"x1"
   ]
  },
  {
   "cell_type": "code",
   "execution_count": 30,
   "id": "e9bf8d30",
   "metadata": {},
   "outputs": [
    {
     "name": "stdout",
     "output_type": "stream",
     "text": [
      "[[[78 41 13 26 56]\n",
      "  [13 15 79 81 38]\n",
      "  [26  3 92 73 47]]\n",
      "\n",
      " [[81  1 95 43 63]\n",
      "  [57 37 75 84 13]\n",
      "  [28 13 24 91  3]]]\n"
     ]
    }
   ],
   "source": [
    "print(a)"
   ]
  },
  {
   "cell_type": "code",
   "execution_count": 31,
   "id": "a6f2535b",
   "metadata": {},
   "outputs": [],
   "source": [
    "#14. Identify the max, min, and mean values in d.\n",
    "#Assign those values to variables \"d_max\", \n",
    "#\"d_min\", and \"d_mean\""
   ]
  },
  {
   "cell_type": "code",
   "execution_count": 32,
   "id": "edf38c77",
   "metadata": {},
   "outputs": [
    {
     "name": "stdout",
     "output_type": "stream",
     "text": [
      "96.0\n"
     ]
    }
   ],
   "source": [
    "d_max=np.max(d)\n",
    "print(d_max)"
   ]
  },
  {
   "cell_type": "code",
   "execution_count": 33,
   "id": "a359b1a9",
   "metadata": {},
   "outputs": [
    {
     "name": "stdout",
     "output_type": "stream",
     "text": [
      "2.0\n"
     ]
    }
   ],
   "source": [
    "d_min =np.min(d)\n",
    "print(d_min)"
   ]
  },
  {
   "cell_type": "code",
   "execution_count": 34,
   "id": "b7288067",
   "metadata": {},
   "outputs": [
    {
     "name": "stdout",
     "output_type": "stream",
     "text": [
      "47.3\n"
     ]
    }
   ],
   "source": [
    "d_mean =np.mean(d)\n",
    "print(d_mean)"
   ]
  },
  {
   "cell_type": "code",
   "execution_count": 35,
   "id": "3cc19dc2",
   "metadata": {},
   "outputs": [],
   "source": [
    "#15. Now we want to label the values in d.\n",
    "#First create an empty array \"f\" with the same shape \n",
    "#(i.e. 2x3x5) as d using `np.empty`"
   ]
  },
  {
   "cell_type": "code",
   "execution_count": 36,
   "id": "d508f5e3",
   "metadata": {},
   "outputs": [
    {
     "name": "stdout",
     "output_type": "stream",
     "text": [
      "[[[78. 41. 13. 26. 56.]\n",
      "  [13. 15. 79. 81. 38.]\n",
      "  [26.  3. 92. 73. 47.]]\n",
      "\n",
      " [[81.  1. 95. 43. 63.]\n",
      "  [57. 37. 75. 84. 13.]\n",
      "  [28. 13. 24. 91.  3.]]]\n"
     ]
    }
   ],
   "source": [
    "f = np.empty([2,3,5])\n",
    "print(f)"
   ]
  },
  {
   "cell_type": "code",
   "execution_count": 37,
   "id": "a02a24c8",
   "metadata": {},
   "outputs": [],
   "source": [
    "#16. Populate the values in f. #\n",
    "#For each value in d, if it's larger than d_min but smaller than d_mean, assign 25 to the corresponding value in f.\n",
    "#If a value in d is larger than d_mean but smaller than d_max, assign 75 to the corresponding value in f.\n",
    "#If a value equals to d_mean, assign 50 to the corresponding value in f.\n",
    "#Assign 0 to the corresponding value(s) in f for d_min in d.\n",
    "#Assign 100 to the corresponding value(s) in f for d_max in d.\n",
    "#In the end, f should have only the following values: 0, 25, 50, 75, and 100.\n",
    "#Note: you don't have to use Numpy in this question.\n",
    "\n",
    "\n"
   ]
  },
  {
   "cell_type": "code",
   "execution_count": 38,
   "id": "3a987884",
   "metadata": {},
   "outputs": [
    {
     "name": "stdout",
     "output_type": "stream",
     "text": [
      "[[[78. 41. 13. 26. 56.]\n",
      "  [13. 15. 79. 81. 38.]\n",
      "  [26.  3. 92. 73. 47.]]\n",
      "\n",
      " [[81.  1. 95. 43. 63.]\n",
      "  [57. 37. 75. 84. 13.]\n",
      "  [28. 13. 24. 91.  3.]]]\n"
     ]
    }
   ],
   "source": [
    "f = np.empty([2,3,5])\n",
    "print(f)"
   ]
  },
  {
   "cell_type": "code",
   "execution_count": 55,
   "id": "4c6b9154",
   "metadata": {},
   "outputs": [
    {
     "name": "stdout",
     "output_type": "stream",
     "text": [
      "96.0\n",
      "47.3\n",
      "2.0\n"
     ]
    }
   ],
   "source": [
    "d_max=np.max(d)\n",
    "d_mean=np.mean(d)\n",
    "d_min=np.min(d)\n",
    "print(d_max)\n",
    "print(d_mean)\n",
    "print(d_min)"
   ]
  },
  {
   "cell_type": "code",
   "execution_count": 63,
   "id": "aa30b0bf",
   "metadata": {},
   "outputs": [],
   "source": [
    "# Para agregar valores a un array vacío se usa  range() \n",
    "\n",
    "\n",
    "#For each value in d, if it's larger than d_min but smaller than d_mean, assign 25 to the corresponding value in f.\n",
    "\n",
    "\n",
    "#If a value in d is larger than d_mean but smaller than d_max, assign 75 to the corresponding value in f.\n",
    "\n",
    "#If a value equals to d_mean, assign 50 to the corresponding value in f.\n",
    "#Assign 0 to the corresponding value(s) in f for d_min in d.\n",
    "#Assign 100 to the corresponding value(s) in f for d_max in d.\n",
    "#In the end, f should have only the following values: 0, 25, 50, 75, and 100.\n",
    "#Note: you don't have to use Numpy in this question.\n",
    "\n",
    "\n",
    "\n",
    "\n",
    "for i in range(2):\n",
    "    for x in range(3):\n",
    "        for y in range(5) :\n",
    "            if d_min<d[i][x][y]<d_mean:\n",
    "                f[i][x][y]=25\n",
    "            elif d_mean<d[i][x][y]<d_max: \n",
    "                f[i][x][y] = 50    \n",
    "            elif d[i][x][y] == d_mean: \n",
    "                f[i][x][y] = 50\n",
    "            elif d[i][x][y] == d_min:\n",
    "                f[i][x][y] = 0\n",
    "            elif d[i][x][y] == d_max:\n",
    "                f[i][x][y] = 100\n",
    "            \n",
    "\n",
    "                # remplazae elemento[i][x][elemento] in f\n",
    "                \n",
    "                \n",
    "               "
   ]
  },
  {
   "cell_type": "code",
   "execution_count": 64,
   "id": "8e0e38de",
   "metadata": {},
   "outputs": [
    {
     "name": "stdout",
     "output_type": "stream",
     "text": [
      "[[[ 50.  25.  25.  25.  50.]\n",
      "  [ 25.  25.  50.  50.  25.]\n",
      "  [ 25.  25.  50.  50.  50.]]\n",
      "\n",
      " [[ 50.   0. 100.  25.  50.]\n",
      "  [ 50.  25.  50.  50.  25.]\n",
      "  [ 25.  25.  25.  50.  25.]]]\n"
     ]
    }
   ],
   "source": [
    "#17. Print d and f. Do you have your expected f? Yes :)\n",
    "print(f)"
   ]
  },
  {
   "cell_type": "code",
   "execution_count": 89,
   "id": "57bf7e4f",
   "metadata": {},
   "outputs": [],
   "source": [
    "#18. Bonus question: instead of using numbers (i.e. 0, 25, 50, 75, and 100), how to use string values \n",
    "#(\"A\", \"B\", \"C\", \"D\", and \"E\") to label the array elements? You are expecting the result to be:\n",
    "\n",
    "ff = []\n",
    "    \n",
    "for i in range(2):\n",
    "    for x in range(3):\n",
    "        for y in range(5) :\n",
    "            if d_min<d[i][x][y]<d_mean:\n",
    "                ff.append('A')\n",
    "            elif d_mean<d[i][x][y]<d_max: \n",
    "                ff.append('B')   \n",
    "            elif d[i][x][y] == d_mean: \n",
    "                ff.append('C')\n",
    "            elif d[i][x][y] == d_min:\n",
    "                ff.append('D')\n",
    "            elif d[i][x][y] == d_max:\n",
    "                ff.append('E')"
   ]
  },
  {
   "cell_type": "code",
   "execution_count": 93,
   "id": "900bab9b",
   "metadata": {},
   "outputs": [
    {
     "name": "stdout",
     "output_type": "stream",
     "text": [
      "['B' 'A' 'A' 'A' 'B' 'A' 'A' 'B' 'B' 'A' 'A' 'A' 'B' 'B' 'B' 'B' 'D' 'E'\n",
      " 'A' 'B' 'B' 'A' 'B' 'B' 'A' 'A' 'A' 'A' 'B' 'A']\n"
     ]
    }
   ],
   "source": [
    "#Solo pude utilizando numpy \n",
    "abc = np.array(ff)\n",
    "print(abc)\n"
   ]
  },
  {
   "cell_type": "code",
   "execution_count": 94,
   "id": "5bedd632",
   "metadata": {},
   "outputs": [
    {
     "data": {
      "text/plain": [
       "array([[['B', 'A', 'A', 'A', 'B'],\n",
       "        ['A', 'A', 'B', 'B', 'A'],\n",
       "        ['A', 'A', 'B', 'B', 'B']],\n",
       "\n",
       "       [['B', 'D', 'E', 'A', 'B'],\n",
       "        ['B', 'A', 'B', 'B', 'A'],\n",
       "        ['A', 'A', 'A', 'B', 'A']]], dtype='<U1')"
      ]
     },
     "execution_count": 94,
     "metadata": {},
     "output_type": "execute_result"
    }
   ],
   "source": [
    "np.reshape(abc, (2,3,5))"
   ]
  },
  {
   "cell_type": "code",
   "execution_count": null,
   "id": "06a0395b",
   "metadata": {},
   "outputs": [],
   "source": []
  }
 ],
 "metadata": {
  "kernelspec": {
   "display_name": "Python 3 (ipykernel)",
   "language": "python",
   "name": "python3"
  },
  "language_info": {
   "codemirror_mode": {
    "name": "ipython",
    "version": 3
   },
   "file_extension": ".py",
   "mimetype": "text/x-python",
   "name": "python",
   "nbconvert_exporter": "python",
   "pygments_lexer": "ipython3",
   "version": "3.9.12"
  }
 },
 "nbformat": 4,
 "nbformat_minor": 5
}
