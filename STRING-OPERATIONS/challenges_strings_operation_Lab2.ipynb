{
 "cells": [
  {
   "cell_type": "code",
   "execution_count": 93,
   "id": "5c0d6842",
   "metadata": {},
   "outputs": [],
   "source": [
    "#We need to create a BoW from a list of documents. \n",
    "#The documents (doc1.txt, doc2.txt, and doc3.txt\n",
    "\n",
    "docs = ['lab-string-operations/your-code/doc1.txt','lab-string-operations/your-code/doc2.txt', 'lab-string-operations/your-code/doc3.txt' ]"
   ]
  },
  {
   "cell_type": "code",
   "execution_count": 94,
   "id": "f626f242",
   "metadata": {},
   "outputs": [
    {
     "name": "stdout",
     "output_type": "stream",
     "text": [
      "['Ironhack is cool.', 'I love Ironhack.', 'I am a student at Ironhack.']\n"
     ]
    }
   ],
   "source": [
    "corpus=[]\n",
    "\n",
    "for doc in docs:\n",
    "    archivo= open(doc, 'r')\n",
    "    string= archivo.read()\n",
    "    string =''.join(car for car in string)\n",
    "    corpus.append(string)\n",
    "    archivo.close()\n",
    "print(corpus)\n"
   ]
  },
  {
   "cell_type": "code",
   "execution_count": 97,
   "id": "d01a2f6d",
   "metadata": {},
   "outputs": [
    {
     "name": "stdout",
     "output_type": "stream",
     "text": [
      "['ironhack is cool', 'i love ironhack', 'i am a student at ironhack']\n"
     ]
    }
   ],
   "source": [
    "#Write your code below to process corpus (convert to lower case and remove special characters).\n",
    "\n",
    "corpus = [i.lower() for i in corpus]\n",
    "corpus1 = [i.replace('.','') for i in corpus]\n",
    "print(corpus1)\n",
    "\n"
   ]
  },
  {
   "cell_type": "code",
   "execution_count": 98,
   "id": "2b900d51",
   "metadata": {},
   "outputs": [
    {
     "name": "stdout",
     "output_type": "stream",
     "text": [
      "['ironhack', 'is', 'cool', 'i', 'love', 'am', 'a', 'student', 'at']\n"
     ]
    }
   ],
   "source": [
    "#Now define bag_of_words as an empty array. It will be used to store the unique terms in corpus.\n",
    "#Loop through corpus. In each loop, do the following:\n",
    "#Break the string into an array of terms.\n",
    "#Create a sub-loop to iterate the terms array.\n",
    "#In each sub-loop, you'll check if the current term is already contained in bag_of_words. \n",
    "#If not in bag_of_words, append it to the array.\n",
    "\n",
    "bag_of_words = []\n",
    "\n",
    "for i in corpus1: \n",
    "        c = i.split()\n",
    "        for i in c:\n",
    "            if i not in bag_of_words:        \n",
    "                bag_of_words.append(i)\n",
    "print(bag_of_words)\n",
    "     \n",
    "    \n"
   ]
  },
  {
   "cell_type": "code",
   "execution_count": 104,
   "id": "d876da26",
   "metadata": {},
   "outputs": [
    {
     "name": "stdout",
     "output_type": "stream",
     "text": [
      "[[1, 1, 1, 1, 0, 0, 1, 0, 0], [1, 0, 0, 1, 1, 0, 1, 0, 0], [1, 0, 0, 1, 0, 1, 1, 1, 1]]\n"
     ]
    }
   ],
   "source": [
    "#Now we define an empty array called term_freq. Loop corpus for a second time. \n",
    "#In each loop, create a sub-loop to iterate the terms in bag_of_words. \n",
    "#Count how many times each term appears in each doc of corpus. \n",
    "#Append the term-frequency array to term_freq.\n",
    "\n",
    "import re\n",
    "\n",
    "term_freq = []\n",
    "\n",
    "for frase in corpus1: \n",
    "    terms = []\n",
    "    for word in bag_of_words:\n",
    "        if word in frase:\n",
    "            terms.append(1)\n",
    "        else :\n",
    "            terms.append(0)\n",
    "            \n",
    "    term_freq.append(terms)\n",
    "\n",
    "print(term_freq)\n",
    "\n",
    "     \n",
    "        \n",
    "#[[1, 1, 1, 0, 0, 0, 0, 0, 0], [1, 0, 0, 1, 1, 0, 0, 0, 0], [1, 0, 0, 1, 0, 1, 1, 1, 1]]"
   ]
  },
  {
   "cell_type": "markdown",
   "id": "d8b957d6",
   "metadata": {},
   "source": [
    "1)Combine all your previous codes to the cell below.\n",
    "2)Improve your solution by ignoring stop words in bag_of_words.\n",
    "\n",
    "After you're done, your bag_of_words should be:\n",
    "\n",
    "['ironhack', 'cool', 'love', 'student']\n",
    "\n",
    "And your term_freq should be:\n",
    "\n",
    "[[1, 1, 0, 0], [1, 0, 1, 0], [1, 0, 0, 1]]"
   ]
  },
  {
   "cell_type": "code",
   "execution_count": 106,
   "id": "cc18751c",
   "metadata": {},
   "outputs": [],
   "source": [
    "stop_words = ['all', 'six', 'less', 'being', 'indeed', 'over', 'move', 'anyway', 'fifty', 'four', 'not', 'own', 'through', 'yourselves', 'go', 'where', 'mill', 'only', 'find', 'before', 'one', 'whose', 'system', 'how', 'somewhere', 'with', 'thick', 'show', 'had', 'enough', 'should', 'to', 'must', 'whom', 'seeming', 'under', 'ours', 'has', 'might', 'thereafter', 'latterly', 'do', 'them', 'his', 'around', 'than', 'get', 'very', 'de', 'none', 'cannot', 'every', 'whether', 'they', 'front', 'during', 'thus', 'now', 'him', 'nor', 'name', 'several', 'hereafter', 'always', 'who', 'cry', 'whither', 'this', 'someone', 'either', 'each', 'become', 'thereupon', 'sometime', 'side', 'two', 'therein', 'twelve', 'because', 'often', 'ten', 'our', 'eg', 'some', 'back', 'up', 'namely', 'towards', 'are', 'further', 'beyond', 'ourselves', 'yet', 'out', 'even', 'will', 'what', 'still', 'for', 'bottom', 'mine', 'since', 'please', 'forty', 'per', 'its', 'everything', 'behind', 'un', 'above', 'between', 'it', 'neither', 'seemed', 'ever', 'across', 'she', 'somehow', 'be', 'we', 'full', 'never', 'sixty', 'however', 'here', 'otherwise', 'were', 'whereupon', 'nowhere', 'although', 'found', 'alone', 're', 'along', 'fifteen', 'by', 'both', 'about', 'last', 'would', 'anything', 'via', 'many', 'could', 'thence', 'put', 'against', 'keep', 'etc', 'amount', 'became', 'ltd', 'hence', 'onto', 'or', 'con', 'among', 'already', 'co', 'afterwards', 'formerly', 'within', 'seems', 'into', 'others', 'while', 'whatever', 'except', 'down', 'hers', 'everyone', 'done', 'least', 'another', 'whoever', 'moreover', 'couldnt', 'throughout', 'anyhow', 'yourself', 'three', 'from', 'her', 'few', 'together', 'top', 'there', 'due', 'been', 'next', 'anyone', 'eleven', 'much', 'call', 'therefore', 'interest', 'then', 'thru', 'themselves', 'hundred', 'was', 'sincere', 'empty', 'more', 'himself', 'elsewhere', 'mostly', 'on', 'fire', 'am', 'becoming', 'hereby', 'amongst', 'else', 'part', 'everywhere', 'too', 'herself', 'former', 'those', 'he', 'me', 'myself', 'made', 'twenty', 'these', 'bill', 'cant', 'us', 'until', 'besides', 'nevertheless', 'below', 'anywhere', 'nine', 'can', 'of', 'your', 'toward', 'my', 'something', 'and', 'whereafter', 'whenever', 'give', 'almost', 'wherever', 'is', 'describe', 'beforehand', 'herein', 'an', 'as', 'itself', 'at', 'have', 'in', 'seem', 'whence', 'ie', 'any', 'fill', 'again', 'hasnt', 'inc', 'thereby', 'thin', 'no', 'perhaps', 'latter', 'meanwhile', 'when', 'detail', 'same', 'wherein', 'beside', 'also', 'that', 'other', 'take', 'which', 'becomes', 'you', 'if', 'nobody', 'see', 'though', 'may', 'after', 'upon', 'most', 'hereupon', 'eight', 'but', 'serious', 'nothing', 'such', 'why', 'a', 'off', 'whereby', 'third', 'i', 'whole', 'noone', 'sometimes', 'well', 'amoungst', 'yours', 'their', 'rather', 'without', 'so', 'five', 'the', 'first', 'whereas', 'once']\n"
   ]
  },
  {
   "cell_type": "code",
   "execution_count": 113,
   "id": "218b18f3",
   "metadata": {},
   "outputs": [
    {
     "name": "stdout",
     "output_type": "stream",
     "text": [
      "['ironhack', 'cool', 'love', 'student']\n"
     ]
    }
   ],
   "source": [
    "lista_nueva = [i for i in bag_of_words if i not in stop_words]\n",
    "print(lista_nueva)\n",
    "        "
   ]
  },
  {
   "cell_type": "code",
   "execution_count": 114,
   "id": "9103d0be",
   "metadata": {},
   "outputs": [
    {
     "name": "stdout",
     "output_type": "stream",
     "text": [
      "[[1, 1, 0, 0], [1, 0, 1, 0], [1, 0, 0, 1]]\n"
     ]
    }
   ],
   "source": [
    "term_freq = []\n",
    "\n",
    "for frase in corpus1: \n",
    "    terms = []\n",
    "    for word in lista_nueva:\n",
    "        if word in frase:\n",
    "            terms.append(1)\n",
    "        else :\n",
    "            terms.append(0)\n",
    "            \n",
    "    term_freq.append(terms)\n",
    "\n",
    "print(term_freq)\n"
   ]
  },
  {
   "cell_type": "code",
   "execution_count": null,
   "id": "9a2cc54d",
   "metadata": {},
   "outputs": [],
   "source": [
    "#To install Scikit-Learn, use pip install sklearn.\n",
    "#Scikit-Learn removes stop words by default. You don't need to manually remove stop words.\n",
    "#Scikit-Learn's output has slightly different format from the output example demonstrated above. \n",
    "#It's ok, you don't need to convert the Scikit-Learn output.\n",
    "#The Scikit-Learn output will look like below:\n",
    "\n"
   ]
  },
  {
   "cell_type": "code",
   "execution_count": 115,
   "id": "32ab425c",
   "metadata": {},
   "outputs": [
    {
     "name": "stdout",
     "output_type": "stream",
     "text": [
      "Collecting sklearn\n",
      "  Downloading sklearn-0.0.tar.gz (1.1 kB)\n",
      "Requirement already satisfied: scikit-learn in /Users/katiahernandez/opt/anaconda3/lib/python3.9/site-packages (from sklearn) (1.0.2)\n",
      "Requirement already satisfied: joblib>=0.11 in /Users/katiahernandez/opt/anaconda3/lib/python3.9/site-packages (from scikit-learn->sklearn) (1.1.0)\n",
      "Requirement already satisfied: threadpoolctl>=2.0.0 in /Users/katiahernandez/opt/anaconda3/lib/python3.9/site-packages (from scikit-learn->sklearn) (2.2.0)\n",
      "Requirement already satisfied: numpy>=1.14.6 in /Users/katiahernandez/opt/anaconda3/lib/python3.9/site-packages (from scikit-learn->sklearn) (1.21.5)\n",
      "Requirement already satisfied: scipy>=1.1.0 in /Users/katiahernandez/opt/anaconda3/lib/python3.9/site-packages (from scikit-learn->sklearn) (1.7.3)\n",
      "Building wheels for collected packages: sklearn\n",
      "  Building wheel for sklearn (setup.py) ... \u001b[?25ldone\n",
      "\u001b[?25h  Created wheel for sklearn: filename=sklearn-0.0-py2.py3-none-any.whl size=1310 sha256=a4d99f0fd5e0be69406a021a5a2bd521adec1de473f5cc79ec7e3129ba78170d\n",
      "  Stored in directory: /Users/katiahernandez/Library/Caches/pip/wheels/e4/7b/98/b6466d71b8d738a0c547008b9eb39bf8676d1ff6ca4b22af1c\n",
      "Successfully built sklearn\n",
      "Installing collected packages: sklearn\n",
      "Successfully installed sklearn-0.0\n",
      "Note: you may need to restart the kernel to use updated packages.\n"
     ]
    }
   ],
   "source": [
    "pip install sklearn"
   ]
  },
  {
   "cell_type": "code",
   "execution_count": 128,
   "id": "459ac14f",
   "metadata": {},
   "outputs": [
    {
     "name": "stdout",
     "output_type": "stream",
     "text": [
      "['am' 'at' 'cool' 'ironhack' 'is' 'love' 'student']\n",
      "[[0 0 1 1 1 0 0]\n",
      " [0 0 0 1 0 1 0]\n",
      " [1 1 0 1 0 0 1]]\n",
      "{'ironhack': 3, 'is': 4, 'cool': 2, 'love': 5, 'am': 0, 'student': 6, 'at': 1}\n"
     ]
    }
   ],
   "source": [
    "from sklearn.feature_extraction.text import CountVectorizer\n",
    "\n",
    "vectorizer = CountVectorizer()\n",
    "x = vectorizer.fit_transform(corpus1)\n",
    "print (vectorizer.get_feature_names_out())\n",
    "print(x.toarray())\n",
    "print(vectorizer.vocabulary_)\n"
   ]
  },
  {
   "cell_type": "code",
   "execution_count": null,
   "id": "99181a97",
   "metadata": {},
   "outputs": [],
   "source": []
  }
 ],
 "metadata": {
  "kernelspec": {
   "display_name": "Python 3 (ipykernel)",
   "language": "python",
   "name": "python3"
  },
  "language_info": {
   "codemirror_mode": {
    "name": "ipython",
    "version": 3
   },
   "file_extension": ".py",
   "mimetype": "text/x-python",
   "name": "python",
   "nbconvert_exporter": "python",
   "pygments_lexer": "ipython3",
   "version": "3.9.12"
  }
 },
 "nbformat": 4,
 "nbformat_minor": 5
}
